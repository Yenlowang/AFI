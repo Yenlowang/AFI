{
 "cells": [
  {
   "cell_type": "markdown",
   "metadata": {
    "colab_type": "text",
    "id": "aqHbFpoXv7Jj"
   },
   "source": [
    "En esta celda definimos los objetos curva de Tipos de Interés.\n",
    "\n",
    "\n",
    "1.   **Curva estática ( IRCurve)**: Ésta curva es independiente de modelo y sería la que Bootstrapearíamos de precios de IRS. Es una interpolación en splines de logaritmo de Factores de Descuento.\n",
    "\n",
    "2.   **Curva del LGM (LGMCurve) **: Se trata de una curva dinámica (de acuerdo al LGM). En un instante futuro, esta curva depende de la curva estática y del valor que pudiera tomar la variable x.\n",
    "\n",
    "\n",
    "# **Curva LGM**\n",
    "\n",
    "Sea \n",
    "\n",
    "$$\n",
    "dx_t = \\sigma dW^{\\mathcal{N}}_t \\;\\;\\;\\; s.t \\;\\;\\;\\; x(0) = 0\n",
    "$$\n",
    "\n",
    "la dinámica de la variable que establece el comportamiento de la curva de tipos de interés.\n",
    "\n",
    "El modelo LGM, establece la relación que existe entre esta variable y el numerario a una fecha futura.\n",
    "\n",
    "$$\n",
    "N(t, x_t) = \\frac{1}{B(0, t)} exp \\bigg( -H_t x_t - \\frac{1}{2} H_t^2 \\zeta_t \\bigg)\n",
    "$$\n",
    "\n",
    "donde $B(0, t)$ es el factor de descuento a vencimiento $t$ con la curva estática. $H_t = \\frac{1-e^{-\\kappa t}}{\\kappa}$\n",
    "\n",
    "En clase demostramos que, dado el numeraio, el factor de descuento (según LGM) a una feha futura, $B(t, T, x_t)$ , como función de $x_t$ venía dado como,\n",
    "\n",
    "$$\n",
    "B(t, T, x_t) = \\frac{B(0, T)}{B(0, t)} exp\\bigg( - \\left( H_T - H_t \\right) x_t - \\frac{1}{2} \\left( H_T^2 - H_t^2\\right) \\zeta_t \\bigg)\n",
    "$$\n",
    "\n",
    "\n",
    "$ \\textbf{Pregunta 1: Demostrar la ecuación de arriba.}$\n",
    "\n",
    "$ \\textbf{Pregunta 2: Explica cómo impacta  $H_t$ o $\\kappa$ en la forma de la curva.}$\n"
   ]
  },
  {
   "cell_type": "code",
   "execution_count": 100,
   "metadata": {
    "colab": {},
    "colab_type": "code",
    "collapsed": true,
    "id": "MTd-1UqVwUBD"
   },
   "outputs": [],
   "source": [
    "\n",
    "##########################################################\n",
    "#\n",
    "#     NO ES NECESARIO TOCAR ESTA FUNCIÓN\n",
    "#\n",
    "##########################################################\n",
    "\n",
    "\n",
    "import numpy as np\n",
    "from scipy.interpolate import interp1d\n",
    "import scipy as sc\n",
    "import matplotlib.pyplot as plt\n",
    "import pandas as pd\n",
    "%matplotlib inline\n",
    "\n",
    "plt.style.use('default')\n",
    "\n",
    "# ------------------------------------------------\n",
    "\n",
    "# Clase Curva\n",
    "class IRCurve:\n",
    "  \n",
    "  # CONSTRUCTOR (Da vida a la clase)\n",
    "  def __init__(self, dates, dfs):\n",
    "    self._ref_date = dates[0]\n",
    "    self._dfs = dfs\n",
    "    self._times = (dates - dates[0]) / 365.25\n",
    "    self._rates_time = -np.log(dfs)\n",
    "    self._curve = interp1d(self._times, self._rates_time, kind = 'cubic')\n",
    "  \n",
    "  # Devuelve B(t, T) = B(0, T) / B(0, t)\n",
    "  def get_zero(self, t, T):\n",
    "    B_0_T = np.exp(-self._curve((T-self._ref_date)/365.25))\n",
    "    B_0_t = np.exp(-self._curve((t-self._ref_date)/365.25))\n",
    "    \n",
    "    return B_0_T / B_0_t\n",
    "  \n",
    " # -----------------------------------------------------\n",
    " \n",
    "def H(kappa, time):\n",
    "  return (1 - np.exp(-kappa * time)) / kappa\n",
    "  \n",
    "  \n",
    "# Definición de la clase LGM\n",
    "class LGMCurve:\n",
    "\n",
    "  # CONSTRUCTOR\n",
    "  def __init__(self, IR_curve, kappa, sigma):\n",
    "    self._curve = IR_curve\n",
    "    self._kappa = kappa\n",
    "    self._sigma = sigma\n",
    "\n",
    "  # Numerario: N(t, xt)\n",
    "  def numeraire(self, t, xt):\n",
    "\n",
    "    time_to_t = (t - self._curve._ref_date) / 365.25\n",
    "    ht = H(self._kappa, time_to_t)\n",
    "    zeta_t = (self._sigma ** 2) * time_to_t\n",
    "\n",
    "    exponent = ht * xt + 0.5 * (ht**2) * zeta_t\n",
    "\n",
    "    return 1 / self._curve.get_zero(self._curve._ref_date, t) \\\n",
    "            * np.exp(exponent)\n",
    "  \n",
    "  # B(t, T, xt)\n",
    "  def get_zero_x(self, t, T, xt):\n",
    "\n",
    "    time_to_t = (t - self._curve._ref_date) / 365.25\n",
    "    time_to_T = (T - self._curve._ref_date) / 365.25\n",
    "\n",
    "    ht = H(self._kappa, time_to_t)\n",
    "    hT = H(self._kappa, time_to_T)\n",
    "\n",
    "    zeta = (self._sigma * self._sigma) * time_to_t\n",
    "\n",
    "    df = self._curve.get_zero(t, T) \n",
    "    exponent = (hT -ht ) * xt + 0.5 * (hT * hT - ht * ht) * zeta \n",
    "\n",
    "    df *= np.exp(-exponent)\n",
    "\n",
    "    return df\n",
    "    \n",
    "    \n",
    " # -----------------------------------------------------"
   ]
  },
  {
   "cell_type": "markdown",
   "metadata": {
    "colab_type": "text",
    "id": "fOG7Ebqc21TZ"
   },
   "source": [
    "**En la siguiente celda, inicializamos la fecha valor (today) y la curva estática (ir_curve). A lo largo de todo el ejercicio utilizaremos la misma curva**\n",
    "\n"
   ]
  },
  {
   "cell_type": "code",
   "execution_count": 101,
   "metadata": {
    "colab": {},
    "colab_type": "code",
    "collapsed": true,
    "id": "O9r775Eo24ip"
   },
   "outputs": [],
   "source": [
    "\n",
    "\n",
    "\n",
    "#################################################################################\n",
    "\n",
    "today = 43561 # 6 de Abril de 2019\n",
    "last_date = today + 365.25 * 40\n",
    "\n",
    "# Defino las fechas pilar para los factores de desceunto ...\n",
    "pillar_dates = np.linspace(today, last_date, 50)\n",
    "\n",
    "# Defino los rates como curva no plana\n",
    "dates_rates = np.array([today, today + 365, today + 365 * 5, today + 365 * 10, \\\n",
    "                       today +365 * 20, today + 365 * 30, today + 365 * 50])\n",
    "rates = np.array([0.0, 0.005, 0.01, 0.015, 0.02, 0.025, 0.028])\n",
    "\n",
    "# Calculo los FD de acuerdo a esa estructura no plana de tipos\n",
    "dfs = np.zeros(len(pillar_dates))\n",
    "rate_interp = interp1d(dates_rates, rates, kind = 'linear')\n",
    "for i in range( len(pillar_dates)):\n",
    "  rate = rate_interp(pillar_dates[i])\n",
    "  dfs[i] = (np.exp(-rate * (pillar_dates[i] - today)/ 365.25))\n",
    "\n",
    "# Definimos IR Curve (Curva original)  \n",
    "ir_curve = IRCurve(pillar_dates, dfs)\n",
    "\n",
    "#################################################################################\n",
    "\n",
    "\n",
    "\n"
   ]
  },
  {
   "cell_type": "markdown",
   "metadata": {
    "colab_type": "text",
    "id": "Q6_wXtjwQrsw"
   },
   "source": [
    "\n",
    "# **Función de valoración de un Swaption de acuerdo al LGM**\n",
    "\n",
    "Supongamos un Call-Money-Swap cuya fecha de comienzo denotamos por $T_a$ y última fecha de pago es $T_b$. Supongamos una opción que nos da derecho a entrar en ese IRS en la fecha $T_a$. La prima forward de este swaption (de acuerdo al LGM) puede expresarse como:\n",
    "\n",
    "\\begin{equation}\n",
    "\\frac{V_t}{B(t, T_a)} = E^\\mathcal{N}\\left(  \\left( 1- B(T_a, T_b, x(T_a)) - K \\sum_{j=1}^N \\Delta_j B(T_a, T_j, x(T_a)) \\right)^+ \\bigg| \\mathcal{F}_t \\right) \n",
    "\\end{equation}\n",
    "\n",
    "Vimos en clase, que como el valor de este IRS es monótono en $x(T_a)$, podemos buscar el valor $x^{*}$ para el cual, \n",
    "\n",
    "$$\n",
    "1- B(T_a, T_b, x^*) - K \\sum_{j=1}^N \\Delta_j B(T_a, T_j, x^*) = 0\n",
    "$$\n",
    "\n",
    "\n",
    "Aplicando ésto, la prima forward puede expresarse como, \n",
    "\n",
    "\\begin{equation}\n",
    "\\frac{V_t}{B(t, T_a)} = E^\\mathcal{N}\\left(  \\left( B(T_a, T_b, x^*)- B(T_a, T_b, x(T_a)) \\right) ^+ \\bigg| \\mathcal{F}_t \\right) - K \\sum_{j=1}^N \\Delta_j  E^\\mathcal{N}\\left(\\left( B(T_a, T_j, x^*) -  B(T_a, T_j, x(T_a)) \\right)^+ \\bigg| \\mathcal{F}_t \\right) \n",
    "\\end{equation}\n",
    "\n",
    "\n",
    "\n",
    "Finalmente, vimos en clase que la función de valoración podríamos expresarla en función de Black-Scholes como\n",
    "\n",
    "\\begin{equation}\n",
    "\\frac{V_t}{B(t, T_a)} = \\sum_{j=1}^N  \\omega_j BS^{LN}\\bigg( \\text{forward} =  \\frac{B(t, T_j)}{B(t, T_a)},  \\text{strike} = B(T_a, T_j,  x^*), \\text{mty} = T_a, \\text{varianza} = \\sigma^2 \\left( H_{T_a} - H_{T_j}\\right)^2 \\bigg) \n",
    "\\end{equation}\n",
    "\n",
    "donde \n",
    "\n",
    "$$\n",
    "\\omega_j=\\left\\{\n",
    "                \\begin{array}{ll}\n",
    "                  K\\Delta_j & \\text{si} & j = 1, \\ldots, N - 1\\\\\n",
    "                  1 + K \\Delta_N & \\text{si} & j = N\\\\\n",
    "                \\end{array}\n",
    "              \\right.\n",
    "$$\n",
    "\n",
    "\n",
    "# **EJERCICIO 1**\n",
    "\n",
    "Calcular el precio de un swaption payer ATM ($T_a = \\text{today} + 5Y$, $T_b = T_a + 10Y$) de acuerdo al LGM ($\\sigma = 1\\%$, $\\kappa = 1 \\%$), de acuerdo a los siguientes métodos:\n",
    "\n",
    "\n",
    "\n",
    "1.   Función Analítica: Ésta es la que describimos más arriba, y cuya función ponemos en la siguiente celda.\n",
    "2.   MC: Simula por MC la variable $x(T_a)$ y calcula \n",
    "$$\n",
    "\\frac{1}{B(t, T_a)}E_t \\left( \\frac{ IRS(T_a, x(T_a))^+}{N(T_a, x(Ta))} \\bigg| \\mathcal{F}_t \\right)\n",
    "$$\n",
    "\n",
    "Calcula también el intervalo de confianza al 95%\n",
    "3. Calcula el precio por integral numérica, \n",
    "\n",
    "$$\n",
    "\\frac{1}{B(t, T_a)} \\int_{-\\infty}^{\\infty} \\frac{ IRS(T_a, x)^+}{N(T_a, x)} \\eta_{x(T_a)}(x) dx\n",
    "$$\n",
    "\n",
    "Tratad de relacionar (con vuestras palabras) el método 2 y 3.\n",
    "\n",
    "\n",
    "4. Resuelve el precio por integral numérica donde la función de densidad la calcules derivando dos veces la función de valoración del swaption en (1) dos veces.\n",
    "\n",
    "$$\n",
    "V(t) = \\int_{-\\infty}^{\\infty} \\left(S -K \\right)^{+} \\frac{\\partial^2 Swptn}{\\partial K^2}\\bigg|_{K = S}dS\n",
    "$$\n",
    "\n",
    "Donde $Swptn$ es la prima forward del apartado (1)\n",
    "$$\n",
    "Swptn = E^\\mathcal{N}\\left(  \\left( 1- B(T_a, T_b, x(T_a)) - K \\sum_{j=1}^N \\Delta_j B(T_a, T_j, x(T_a)) \\right)^+ \\bigg| \\mathcal{F}_t \\right) \n",
    "$$"
   ]
  },
  {
   "cell_type": "markdown",
   "metadata": {
    "colab_type": "text",
    "id": "XTpmqScD7dnf"
   },
   "source": [
    "En la siguiente celda están definidos:\n",
    "\n",
    "1. El instrumento IRS (IRS)\n",
    "2. La función de valoración de un IRS de acuerdo al LGM (LGM_IRS_Price)\n",
    "3. La función de valoración analítica de un swaption (LGM_Swaption_Price)"
   ]
  },
  {
   "cell_type": "code",
   "execution_count": 102,
   "metadata": {
    "colab": {},
    "colab_type": "code",
    "collapsed": true,
    "id": "IGcZc8clYMR3"
   },
   "outputs": [],
   "source": [
    "\n",
    "# CLASE IRS\n",
    "class IRS:\n",
    "  \n",
    "  def __init__(self, start_date, tenor, freq, fixed_coupon):\n",
    "    self.start_date = start_date\n",
    "    self.end_date = start_date + tenor * 365.25\n",
    "    self.fix_dates = np.linspace(self.start_date, self.end_date, tenor * freq) \n",
    "    self.fixed_coupon = fixed_coupon\n",
    "    self.dcf = (self.fix_dates[1:] - self.fix_dates[0:-1])/360 # Act/360\n",
    "    self.fix_dates = self.fix_dates[1:]\n",
    "\n",
    "# --------------------------------------------------------\n",
    "    \n",
    "# Función que valora el IRS de acuerdo al LGM\n",
    "def LGM_IRS_price(value_date, irs, lgm_curve, x_at_value_date):\n",
    "  \n",
    "  # Pata Flotante\n",
    "  floating_leg = lgm_curve.get_zero_x(value_date, irs.start_date, x_at_value_date) - \\\n",
    "                 lgm_curve.get_zero_x(value_date, irs.end_date, x_at_value_date) \n",
    "    \n",
    "  # Pata Fija\n",
    "  fixed_leg = 0\n",
    "  for i in range(len(irs.fix_dates)):\n",
    "    fixed_leg += irs.dcf[i] * lgm_curve.get_zero_x(value_date, \\\n",
    "                                                   irs.fix_dates[i], x_at_value_date)\n",
    "  \n",
    "  fixed_leg *= irs.fixed_coupon\n",
    "  \n",
    "  return (floating_leg - fixed_leg)\n",
    "\n",
    "# --------------------------------------------------------\n",
    "\n",
    "\n",
    "# Función de valoración del swaption\n",
    "def LGM_Swaption_Price(value_date, irs, lgm_curve):\n",
    "  \n",
    "  # 1. Calculamos x_star tal que IRS(T, x_star) = 0 \n",
    "  T_mat = irs.start_date\n",
    "  f_obj = lambda x : LGM_IRS_price(T_mat, irs, lgm_curve, x)\n",
    "  x_star = optimize.newton(f_obj, 0)\n",
    "  \n",
    "  # Función anidada que calcula la put sobre ZC -------------\n",
    "  def ZC_put(T_j):\n",
    "    # Valoramos la última put sobre ZC\n",
    "    fwd = lgm_curve.get_zero_x(value_date, T_j, 0) / \\\n",
    "          lgm_curve.get_zero_x(value_date, irs.start_date, 0)\n",
    "\n",
    "    # strike B(T, T_N, x_star)\n",
    "    strike = lgm_curve.get_zero_x(irs.start_date, T_j, x_star)\n",
    "\n",
    "    # vol = (H_T - H_T_N) sigma_x\n",
    "    vol = H(lgm_curve._kappa, (irs.start_date - value_date) / 365.25) - \\\n",
    "          H(lgm_curve._kappa, (T_j - value_date) / 365.25)\n",
    "    \n",
    "    vol *= lgm_curve._sigma\n",
    "    \n",
    "    vol = np.abs(vol)\n",
    "\n",
    "    # Llamamos BS - Asume que el proceso de la parte que varía del IRS (u_t)\n",
    "    # es lognormal es decir dut/ut = (H_tn - H_T)sigma(del LGM)dW^T\n",
    "    last_call = LN_BlackScholes(fwd, strike, \\\n",
    "                               (irs.start_date - value_date)/365.25, vol)\n",
    "    last_put = last_call - (fwd - strike)\n",
    "    \n",
    "    return last_put\n",
    "  # ------------------------------------------------------------\n",
    "  \n",
    "  # Iteramos por todas las fechas de pago del IRS y calculamos \\\n",
    "  # las puts sobre los ZC.\n",
    "  \n",
    "  swaption = 0 \n",
    "  for i in range(len(irs.fix_dates)):\n",
    "    # Calculate put\n",
    "    put = ZC_put(irs.fix_dates[i])\n",
    "    \n",
    "    # Calculate K Delta o (1 + K Delta)\n",
    "    notional = irs.dcf[i] * irs.fixed_coupon \n",
    "    if i == len(irs.fix_dates)-1:\n",
    "      notional += 1 \n",
    "      \n",
    "      \n",
    "    # Actualizamos el precio del swaption\n",
    "    swaption += notional * put\n",
    "  \n",
    "  return swaption\n",
    "  \n",
    "  \n",
    "# ---------------------------------------------------------------\n"
   ]
  },
  {
   "cell_type": "markdown",
   "metadata": {
    "colab_type": "text",
    "id": "CBrP0fjxjWJh"
   },
   "source": [
    "##* RESPUESTA 1*\n",
    "\n",
    "---\n",
    "\n"
   ]
  },
  {
   "cell_type": "markdown",
   "metadata": {
    "colab_type": "text",
    "id": "MnoRywl0jNiX"
   },
   "source": [
    "#### 1) Función Analítica"
   ]
  },
  {
   "cell_type": "code",
   "execution_count": 103,
   "metadata": {
    "colab": {},
    "colab_type": "code",
    "collapsed": true,
    "id": "RgWq5hOKphgc"
   },
   "outputs": [],
   "source": [
    "from scipy.stats import norm\n",
    "\n",
    "# BLACK SCHOLES\n",
    "def LN_BlackScholes(S0, K, T, sigma):\n",
    "  d1 = (np.log(S0/K) + 0.5 *  (sigma**2) * T )/(np.sqrt(T) * sigma)\n",
    "  d2 = d1 - sigma * np.sqrt(T)\n",
    "  \n",
    "  return S0 * norm.cdf(d1) - K * norm.cdf(d2) "
   ]
  },
  {
   "cell_type": "code",
   "execution_count": 104,
   "metadata": {
    "colab": {},
    "colab_type": "code",
    "collapsed": true,
    "id": "jYT6EAiakPtp"
   },
   "outputs": [],
   "source": [
    "# Datos\n",
    "kappa = 0.01\n",
    "sigma = 0.01\n",
    "\n",
    "lgm_curve = LGMCurve(ir_curve, kappa, sigma)\n",
    "\n",
    "tenor = 10\n",
    "freq = 2 # 6M\n",
    "\n",
    "Ta = today + 365.25 * 5  #start date"
   ]
  },
  {
   "cell_type": "code",
   "execution_count": 105,
   "metadata": {
    "colab": {
     "base_uri": "https://localhost:8080/",
     "height": 33
    },
    "colab_type": "code",
    "id": "04b4qxAEr1S8",
    "outputId": "fba7532c-8576-4cf1-bed6-9f29d16f714f"
   },
   "outputs": [
    {
     "name": "stdout",
     "output_type": "stream",
     "text": [
      "Fixed coupon 0.020942532876816206\n"
     ]
    }
   ],
   "source": [
    "# Calculo del strike C que hace que el IRS valga 0 al inicio\n",
    "from scipy import optimize\n",
    "\n",
    "f_obj = lambda C : LGM_IRS_price(today, IRS(Ta, 10,2,C), lgm_curve, 0)\n",
    "C = optimize.newton(f_obj, 0)\n",
    "\n",
    "print('Fixed coupon', C)"
   ]
  },
  {
   "cell_type": "code",
   "execution_count": 106,
   "metadata": {
    "colab": {
     "base_uri": "https://localhost:8080/",
     "height": 33
    },
    "colab_type": "code",
    "id": "Bqv7s9bOr3oh",
    "outputId": "b56a6c01-8353-4e26-d175-a924b7832fba"
   },
   "outputs": [
    {
     "name": "stdout",
     "output_type": "stream",
     "text": [
      "Analytical Swaption premium 0.07315000431655852\n"
     ]
    }
   ],
   "source": [
    "#IRS\n",
    "irs = IRS(Ta, 10, 2, C)\n",
    "\n",
    "# Calculo de la prima en Ta por el método analítico \n",
    "swaption_premium = LGM_Swaption_Price(today, irs, lgm_curve)\n",
    "print('Analytical Swaption premium', swaption_premium)"
   ]
  },
  {
   "cell_type": "markdown",
   "metadata": {
    "colab_type": "text",
    "id": "z2gTuqgrpvx_"
   },
   "source": [
    "#### 2) Montecarlo"
   ]
  },
  {
   "cell_type": "code",
   "execution_count": 107,
   "metadata": {
    "colab": {
     "base_uri": "https://localhost:8080/",
     "height": 33
    },
    "colab_type": "code",
    "id": "4SZEhUqiiwtK",
    "outputId": "36acd37b-6107-44d0-90c0-0ab48582c952"
   },
   "outputs": [
    {
     "name": "stdout",
     "output_type": "stream",
     "text": [
      "Swaption premium MC 0.07320764813245995\n"
     ]
    }
   ],
   "source": [
    "# Cálculo de la prima por el método de Montecarlo\n",
    "n_sims = 100000\n",
    "x_at_Ta = np.random.normal(size = n_sims) * lgm_curve._sigma * \\\n",
    "            np.sqrt((Ta - today) / 365.25)\n",
    "\n",
    "irs_at_Ta = LGM_IRS_price(Ta, irs, lgm_curve, x_at_Ta)\n",
    "irs_at_Ta /= lgm_curve.numeraire(Ta, x_at_Ta)\n",
    "irs_at_Ta = np.maximum(irs_at_Ta, 0)\n",
    "\n",
    "irs_at_Ta /= ir_curve.get_zero(today, Ta) \n",
    "\n",
    "premium_MC = np.mean(irs_at_Ta) \n",
    "\n",
    "print('Swaption premium MC', premium_MC)"
   ]
  },
  {
   "cell_type": "code",
   "execution_count": 108,
   "metadata": {
    "colab": {
     "base_uri": "https://localhost:8080/",
     "height": 33
    },
    "colab_type": "code",
    "id": "epQCQQMqiww_",
    "outputId": "1977e16b-85e5-42da-84d9-6768c3f0bc74"
   },
   "outputs": [
    {
     "name": "stdout",
     "output_type": "stream",
     "text": [
      "IC (95%): [0.07268386082866496,0.07373143543625493]\n"
     ]
    }
   ],
   "source": [
    "# Calculemos el Intervalo de confianza al 95%\n",
    "std = np.std(irs_at_Ta)\n",
    "\n",
    "print('IC (95%): [' + str(premium_MC + std / np.sqrt(n_sims)*norm.ppf(0.025)) +',' +\n",
    "      str(premium_MC + std / np.sqrt(n_sims)*norm.ppf(0.975))+ ']')"
   ]
  },
  {
   "cell_type": "markdown",
   "metadata": {
    "colab_type": "text",
    "id": "YgQm2knXsK1P"
   },
   "source": [
    "#### 3) Integral numérica"
   ]
  },
  {
   "cell_type": "code",
   "execution_count": 109,
   "metadata": {
    "colab": {
     "base_uri": "https://localhost:8080/",
     "height": 33
    },
    "colab_type": "code",
    "id": "yhxFKXQsiw01",
    "outputId": "1b2333e4-a90c-4e22-9551-831d1da21e53"
   },
   "outputs": [
    {
     "name": "stdout",
     "output_type": "stream",
     "text": [
      "premium_integral 0.07315000431652599\n"
     ]
    }
   ],
   "source": [
    "from scipy.stats import norm\n",
    "import scipy.integrate as integrate\n",
    "\n",
    "# Función que devuelve IRS^{+}(T, X)/N(T, X)f(x) dinde f(x) es la func de dens.\n",
    "def swaption_integrand(x):\n",
    "  \n",
    "  # Evaluamos payoff\n",
    "  irs_at_Ta = LGM_IRS_price(Ta, irs, lgm_curve, x)\n",
    "  irs_at_Ta /= lgm_curve.numeraire(Ta, x)\n",
    "  irs_at_Ta = np.maximum(irs_at_Ta, 0)\n",
    "  \n",
    "  # Evaluamos funcion de densidad\n",
    "  sigma_x =  lgm_curve._sigma * np.sqrt((Ta-today)/365.25)\n",
    "  \n",
    "  pdf = norm.pdf(x, loc=0, scale=sigma_x) \n",
    "    \n",
    "  return irs_at_Ta * pdf\n",
    "\n",
    "f_obj = lambda x : LGM_IRS_price(Ta, irs, lgm_curve, x)\n",
    "x_star = optimize.newton(f_obj, 0)\n",
    "  \n",
    "# Resolvemos el valor del swaption, resolviendo la integral ..\n",
    "premium_integral = integrate.quad(swaption_integrand, x_star, 0.5)\n",
    "premium_integral = premium_integral[0] / ir_curve.get_zero(today, Ta)\n",
    "\n",
    "print('premium_integral', premium_integral)"
   ]
  },
  {
   "cell_type": "markdown",
   "metadata": {
    "colab_type": "text",
    "id": "waNwplsBxDyD"
   },
   "source": [
    "#### 4) Integral numérica (2º método)"
   ]
  },
  {
   "cell_type": "code",
   "execution_count": 110,
   "metadata": {
    "colab": {},
    "colab_type": "code",
    "collapsed": true,
    "id": "-UScBRc-iwqi"
   },
   "outputs": [],
   "source": [
    "# Definimos la función que nos proporciona la función de densidad obtenida al\n",
    "# derivar 2 veces la función de valoración del swaption:\n",
    "\n",
    "def pdf_swaption(K):\n",
    "  \n",
    "  # Cálculo de x_K tal que S(x)=K (el punto de la función delta de Dirac)\n",
    "  f_obj = lambda x : LGM_IRS_price(Ta, IRS(Ta, 10, 2, K), lgm_curve, x)\n",
    "  x_K = optimize.newton(f_obj, 0)\n",
    "    \n",
    "  # A(x_K)\n",
    "  A = 0\n",
    "  for i in range(len(irs.fix_dates)):\n",
    "    A += irs.dcf[i] * lgm_curve.get_zero_x(Ta, irs.fix_dates[i], x_K)\n",
    "\n",
    "  # f_N(x)\n",
    "  sigma_x =  lgm_curve._sigma * np.sqrt((Ta-today)/365.25)\n",
    "  pdf = norm.pdf(x_K, loc=0, scale=sigma_x) \n",
    "    \n",
    "  return A * pdf"
   ]
  },
  {
   "cell_type": "code",
   "execution_count": 111,
   "metadata": {
    "colab": {
     "base_uri": "https://localhost:8080/",
     "height": 33
    },
    "colab_type": "code",
    "id": "mChuEoUwxHZ9",
    "outputId": "e058d3c5-3d66-49a5-952a-4e7f0cf1923a"
   },
   "outputs": [
    {
     "name": "stdout",
     "output_type": "stream",
     "text": [
      "premium_integral (2º Método) 0.07539198591553231\n"
     ]
    }
   ],
   "source": [
    "# Función que nos proporciona el integrando de la integral del apartado 4\n",
    "def swaption_integrand_2(S):\n",
    "    \n",
    "  m = np.maximum(S - C, 0)\n",
    "\n",
    "  return m * pdf_swaption(S)\n",
    "\n",
    "# Resolvemos la integral:\n",
    "premium_integral_2 = integrate.quad(swaption_integrand_2, C, 15)\n",
    "\n",
    "print('premium_integral (2º Método)', premium_integral_2[0])"
   ]
  },
  {
   "cell_type": "markdown",
   "metadata": {
    "colab_type": "text",
    "id": "plQqlXuNjlen"
   },
   "source": [
    "\n",
    "\n",
    "---\n",
    "\n"
   ]
  },
  {
   "cell_type": "markdown",
   "metadata": {
    "colab_type": "text",
    "id": "jom3Pxlpg7VX"
   },
   "source": [
    "# **EJERCICIO 2. **\n",
    "\n",
    "Para el Swaption con las características del ejercicio 1,  ($T_a = \\text{today} + 5Y$, $T_b = T_a + 10Y$) y  de acuerdo al LGM ($\\sigma = 1\\%$, $\\kappa = 1 \\%$),  calculad para los Strikes en ATM difference (ATM Differece = K - Forward) = $-200\\;  bp, -100 \\; bp, -50 \\;  bp, 0 \\; bp, 50 \\; bp, 100 \\; bp, 200 \\; bp$ el precio del Swaption Payer Physical Settled vs Cash-Settled.\n",
    "\n",
    "Recordad que el precio del Swaption Physical-Settled es el que habéis calculado en ejercicio 1. El Pay-Off a vencimiento del Cash-Settled es\n",
    "\n",
    "$$\n",
    "Swptn^\\text{Cash}(T_a) = \\left( S(T_a, x(T_a)) - K \\right)^+ \\sum_{j=1}^N \\frac{ \\Delta_j }{\\left(1 + S(T_a, x(T_a)) \\right)^{(T_j - T_a)}}\n",
    "$$\n",
    "\n",
    "Comparad ambas gráficas y tratad de justificar los resultados.\n",
    "\n",
    "**Nota:** Podéis utilizar el método numérico que consideréis más oportuno. Espero algún comentario en relación a la elección del método.\n",
    "\n"
   ]
  },
  {
   "cell_type": "markdown",
   "metadata": {
    "colab_type": "text",
    "id": "GEIPdJsyxYxV"
   },
   "source": [
    "##* RESPUESTA 2*\n",
    "\n",
    "---"
   ]
  },
  {
   "cell_type": "code",
   "execution_count": 112,
   "metadata": {
    "colab": {},
    "colab_type": "code",
    "collapsed": true,
    "id": "ZZlrdsPzxaB5"
   },
   "outputs": [],
   "source": [
    "# Usaremos el método de MC"
   ]
  },
  {
   "cell_type": "code",
   "execution_count": 113,
   "metadata": {
    "colab": {},
    "colab_type": "code",
    "collapsed": true,
    "id": "hUhV6EEy6ADe"
   },
   "outputs": [],
   "source": [
    "# DATOS\n",
    "\n",
    "# C es el S que teniamos al principio\n",
    "kappa = 0.01\n",
    "sigma = 0.01\n",
    "tenor = 10\n",
    "freq = 2 # 6M\n",
    "Ta = today + 365.25 * 5  #start date\n",
    "n_sims = 100000"
   ]
  },
  {
   "cell_type": "code",
   "execution_count": 114,
   "metadata": {},
   "outputs": [
    {
     "name": "stdout",
     "output_type": "stream",
     "text": [
      "[-0.04323668  0.00711216 -0.00682435 ... -0.00665167  0.0363\n",
      " -0.0235574 ]\n"
     ]
    }
   ],
   "source": [
    "print(x_at_Ta)"
   ]
  },
  {
   "cell_type": "markdown",
   "metadata": {},
   "source": [
    "Definimos la función par_swap - Esta fución hace define el tipo swap en el momento Ta, en función de cada una de las x_at_Ta que hayan ido sucedienddo.\n",
    "\n",
    "Este tipo swap en este momento se compara con el Cupon original definido en t0 (C) al que le aplicaremos la ATM difference"
   ]
  },
  {
   "cell_type": "code",
   "execution_count": 115,
   "metadata": {
    "colab": {},
    "colab_type": "code",
    "collapsed": true,
    "id": "BSMNizloxaJ4"
   },
   "outputs": [],
   "source": [
    "def par_swap(Ta, x_at_Ta):\n",
    "    f_obj = lambda S : LGM_IRS_price(Ta, IRS(Ta, 10, 2, S), lgm_curve, x_at_Ta)\n",
    "    S = optimize.newton(f_obj, 0)\n",
    "    \n",
    "    return S"
   ]
  },
  {
   "cell_type": "code",
   "execution_count": 116,
   "metadata": {
    "colab": {},
    "colab_type": "code",
    "collapsed": true,
    "id": "qyG1GocYHTu3"
   },
   "outputs": [],
   "source": [
    "def physical_settled(K):\n",
    "    \n",
    "    irs = IRS(Ta, 10, 2, K)\n",
    "\n",
    "    swaption_premium = LGM_Swaption_Price(today, irs, lgm_curve)\n",
    "    \n",
    "    return swaption_premium"
   ]
  },
  {
   "cell_type": "markdown",
   "metadata": {},
   "source": [
    "Definimos cash settled, en este caso, se simulan las posibles sendas de X en Ta (es decir, como ha ido evolucionando hasta Ta), se define el valor del par swap bajo esa senda en el momento Ta y se compara con el cupon definido originalmente (C). Nos quedamos con el valor maximo entre los dos.\n",
    "\n",
    "Como se obtiene el valor por MC, es necesario normalizar por el numerario en Ta y bajo cada evolución de X\n",
    "\n",
    "Al ser un valor esperado, se calcula la media.\n",
    "\n",
    "Es para poder obtener esto: \n",
    "$$\n",
    "\\left( S(T_a, x(T_a)) - K \\right)^+\n",
    "$$"
   ]
  },
  {
   "cell_type": "code",
   "execution_count": 117,
   "metadata": {
    "colab": {},
    "colab_type": "code",
    "collapsed": true,
    "id": "HFmkfqe8xbHh"
   },
   "outputs": [],
   "source": [
    "def cash_settled(K, n_sims):\n",
    "\n",
    "    x_at_Ta = np.random.normal(size = n_sims) * lgm_curve._sigma * \\\n",
    "                np.sqrt((Ta - today) / 365.25)\n",
    "\n",
    "    prima_vector = np.zeros(len(x_at_Ta))\n",
    "\n",
    "    for i in range(len(x_at_Ta)):\n",
    "        S = par_swap(Ta, x_at_Ta[i])\n",
    "\n",
    "        A = 0      \n",
    "        for j in range(len(irs.fix_dates)):           \n",
    "            A += irs.dcf[j] /(1+S)**((irs.fix_dates[j] - Ta) / 365.25)\n",
    "\n",
    "        prima_vector[i] = np.max([S - K, 0]) * A  / lgm_curve.numeraire(Ta, x_at_Ta[i])  \n",
    "\n",
    "    prima = np.mean(prima_vector)\n",
    "\n",
    "    # Descontamos a valor de hoy\n",
    "    prima /= ir_curve.get_zero(today, Ta) \n",
    "    \n",
    "    return prima\n"
   ]
  },
  {
   "cell_type": "code",
   "execution_count": 118,
   "metadata": {
    "colab": {},
    "colab_type": "code",
    "id": "HYY6wrZmGQXz"
   },
   "outputs": [],
   "source": [
    "n_sims = 100\n",
    "ATTM_difference_vector = np.array([-0.02, -0.01, -0.005, 0, 0.005, 0.01, 0.02])\n",
    "# C (forward) calculado en el ejercicio 1\n",
    "\n",
    "physical_vector = np.zeros(len(ATTM_difference_vector))\n",
    "cash_vector = np.zeros(len(ATTM_difference_vector))\n",
    "\n",
    "\n",
    "for i in range(len(ATTM_difference_vector)):\n",
    "    \n",
    "    physical_vector[i] = physical_settled(C + ATTM_difference_vector[i])\n",
    "    cash_vector[i] = cash_settled(C + ATTM_difference_vector[i], n_sims)\n"
   ]
  },
  {
   "cell_type": "code",
   "execution_count": 119,
   "metadata": {
    "colab": {
     "base_uri": "https://localhost:8080/",
     "height": 470
    },
    "colab_type": "code",
    "id": "OTY7D8CDBMA3",
    "outputId": "de7e60d6-5ede-459c-d37f-fd59d696f84d"
   },
   "outputs": [
    {
     "data": {
      "text/plain": [
       "<matplotlib.legend.Legend at 0x16dc25c0>"
      ]
     },
     "execution_count": 119,
     "metadata": {},
     "output_type": "execute_result"
    },
    {
     "data": {
      "image/png": "[encoded data removed]",
      "text/plain": [
       "<matplotlib.figure.Figure at 0x16d50898>"
      ]
     },
     "metadata": {},
     "output_type": "display_data"
    }
   ],
   "source": [
    "# Gráfica\n",
    "f, ax =plt.subplots()\n",
    "ax.plot(ATTM_difference_vector, physical_vector, '+', label = 'Physical-Settled')\n",
    "ax.plot(ATTM_difference_vector, cash_vector, '*', label = 'Cash-Settled')\n",
    "ax.set_xlabel('ATM difference (%)')\n",
    "ax.set_ylabel('prima swaption (payer)')\n",
    "ax.legend()"
   ]
  },
  {
   "cell_type": "code",
   "execution_count": 120,
   "metadata": {
    "colab": {},
    "colab_type": "code",
    "collapsed": true,
    "id": "CX8sZ13QUzOu"
   },
   "outputs": [],
   "source": [
    "# Poner los valores (¿Y errores?)"
   ]
  },
  {
   "cell_type": "markdown",
   "metadata": {
    "colab_type": "text",
    "id": "U8iju2OcxSK7"
   },
   "source": [
    "\n",
    "\n",
    "---\n",
    "\n"
   ]
  },
  {
   "cell_type": "markdown",
   "metadata": {
    "colab_type": "text",
    "id": "cszSFyIIOyBL"
   },
   "source": [
    "# **EJERCICIO 3. **\n",
    "\n",
    "Para el Swaption con las características del ejercicio 1,  ($T_a = \\text{today} + 5Y$, $T_b = T_a + 10Y$) , asumamos que el precio del swaption payer de mercado viene establecido por el LGM ($\\sigma = 1\\%$, $\\kappa = 1 \\%$).\n",
    "\n",
    "\n",
    "Para distintos valores de $\\kappa = -5\\%, -3\\%, -1\\%, 1\\%, 3\\%, 5\\%$\n",
    "\n",
    "\n",
    "1. Calculad el nuevo valor de $\\sigma$ tal que el precio del swaption ATM es igual al original ($\\sigma = 1\\%$, $\\kappa = 1 \\%$).\n",
    "2. Pintar el smile de volatilidad en términos normales para los strikes (en ATM difference) $-200\\;  bp, -100 \\; bp, -50 \\;  bp, 0 \\; bp, 50 \\; bp, 100 \\; bp, 200 \\; bp$\n"
   ]
  },
  {
   "cell_type": "code",
   "execution_count": 121,
   "metadata": {
    "colab": {},
    "colab_type": "code",
    "collapsed": true,
    "id": "K_l2qV-QQyk2"
   },
   "outputs": [],
   "source": [
    "from scipy.stats import norm\n",
    "\n",
    "# Fórmula de BS en términos normales. La vais a necesitar para calcular el smile en términos normales.\n",
    "\n",
    "# ----------------------------------------------------------------\n",
    "# EVALUATE BS ..\n",
    "def BS_norm_price(F, K, T, vol):\n",
    "  '''\n",
    "  Normal Black-Scholes\n",
    "  '''\n",
    "  sigma_sqrt_t = vol * np.sqrt(T)\n",
    "  d1 = (F - K) / sigma_sqrt_t\n",
    "  \n",
    "  return (F-K) * norm.cdf(d1) + sigma_sqrt_t * norm.pdf(d1)\n",
    "# ----------------------------------------------------------------"
   ]
  },
  {
   "cell_type": "markdown",
   "metadata": {
    "colab_type": "text",
    "id": "lMBOhHQtxcwv"
   },
   "source": [
    "##* RESPUESTA 3*\n",
    "\n",
    "---"
   ]
  },
  {
   "cell_type": "markdown",
   "metadata": {
    "colab_type": "text",
    "id": "SkgTRZpK7rXs"
   },
   "source": [
    "### 1. Volatilidad equivalente para diferentes $\\kappa$"
   ]
  },
  {
   "cell_type": "code",
   "execution_count": 122,
   "metadata": {
    "colab": {},
    "colab_type": "code",
    "collapsed": true,
    "id": "WX18s1XjxdZt"
   },
   "outputs": [],
   "source": [
    "# DATOS\n",
    "\n",
    "# Guardamos en la variable \"objetivo\" el valor del swaption original. \n",
    "objetivo = swaption_premium\n",
    "\n",
    "# El valor de C está guardado en memoria tras ejecutar la celda correspondiente\n",
    "# del ejercicio 1\n",
    "\n",
    "sigma = 0.01\n",
    "tenor = 10\n",
    "freq = 2 # 6M\n",
    "Ta = today + 365.25 * 5  #start date\n",
    "#IRS\n",
    "irs = IRS(Ta, 10, 2, C)"
   ]
  },
  {
   "cell_type": "code",
   "execution_count": 123,
   "metadata": {
    "colab": {},
    "colab_type": "code",
    "collapsed": true,
    "id": "bub3JD98OFTd"
   },
   "outputs": [],
   "source": [
    "# Función que nos devuelve la volatilidad que nos da el precio original\n",
    "# en función del valor de kappa:\n",
    "\n",
    "def vol_equivalente(objetivo, kappa_2):\n",
    "\n",
    "    f_obj = lambda vol : LGM_Swaption_Price(today, irs, LGMCurve(ir_curve, kappa_2, vol)) - objetivo\n",
    "    vol_eq = optimize.newton(f_obj, 0.01)\n",
    "    \n",
    "    return vol_eq"
   ]
  },
  {
   "cell_type": "code",
   "execution_count": 124,
   "metadata": {
    "colab": {
     "base_uri": "https://localhost:8080/",
     "height": 34
    },
    "colab_type": "code",
    "id": "ugB_V2UqOFXG",
    "outputId": "a4826599-fa4a-43cc-cf5d-003f39578a92"
   },
   "outputs": [
    {
     "data": {
      "text/plain": [
       "0.01"
      ]
     },
     "execution_count": 124,
     "metadata": {},
     "output_type": "execute_result"
    }
   ],
   "source": [
    "# Comprobar que funciona bien para el kappa original:\n",
    "vol_equivalente(objetivo, 0.01)"
   ]
  },
  {
   "cell_type": "code",
   "execution_count": 125,
   "metadata": {
    "colab": {},
    "colab_type": "code",
    "collapsed": true,
    "id": "0PuG3TKTwkPV"
   },
   "outputs": [],
   "source": [
    "kappa_vector = np.array([-0.05, -0.03, -0.01, 0.01, 0.03, 0.05])\n",
    "\n",
    "vol_eq_vector = np.zeros(len(kappa_vector))\n",
    "\n",
    "for i in range(len(kappa_vector)):\n",
    "    vol_eq_vector[i] = vol_equivalente(objetivo, kappa_vector[i])"
   ]
  },
  {
   "cell_type": "code",
   "execution_count": 126,
   "metadata": {
    "colab": {
     "base_uri": "https://localhost:8080/",
     "height": 52
    },
    "colab_type": "code",
    "id": "RUUoLCnbOFak",
    "outputId": "ecf2bf3c-161a-4173-ee1d-4026a7a84564"
   },
   "outputs": [
    {
     "data": {
      "text/plain": [
       "array([0.00549171, 0.0067285 , 0.00821641, 0.01      , 0.01213047,\n",
       "       0.01466651])"
      ]
     },
     "execution_count": 126,
     "metadata": {},
     "output_type": "execute_result"
    }
   ],
   "source": [
    "vol_eq_vector"
   ]
  },
  {
   "cell_type": "code",
   "execution_count": 127,
   "metadata": {
    "colab": {
     "base_uri": "https://localhost:8080/",
     "height": 470
    },
    "colab_type": "code",
    "id": "94tROocgP_Mk",
    "outputId": "83de47bf-62a5-47b2-818d-e29f8ec447c6"
   },
   "outputs": [
    {
     "data": {
      "text/plain": [
       "Text(0,0.5,'Volatilidad Equivalente')"
      ]
     },
     "execution_count": 127,
     "metadata": {},
     "output_type": "execute_result"
    },
    {
     "data": {
      "image/png": "[encoded data removed]",
      "text/plain": [
       "<matplotlib.figure.Figure at 0x170e95f8>"
      ]
     },
     "metadata": {},
     "output_type": "display_data"
    }
   ],
   "source": [
    "# Gráfica\n",
    "f, ax =plt.subplots()\n",
    "ax.plot(kappa_vector, vol_eq_vector, '.')\n",
    "ax.set_xlabel('kappa (%)')\n",
    "ax.set_ylabel('Volatilidad Equivalente')"
   ]
  },
  {
   "cell_type": "markdown",
   "metadata": {
    "colab_type": "text",
    "id": "4A3ymSIjOFwM"
   },
   "source": [
    "### 2. Smile Volatilidad"
   ]
  },
  {
   "cell_type": "code",
   "execution_count": 128,
   "metadata": {},
   "outputs": [
    {
     "name": "stdout",
     "output_type": "stream",
     "text": [
      "0.07315000431655852\n",
      "0.020942532876816206\n"
     ]
    }
   ],
   "source": [
    "print(swaption_premium)\n",
    "print(C)"
   ]
  },
  {
   "cell_type": "markdown",
   "metadata": {},
   "source": [
    "En este caso la función de BS, la vamos a definir bajo las mismas condiciones que en BS_LN, es decir el T = IRS.startdate (Ta) - value date (today)\n",
    "\n",
    "Por otro lado como forward, vamos a definir el forward del contrato, que encontramos en t0, es decir el Cupon (C) que en today (t0) hace que el valor del contrato sea cero, y lo iremos comparando contra los distintos strikes, que son el cupon (C) mas las ATM_difference"
   ]
  },
  {
   "cell_type": "code",
   "execution_count": 129,
   "metadata": {
    "colab": {},
    "colab_type": "code",
    "collapsed": true,
    "id": "faBYqcUwamQ-"
   },
   "outputs": [],
   "source": [
    "def smile(swaption_premium, ATM_difference, C, Ta, today, inicio):\n",
    "\n",
    "    f_objetivo = lambda sigma: BS_norm_price(C, C + ATM_difference, (Ta - today)/365.25, sigma) - swaption_premium\n",
    "    implicit_vol = optimize.newton(f_objetivo, inicio)\n",
    "    \n",
    "    print(\"K \\n\", C)\n",
    "    print(\"k + k_diff = \\n\", C + ATM_difference)\n",
    "    print(sigma)\n",
    "    print(BS_norm_price(C, C + ATM_difference, (Ta - today)/365.25, sigma))\n",
    "    print((Ta-today)/365.25)\n",
    "    \n",
    "    return implicit_vol"
   ]
  },
  {
   "cell_type": "code",
   "execution_count": 130,
   "metadata": {
    "colab": {
     "base_uri": "https://localhost:8080/",
     "height": 34
    },
    "colab_type": "code",
    "id": "sXhMIRKFamOW",
    "outputId": "f269e2e9-9385-487c-9eed-f80d52a718f5"
   },
   "outputs": [
    {
     "name": "stdout",
     "output_type": "stream",
     "text": [
      "K \n",
      " 0.020942532876816206\n",
      "k + k_diff = \n",
      " 0.0009425328768162058\n",
      "0.01\n",
      "0.022268737103137124\n",
      "5.0\n"
     ]
    },
    {
     "data": {
      "text/plain": [
       "0.07022219225543064"
      ]
     },
     "execution_count": 130,
     "metadata": {},
     "output_type": "execute_result"
    }
   ],
   "source": [
    "ATM_difference = -0.02\n",
    "\n",
    "smile(swaption_premium, ATM_difference, C, Ta,today, 0.01)"
   ]
  },
  {
   "cell_type": "code",
   "execution_count": 131,
   "metadata": {
    "colab": {},
    "colab_type": "code",
    "id": "I-4875tTamLl"
   },
   "outputs": [
    {
     "name": "stdout",
     "output_type": "stream",
     "text": [
      "K \n",
      " 0.020942532876816206\n",
      "k + k_diff = \n",
      " 0.0009425328768162058\n",
      "0.01\n",
      "0.022268737103137124\n",
      "5.0\n",
      "K \n",
      " 0.020942532876816206\n",
      "k + k_diff = \n",
      " 0.010942532876816206\n",
      "0.01\n",
      "0.014798107063483926\n",
      "5.0\n",
      "K \n",
      " 0.020942532876816206\n",
      "k + k_diff = \n",
      " 0.015942532876816205\n",
      "0.01\n",
      "0.011642711489467628\n",
      "5.0\n",
      "K \n",
      " 0.020942532876816206\n",
      "k + k_diff = \n",
      " 0.020942532876816206\n",
      "0.01\n",
      "0.008920620580763856\n",
      "5.0\n",
      "K \n",
      " 0.020942532876816206\n",
      "k + k_diff = \n",
      " 0.025942532876816207\n",
      "0.01\n",
      "0.006642711489467627\n",
      "5.0\n",
      "K \n",
      " 0.020942532876816206\n",
      "k + k_diff = \n",
      " 0.030942532876816205\n",
      "0.01\n",
      "0.004798107063483926\n",
      "5.0\n",
      "K \n",
      " 0.020942532876816206\n",
      "k + k_diff = \n",
      " 0.04094253287681621\n",
      "0.01\n",
      "0.002268737103137124\n",
      "5.0\n"
     ]
    }
   ],
   "source": [
    "ATTM_difference_vector = np.array([-0.02, -0.01, -0.005, 0, 0.005, 0.01, 0.02])\n",
    "\n",
    "\n",
    "\n",
    "vol_BS_vector = np.zeros(len(ATTM_difference_vector))\n",
    "\n",
    "for i in range(len(ATTM_difference_vector)):\n",
    "    \n",
    "    vol_BS_vector[i] = smile(swaption_premium, ATTM_difference_vector[i], C, Ta, today, 0.01)\n",
    "    "
   ]
  },
  {
   "cell_type": "code",
   "execution_count": 132,
   "metadata": {},
   "outputs": [
    {
     "data": {
      "text/plain": [
       "array([0.07022219, 0.07626495, 0.07916695, 0.08200103, 0.08477403,\n",
       "       0.08749175, 0.09278022])"
      ]
     },
     "execution_count": 132,
     "metadata": {},
     "output_type": "execute_result"
    }
   ],
   "source": [
    "vol_BS_vector"
   ]
  },
  {
   "cell_type": "code",
   "execution_count": 133,
   "metadata": {
    "colab": {
     "base_uri": "https://localhost:8080/",
     "height": 489
    },
    "colab_type": "code",
    "id": "ENpomZCani3T",
    "outputId": "9af4228d-0f2a-49e1-f72d-e2f52732ec28"
   },
   "outputs": [
    {
     "data": {
      "text/plain": [
       "Text(0.5,1,'Smile de Volatilidad')"
      ]
     },
     "execution_count": 133,
     "metadata": {},
     "output_type": "execute_result"
    },
    {
     "data": {
      "image/png": "[encoded data removed]",
      "text/plain": [
       "<matplotlib.figure.Figure at 0x16f85828>"
      ]
     },
     "metadata": {},
     "output_type": "display_data"
    }
   ],
   "source": [
    "# Gráfica Smile\n",
    "f, ax =plt.subplots()\n",
    "ax.plot(ATTM_difference_vector, vol_BS_vector, '.')\n",
    "ax.set_xlabel('ATM difference (%)')\n",
    "ax.set_ylabel('Volatilidad Implícita')\n",
    "ax.set_title('Smile de Volatilidad')"
   ]
  },
  {
   "cell_type": "code",
   "execution_count": 134,
   "metadata": {
    "colab": {},
    "colab_type": "code",
    "collapsed": true,
    "id": "gGk-W299nodx"
   },
   "outputs": [],
   "source": [
    "# Ampliemos la cantidad de strikes para visualizar el smile"
   ]
  },
  {
   "cell_type": "code",
   "execution_count": 138,
   "metadata": {
    "colab": {},
    "colab_type": "code",
    "id": "kArUYPhLZjLp"
   },
   "outputs": [
    {
     "name": "stdout",
     "output_type": "stream",
     "text": [
      "K \n",
      " 0.020942532876816206\n",
      "k + k_diff = \n",
      " -0.029057467123183797\n",
      "0.01\n",
      "0.05009856616115962\n",
      "5.0\n",
      "K \n",
      " 0.020942532876816206\n",
      "k + k_diff = \n",
      " -0.028047366113082787\n",
      "0.01\n",
      "0.0491020396126615\n",
      "5.0\n",
      "K \n",
      " 0.020942532876816206\n",
      "k + k_diff = \n",
      " -0.027037265102981777\n",
      "0.01\n",
      "0.04810716549778034\n",
      "5.0\n",
      "K \n",
      " 0.020942532876816206\n",
      "k + k_diff = \n",
      " -0.026027164092880768\n",
      "0.01\n",
      "0.0471141138023924\n",
      "5.0\n",
      "K \n",
      " 0.020942532876816206\n",
      "k + k_diff = \n",
      " -0.025017063082779758\n",
      "0.01\n",
      "0.04612306790299552\n",
      "5.0\n",
      "K \n",
      " 0.020942532876816206\n",
      "k + k_diff = \n",
      " -0.024006962072678748\n",
      "0.01\n",
      "0.04513422512912362\n",
      "5.0\n",
      "K \n",
      " 0.020942532876816206\n",
      "k + k_diff = \n",
      " -0.02299686106257774\n",
      "0.01\n",
      "0.04414779729223063\n",
      "5.0\n",
      "K \n",
      " 0.020942532876816206\n",
      "k + k_diff = \n",
      " -0.021986760052476722\n",
      "0.01\n",
      "0.04316401117322988\n",
      "5.0\n",
      "K \n",
      " 0.020942532876816206\n",
      "k + k_diff = \n",
      " -0.02097665904237572\n",
      "0.01\n",
      "0.04218310896055709\n",
      "5.0\n",
      "K \n",
      " 0.020942532876816206\n",
      "k + k_diff = \n",
      " -0.019966558032274703\n",
      "0.01\n",
      "0.041205348630379925\n",
      "5.0\n",
      "K \n",
      " 0.020942532876816206\n",
      "k + k_diff = \n",
      " -0.0189564570221737\n",
      "0.01\n",
      "0.04023100426041662\n",
      "5.0\n",
      "K \n",
      " 0.020942532876816206\n",
      "k + k_diff = \n",
      " -0.017946356012072683\n",
      "0.01\n",
      "0.03926036626875957\n",
      "5.0\n",
      "K \n",
      " 0.020942532876816206\n",
      "k + k_diff = \n",
      " -0.016936255001971674\n",
      "0.01\n",
      "0.038293741569137084\n",
      "5.0\n",
      "K \n",
      " 0.020942532876816206\n",
      "k + k_diff = \n",
      " -0.015926153991870664\n",
      "0.01\n",
      "0.03733145363419609\n",
      "5.0\n",
      "K \n",
      " 0.020942532876816206\n",
      "k + k_diff = \n",
      " -0.014916052981769654\n",
      "0.01\n",
      "0.03637384245865801\n",
      "5.0\n",
      "K \n",
      " 0.020942532876816206\n",
      "k + k_diff = \n",
      " -0.013905951971668645\n",
      "0.01\n",
      "0.03542126441459551\n",
      "5.0\n",
      "K \n",
      " 0.020942532876816206\n",
      "k + k_diff = \n",
      " -0.012895850961567635\n",
      "0.01\n",
      "0.0344740919916031\n",
      "5.0\n",
      "K \n",
      " 0.020942532876816206\n",
      "k + k_diff = \n",
      " -0.011885749951466625\n",
      "0.01\n",
      "0.03353271341529312\n",
      "5.0\n",
      "K \n",
      " 0.020942532876816206\n",
      "k + k_diff = \n",
      " -0.010875648941365616\n",
      "0.01\n",
      "0.032597532138340504\n",
      "5.0\n",
      "K \n",
      " 0.020942532876816206\n",
      "k + k_diff = \n",
      " -0.009865547931264606\n",
      "0.01\n",
      "0.03166896619922282\n",
      "5.0\n",
      "K \n",
      " 0.020942532876816206\n",
      "k + k_diff = \n",
      " -0.008855446921163596\n",
      "0.01\n",
      "0.030747447444853325\n",
      "5.0\n",
      "K \n",
      " 0.020942532876816206\n",
      "k + k_diff = \n",
      " -0.007845345911062583\n",
      "0.01\n",
      "0.029833420614476955\n",
      "5.0\n",
      "K \n",
      " 0.020942532876816206\n",
      "k + k_diff = \n",
      " -0.0068352449009615734\n",
      "0.01\n",
      "0.028927342283483357\n",
      "5.0\n",
      "K \n",
      " 0.020942532876816206\n",
      "k + k_diff = \n",
      " -0.005825143890860564\n",
      "0.01\n",
      "0.02802967966717626\n",
      "5.0\n",
      "K \n",
      " 0.020942532876816206\n",
      "k + k_diff = \n",
      " -0.004815042880759554\n",
      "0.01\n",
      "0.027140909286010317\n",
      "5.0\n",
      "K \n",
      " 0.020942532876816206\n",
      "k + k_diff = \n",
      " -0.0038049418706585444\n",
      "0.01\n",
      "0.026261515495349018\n",
      "5.0\n",
      "K \n",
      " 0.020942532876816206\n",
      "k + k_diff = \n",
      " -0.0027948408605575348\n",
      "0.01\n",
      "0.025391988884392033\n",
      "5.0\n",
      "K \n",
      " 0.020942532876816206\n",
      "k + k_diff = \n",
      " -0.0017847398504565251\n",
      "0.01\n",
      "0.024532824550546718\n",
      "5.0\n",
      "K \n",
      " 0.020942532876816206\n",
      "k + k_diff = \n",
      " -0.000774638840355512\n",
      "0.01\n",
      "0.02368452025715496\n",
      "5.0\n",
      "K \n",
      " 0.020942532876816206\n",
      "k + k_diff = \n",
      " 0.0002354621697454977\n",
      "0.01\n",
      "0.02284757448410923\n",
      "5.0\n",
      "K \n",
      " 0.020942532876816206\n",
      "k + k_diff = \n",
      " 0.0012455631798465074\n",
      "0.01\n",
      "0.022022484382476417\n",
      "5.0\n",
      "K \n",
      " 0.020942532876816206\n",
      "k + k_diff = \n",
      " 0.002255664189947517\n",
      "0.01\n",
      "0.021209743645769868\n",
      "5.0\n",
      "K \n",
      " 0.020942532876816206\n",
      "k + k_diff = \n",
      " 0.0032657652000485267\n",
      "0.01\n",
      "0.020409840311943588\n",
      "5.0\n",
      "K \n",
      " 0.020942532876816206\n",
      "k + k_diff = \n",
      " 0.004275866210149536\n",
      "0.01\n",
      "0.01962325451150345\n",
      "5.0\n",
      "K \n",
      " 0.020942532876816206\n",
      "k + k_diff = \n",
      " 0.005285967220250546\n",
      "0.01\n",
      "0.018850456178313886\n",
      "5.0\n",
      "K \n",
      " 0.020942532876816206\n",
      "k + k_diff = \n",
      " 0.006296068230351556\n",
      "0.01\n",
      "0.018091902740702746\n",
      "5.0\n",
      "K \n",
      " 0.020942532876816206\n",
      "k + k_diff = \n",
      " 0.007306169240452565\n",
      "0.01\n",
      "0.01734803681131032\n",
      "5.0\n",
      "K \n",
      " 0.020942532876816206\n",
      "k + k_diff = \n",
      " 0.008316270250553575\n",
      "0.01\n",
      "0.016619283894772414\n",
      "5.0\n",
      "K \n",
      " 0.020942532876816206\n",
      "k + k_diff = \n",
      " 0.009326371260654585\n",
      "0.01\n",
      "0.015906050132755666\n",
      "5.0\n",
      "K \n",
      " 0.020942532876816206\n",
      "k + k_diff = \n",
      " 0.010336472270755594\n",
      "0.01\n",
      "0.015208720106062685\n",
      "5.0\n",
      "K \n",
      " 0.020942532876816206\n",
      "k + k_diff = \n",
      " 0.011346573280856604\n",
      "0.01\n",
      "0.014527654713485792\n",
      "5.0\n",
      "K \n",
      " 0.020942532876816206\n",
      "k + k_diff = \n",
      " 0.01235667429095762\n",
      "0.01\n",
      "0.013863189146804332\n",
      "5.0\n",
      "K \n",
      " 0.020942532876816206\n",
      "k + k_diff = \n",
      " 0.01336677530105863\n",
      "0.01\n",
      "0.01321563098079033\n",
      "5.0\n",
      "K \n",
      " 0.020942532876816206\n",
      "k + k_diff = \n",
      " 0.01437687631115964\n",
      "0.01\n",
      "0.012585258396311739\n",
      "5.0\n",
      "K \n",
      " 0.020942532876816206\n",
      "k + k_diff = \n",
      " 0.01538697732126065\n",
      "0.01\n",
      "0.01197231855360813\n",
      "5.0\n",
      "K \n",
      " 0.020942532876816206\n",
      "k + k_diff = \n",
      " 0.01639707833136166\n",
      "0.01\n",
      "0.011377026131569752\n",
      "5.0\n",
      "K \n",
      " 0.020942532876816206\n",
      "k + k_diff = \n",
      " 0.01740717934146267\n",
      "0.01\n",
      "0.010799562047391915\n",
      "5.0\n",
      "K \n",
      " 0.020942532876816206\n",
      "k + k_diff = \n",
      " 0.01841728035156368\n",
      "0.01\n",
      "0.010240072369319658\n",
      "5.0\n",
      "K \n",
      " 0.020942532876816206\n",
      "k + k_diff = \n",
      " 0.01942738136166469\n",
      "0.01\n",
      "0.009698667433364257\n",
      "5.0\n",
      "K \n",
      " 0.020942532876816206\n",
      "k + k_diff = \n",
      " 0.020437482371765698\n",
      "0.01\n",
      "0.009175421172887296\n",
      "5.0\n",
      "K \n",
      " 0.020942532876816206\n",
      "k + k_diff = \n",
      " 0.021447583381866708\n",
      "0.01\n",
      "0.008670370667836791\n",
      "5.0\n",
      "K \n",
      " 0.020942532876816206\n",
      "k + k_diff = \n",
      " 0.022457684391967717\n",
      "0.01\n",
      "0.008183515918212743\n",
      "5.0\n",
      "K \n",
      " 0.020942532876816206\n",
      "k + k_diff = \n",
      " 0.023467785402068727\n",
      "0.01\n",
      "0.007714819844067133\n",
      "5.0\n",
      "K \n",
      " 0.020942532876816206\n",
      "k + k_diff = \n",
      " 0.024477886412169737\n",
      "0.01\n",
      "0.007264208512038383\n",
      "5.0\n",
      "K \n",
      " 0.020942532876816206\n",
      "k + k_diff = \n",
      " 0.025487987422270746\n",
      "0.01\n",
      "0.006831571586115207\n",
      "5.0\n",
      "K \n",
      " 0.020942532876816206\n",
      "k + k_diff = \n",
      " 0.026498088432371756\n",
      "0.01\n",
      "0.006416762998052575\n",
      "5.0\n",
      "K \n",
      " 0.020942532876816206\n",
      "k + k_diff = \n",
      " 0.027508189442472773\n",
      "0.01\n",
      "0.006019601830655174\n",
      "5.0\n",
      "K \n",
      " 0.020942532876816206\n",
      "k + k_diff = \n",
      " 0.028518290452573782\n",
      "0.01\n",
      "0.005639873405032754\n",
      "5.0\n",
      "K \n",
      " 0.020942532876816206\n",
      "k + k_diff = \n",
      " 0.029528391462674792\n",
      "0.01\n",
      "0.005277330560945747\n",
      "5.0\n",
      "K \n",
      " 0.020942532876816206\n",
      "k + k_diff = \n",
      " 0.0305384924727758\n",
      "0.01\n",
      "0.004931695117526192\n",
      "5.0\n",
      "K \n",
      " 0.020942532876816206\n",
      "k + k_diff = \n",
      " 0.03154859348287681\n",
      "0.01\n",
      "0.004602659500002077\n",
      "5.0\n",
      "K \n",
      " 0.020942532876816206\n",
      "k + k_diff = \n",
      " 0.032558694492977824\n",
      "0.01\n",
      "0.004289888516594046\n",
      "5.0\n",
      "K \n",
      " 0.020942532876816206\n",
      "k + k_diff = \n",
      " 0.03356879550307883\n",
      "0.01\n",
      "0.00399302126850979\n",
      "5.0\n",
      "K \n",
      " 0.020942532876816206\n",
      "k + k_diff = \n",
      " 0.03457889651317983\n",
      "0.01\n",
      "0.0037116731749466812\n",
      "5.0\n",
      "K \n",
      " 0.020942532876816206\n",
      "k + k_diff = \n",
      " 0.035588997523280846\n",
      "0.01\n",
      "0.0034454380942380955\n",
      "5.0\n",
      "K \n",
      " 0.020942532876816206\n",
      "k + k_diff = \n",
      " 0.03659909853338186\n",
      "0.01\n",
      "0.0031938905217482254\n",
      "5.0\n",
      "K \n",
      " 0.020942532876816206\n",
      "k + k_diff = \n",
      " 0.037609199543482866\n",
      "0.01\n",
      "0.002956587844836784\n",
      "5.0\n",
      "K \n",
      " 0.020942532876816206\n",
      "k + k_diff = \n",
      " 0.03861930055358388\n",
      "0.01\n",
      "0.00273307263517591\n",
      "5.0\n",
      "K \n",
      " 0.020942532876816206\n",
      "k + k_diff = \n",
      " 0.039629401563684885\n",
      "0.01\n",
      "0.0025228749589011807\n",
      "5.0\n",
      "K \n",
      " 0.020942532876816206\n",
      "k + k_diff = \n",
      " 0.0406395025737859\n",
      "0.01\n",
      "0.00232551468550672\n",
      "5.0\n",
      "K \n",
      " 0.020942532876816206\n",
      "k + k_diff = \n",
      " 0.041649603583886904\n",
      "0.01\n",
      "0.0021405037770385227\n",
      "5.0\n",
      "K \n",
      " 0.020942532876816206\n",
      "k + k_diff = \n",
      " 0.04265970459398792\n",
      "0.01\n",
      "0.0019673485399832433\n",
      "5.0\n",
      "K \n",
      " 0.020942532876816206\n",
      "k + k_diff = \n",
      " 0.043669805604088924\n",
      "0.01\n",
      "0.0018055518232739914\n",
      "5.0\n",
      "K \n",
      " 0.020942532876816206\n",
      "k + k_diff = \n",
      " 0.04467990661418994\n",
      "0.01\n",
      "0.0016546151470182924\n",
      "5.0\n",
      "K \n",
      " 0.020942532876816206\n",
      "k + k_diff = \n",
      " 0.04569000762429094\n",
      "0.01\n",
      "0.0015140407478742655\n",
      "5.0\n",
      "K \n",
      " 0.020942532876816206\n",
      "k + k_diff = \n",
      " 0.04670010863439196\n",
      "0.01\n",
      "0.0013833335284345553\n",
      "5.0\n",
      "K \n",
      " 0.020942532876816206\n",
      "k + k_diff = \n",
      " 0.04771020964449296\n",
      "0.01\n",
      "0.0012620028994994935\n",
      "5.0\n",
      "K \n",
      " 0.020942532876816206\n",
      "k + k_diff = \n",
      " 0.04872031065459398\n",
      "0.01\n",
      "0.001149564505705583\n",
      "5.0\n",
      "K \n",
      " 0.020942532876816206\n",
      "k + k_diff = \n",
      " 0.04973041166469498\n",
      "0.01\n",
      "0.0010455418265981667\n",
      "5.0\n",
      "K \n",
      " 0.020942532876816206\n",
      "k + k_diff = \n",
      " 0.050740512674796\n",
      "0.01\n",
      "0.0009494676468735251\n",
      "5.0\n",
      "K \n",
      " 0.020942532876816206\n",
      "k + k_diff = \n",
      " 0.051750613684897\n",
      "0.01\n",
      "0.0008608853911420081\n",
      "5.0\n",
      "K \n",
      " 0.020942532876816206\n",
      "k + k_diff = \n",
      " 0.05276071469499802\n",
      "0.01\n",
      "0.0007793503201586846\n",
      "5.0\n",
      "K \n",
      " 0.020942532876816206\n",
      "k + k_diff = \n",
      " 0.053770815705099034\n",
      "0.01\n",
      "0.0007044305870102852\n",
      "5.0\n",
      "K \n",
      " 0.020942532876816206\n",
      "k + k_diff = \n",
      " 0.05478091671520004\n",
      "0.01\n",
      "0.0006357081532192572\n",
      "5.0\n",
      "K \n",
      " 0.020942532876816206\n",
      "k + k_diff = \n",
      " 0.055791017725301054\n",
      "0.01\n",
      "0.0005727795661106634\n",
      "5.0\n",
      "K \n",
      " 0.020942532876816206\n",
      "k + k_diff = \n",
      " 0.056801118735402056\n",
      "0.01\n",
      "0.0005152566000721514\n",
      "5.0\n",
      "K \n",
      " 0.020942532876816206\n",
      "k + k_diff = \n",
      " 0.05781121974550307\n",
      "0.01\n",
      "0.0004627667655092175\n",
      "5.0\n",
      "K \n",
      " 0.020942532876816206\n",
      "k + k_diff = \n",
      " 0.058821320755604076\n",
      "0.01\n",
      "0.00041495369034920534\n",
      "5.0\n",
      "K \n",
      " 0.020942532876816206\n",
      "k + k_diff = \n",
      " 0.05983142176570509\n",
      "0.01\n",
      "0.0003714773798706736\n",
      "5.0\n",
      "K \n",
      " 0.020942532876816206\n",
      "k + k_diff = \n",
      " 0.060841522775806095\n",
      "0.01\n",
      "0.0003320143614267113\n",
      "5.0\n",
      "K \n",
      " 0.020942532876816206\n",
      "k + k_diff = \n",
      " 0.06185162378590711\n",
      "0.01\n",
      "0.0002962577212890108\n",
      "5.0\n",
      "K \n",
      " 0.020942532876816206\n",
      "k + k_diff = \n",
      " 0.06286172479600811\n",
      "0.01\n",
      "0.00026391704136516695\n",
      "5.0\n",
      "K \n",
      " 0.020942532876816206\n",
      "k + k_diff = \n",
      " 0.06387182580610913\n",
      "0.01\n",
      "0.00023471824393694386\n",
      "5.0\n",
      "K \n",
      " 0.020942532876816206\n",
      "k + k_diff = \n",
      " 0.06488192681621013\n",
      "0.01\n",
      "0.00020840335283668285\n",
      "5.0\n",
      "K \n",
      " 0.020942532876816206\n",
      "k + k_diff = \n",
      " 0.06589202782631115\n",
      "0.01\n",
      "0.00018473017962867037\n",
      "5.0\n",
      "K \n",
      " 0.020942532876816206\n",
      "k + k_diff = \n",
      " 0.06690212883641215\n",
      "0.01\n",
      "0.00016347194339955877\n",
      "5.0\n",
      "K \n",
      " 0.020942532876816206\n",
      "k + k_diff = \n",
      " 0.06791222984651317\n",
      "0.01\n",
      "0.00014441683269542853\n",
      "5.0\n",
      "K \n",
      " 0.020942532876816206\n",
      "k + k_diff = \n",
      " 0.06892233085661419\n",
      "0.01\n",
      "0.00012736751798235197\n",
      "5.0\n",
      "K \n",
      " 0.020942532876816206\n",
      "k + k_diff = \n",
      " 0.06993243186671519\n",
      "0.01\n",
      "0.00011214062276250567\n",
      "5.0\n",
      "K \n",
      " 0.020942532876816206\n",
      "k + k_diff = \n",
      " 0.0709425328768162\n",
      "0.01\n",
      "9.856616115961779e-05\n",
      "5.0\n"
     ]
    }
   ],
   "source": [
    "from scipy.optimize import fsolve\n",
    "ATTM_difference_vector = np.linspace(-0.05,0.05,100)\n",
    "\n",
    "\n",
    "\n",
    "vol_BS_vector = np.zeros(len(ATTM_difference_vector))\n",
    "\n",
    "for i in range(len(ATTM_difference_vector)):\n",
    "    \n",
    "    vol_BS_vector[i] = smile(swaption_premium=swaption_premium, \n",
    "                             ATM_difference=ATTM_difference_vector[i], \n",
    "                             C=C, Ta=Ta,inicio=0.01, today=today)\n",
    "    \n",
    "\n",
    "\n"
   ]
  },
  {
   "cell_type": "code",
   "execution_count": 139,
   "metadata": {
    "colab": {
     "base_uri": "https://localhost:8080/",
     "height": 489
    },
    "colab_type": "code",
    "id": "xXTfwHrpivhm",
    "outputId": "935513fa-9443-4d91-f555-45ba698bd730"
   },
   "outputs": [
    {
     "data": {
      "text/plain": [
       "Text(0.5,1,'Smile de Volatilidad')"
      ]
     },
     "execution_count": 139,
     "metadata": {},
     "output_type": "execute_result"
    },
    {
     "data": {
      "image/png": "[encoded data removed]",
      "text/plain": [
       "<matplotlib.figure.Figure at 0x17119cc0>"
      ]
     },
     "metadata": {},
     "output_type": "display_data"
    }
   ],
   "source": [
    "f, ax =plt.subplots()\n",
    "ax.plot(ATTM_difference_vector, vol_BS_vector,'.')\n",
    "ax.set_xlabel('ATM difference (%)')\n",
    "ax.set_ylabel('Volatilidad Implícita')\n",
    "ax.set_title('Smile de Volatilidad')"
   ]
  },
  {
   "cell_type": "code",
   "execution_count": null,
   "metadata": {
    "colab": {},
    "colab_type": "code",
    "collapsed": true,
    "id": "nY16uTuOiwdC"
   },
   "outputs": [],
   "source": []
  }
 ],
 "metadata": {
  "colab": {
   "collapsed_sections": [],
   "name": "Resolución ExamenTipos - LUIS.ipynb",
   "provenance": [],
   "version": "0.3.2"
  },
  "kernelspec": {
   "display_name": "Python 3",
   "language": "python",
   "name": "python3"
  },
  "language_info": {
   "codemirror_mode": {
    "name": "ipython",
    "version": 3
   },
   "file_extension": ".py",
   "mimetype": "text/x-python",
   "name": "python",
   "nbconvert_exporter": "python",
   "pygments_lexer": "ipython3",
   "version": "3.6.3"
  }
 },
 "nbformat": 4,
 "nbformat_minor": 1
}
