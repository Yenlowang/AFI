{
 "cells": [
  {
   "cell_type": "markdown",
   "metadata": {
    "colab_type": "text",
    "id": "aqHbFpoXv7Jj"
   },
   "source": [
    "En esta celda definimos los objetos curva de Tipos de Interés.\n",
    "\n",
    "\n",
    "1.   **Curva estática ( IRCurve)**: Ésta curva es independiente de modelo y sería la que Bootstrapearíamos de precios de IRS. Es una interpolación en splines de logaritmo de Factores de Descuento.\n",
    "\n",
    "2.   **Curva del LGM (LGMCurve) **: Se trata de una curva dinámica (de acuerdo al LGM). En un instante futuro, esta curva depende de la curva estática y del valor que pudiera tomar la variable x.\n",
    "\n",
    "\n",
    "# **Curva LGM**\n",
    "\n",
    "Sea \n",
    "\n",
    "$$\n",
    "dx_t = \\sigma dW^{\\mathcal{N}}_t \\;\\;\\;\\; s.t \\;\\;\\;\\; x(0) = 0\n",
    "$$\n",
    "\n",
    "la dinámica de la variable que establece el comportamiento de la curva de tipos de interés.\n",
    "\n",
    "El modelo LGM, establece la relación que existe entre esta variable y el numerario a una fecha futura.\n",
    "\n",
    "$$\n",
    "N(t, x_t) = \\frac{1}{B(0, t)} exp \\bigg( -H_t x_t - \\frac{1}{2} H_t^2 \\zeta_t \\bigg)\n",
    "$$\n",
    "\n",
    "donde $B(0, t)$ es el factor de descuento a vencimiento $t$ con la curva estática. $H_t = \\frac{1-e^{-\\kappa t}}{\\kappa}$\n",
    "\n",
    "En clase demostramos que, dado el numeraio, el factor de descuento (según LGM) a una feha futura, $B(t, T, x_t)$ , como función de $x_t$ venía dado como,\n",
    "\n",
    "$$\n",
    "B(t, T, x_t) = \\frac{B(0, T)}{B(0, t)} exp\\bigg( - \\left( H_T - H_t \\right) x_t - \\frac{1}{2} \\left( H_T^2 - H_t^2\\right) \\zeta_t \\bigg)\n",
    "$$\n",
    "\n",
    "\n",
    "$ \\textbf{Pregunta 1: Demostrar la ecuación de arriba.}$\n",
    "\n",
    "$ \\textbf{Pregunta 2: Explica cómo impacta  $H_t$ o $\\kappa$ en la forma de la curva.}$\n"
   ]
  },
  {
   "cell_type": "code",
   "execution_count": 0,
   "metadata": {
    "colab": {},
    "colab_type": "code",
    "collapsed": true,
    "id": "MTd-1UqVwUBD"
   },
   "outputs": [],
   "source": [
    "\n",
    "##########################################################\n",
    "#\n",
    "#     NO ES NECESARIO TOCAR ESTA FUNCIÓN\n",
    "#\n",
    "##########################################################\n",
    "\n",
    "\n",
    "import numpy as np\n",
    "from scipy.interpolate import interp1d\n",
    "import scipy as sc\n",
    "import matplotlib.pyplot as plt\n",
    "import pandas as pd\n",
    "\n",
    "\n",
    "plt.style.use('default')\n",
    "\n",
    "# ------------------------------------------------\n",
    "\n",
    "# Clase Curva\n",
    "class IRCurve:\n",
    "  \n",
    "  # CONSTRUCTOR (Da vida a la clase)\n",
    "  def __init__(self, dates, dfs):\n",
    "    self._ref_date = dates[0]\n",
    "    self._dfs = dfs\n",
    "    self._times = (dates - dates[0]) / 365.25\n",
    "    self._rates_time = -np.log(dfs)\n",
    "    self._curve = interp1d(self._times, self._rates_time, kind = 'cubic')\n",
    "  \n",
    "  # Devuelve B(t, T) = B(0, T) / B(0, t)\n",
    "  def get_zero(self, t, T):\n",
    "    B_0_T = np.exp(-self._curve((T-self._ref_date)/365.25))\n",
    "    B_0_t = np.exp(-self._curve((t-self._ref_date)/365.25))\n",
    "    \n",
    "    return B_0_T / B_0_t\n",
    "  \n",
    " # -----------------------------------------------------\n",
    " \n",
    "def H(kappa, time):\n",
    "  return (1 - np.exp(-kappa * time)) / kappa\n",
    "  \n",
    "  \n",
    "# Definición de la clase LGM\n",
    "class LGMCurve:\n",
    "\n",
    "  # CONSTRUCTOR\n",
    "  def __init__(self, IR_curve, kappa, sigma):\n",
    "    self._curve = IR_curve\n",
    "    self._kappa = kappa\n",
    "    self._sigma = sigma\n",
    "\n",
    "  # Numerario: N(t, xt)\n",
    "  def numeraire(self, t, xt):\n",
    "\n",
    "    time_to_t = (t - self._curve._ref_date) / 365.25\n",
    "    ht = H(self._kappa, time_to_t)\n",
    "    zeta_t = (self._sigma ** 2) * time_to_t\n",
    "\n",
    "    exponent = ht * xt + 0.5 * (ht**2) * zeta_t\n",
    "\n",
    "    return 1 / self._curve.get_zero(self._curve._ref_date, t) \\\n",
    "            * np.exp(exponent)\n",
    "  \n",
    "  # B(t, T, xt)\n",
    "  def get_zero_x(self, t, T, xt):\n",
    "\n",
    "    time_to_t = (t - self._curve._ref_date) / 365.25\n",
    "    time_to_T = (T - self._curve._ref_date) / 365.25\n",
    "\n",
    "    ht = H(self._kappa, time_to_t)\n",
    "    hT = H(self._kappa, time_to_T)\n",
    "\n",
    "    zeta = (self._sigma * self._sigma) * time_to_t\n",
    "\n",
    "    df = self._curve.get_zero(t, T) \n",
    "    exponent = (hT -ht ) * xt + 0.5 * (hT * hT - ht * ht) * zeta \n",
    "\n",
    "    df *= np.exp(-exponent)\n",
    "\n",
    "    return df\n",
    "    \n",
    "    \n",
    " # -----------------------------------------------------"
   ]
  },
  {
   "cell_type": "markdown",
   "metadata": {
    "colab_type": "text",
    "id": "fOG7Ebqc21TZ"
   },
   "source": [
    "**En la siguiente celda, inicializamos la fecha valor (today) y la curva estática (ir_curve). A lo largo de todo el ejercicio utilizaremos la misma curva**\n",
    "\n"
   ]
  },
  {
   "cell_type": "code",
   "execution_count": 0,
   "metadata": {
    "colab": {},
    "colab_type": "code",
    "collapsed": true,
    "id": "O9r775Eo24ip"
   },
   "outputs": [],
   "source": [
    "\n",
    "\n",
    "\n",
    "#################################################################################\n",
    "\n",
    "today = 43561 # 6 de Abril de 2019\n",
    "last_date = today + 365.25 * 40\n",
    "\n",
    "# Defino las fechas pilar para los factores de desceunto ...\n",
    "pillar_dates = np.linspace(today, last_date, 50)\n",
    "\n",
    "# Defino los rates como curva no plana\n",
    "dates_rates = np.array([today, today + 365, today + 365 * 5, today + 365 * 10, \\\n",
    "                       today +365 * 20, today + 365 * 30, today + 365 * 50])\n",
    "rates = np.array([0.0, 0.005, 0.01, 0.015, 0.02, 0.025, 0.028])\n",
    "\n",
    "# Calculo los FD de acuerdo a esa estructura no plana de tipos\n",
    "dfs = np.zeros(len(pillar_dates))\n",
    "rate_interp = interp1d(dates_rates, rates, kind = 'linear')\n",
    "for i in range( len(pillar_dates)):\n",
    "  rate = rate_interp(pillar_dates[i])\n",
    "  dfs[i] = (np.exp(-rate * (pillar_dates[i] - today)/ 365.25))\n",
    "\n",
    "# Definimos IR Curve (Curva original)  \n",
    "ir_curve = IRCurve(pillar_dates, dfs)\n",
    "\n",
    "#################################################################################\n",
    "\n",
    "\n",
    "\n"
   ]
  },
  {
   "cell_type": "markdown",
   "metadata": {
    "colab_type": "text",
    "id": "Q6_wXtjwQrsw"
   },
   "source": [
    "\n",
    "# **Función de valoración de un Swaption de acuerdo al LGM**\n",
    "\n",
    "Supongamos un Call-Money-Swap cuya fecha de comienzo denotamos por $T_a$ y última fecha de pago es $T_b$. Supongamos una opción que nos da derecho a entrar en ese IRS en la fecha $T_a$. La prima forward de este swaption (de acuerdo al LGM) puede expresarse como:\n",
    "\n",
    "\\begin{equation}\n",
    "\\frac{V_t}{B(t, T_a)} = E^\\mathcal{N}\\left(  \\left( 1- B(T_a, T_b, x(T_a)) - K \\sum_{j=1}^N \\Delta_j B(T_a, T_j, x(T_a)) \\right)^+ \\bigg| \\mathcal{F}_t \\right) \n",
    "\\end{equation}\n",
    "\n",
    "Vimos en clase, que como el valor de este IRS es monótono en $x(T_a)$, podemos buscar el valor $x^{*}$ para el cual, \n",
    "\n",
    "$$\n",
    "1- B(T_a, T_b, x^*) - K \\sum_{j=1}^N \\Delta_j B(T_a, T_j, x^*) = 0\n",
    "$$\n",
    "\n",
    "\n",
    "Aplicando ésto, la prima forward puede expresarse como, \n",
    "\n",
    "\\begin{equation}\n",
    "\\frac{V_t}{B(t, T_a)} = E^\\mathcal{N}\\left(  \\left( B(T_a, T_b, x^*)- B(T_a, T_b, x(T_a)) \\right) ^+ \\bigg| \\mathcal{F}_t \\right) - K \\sum_{j=1}^N \\Delta_j  E^\\mathcal{N}\\left(\\left( B(T_a, T_j, x^*) -  B(T_a, T_j, x(T_a)) \\right)^+ \\bigg| \\mathcal{F}_t \\right) \n",
    "\\end{equation}\n",
    "\n",
    "\n",
    "\n",
    "Finalmente, vimos en clase que la función de valoración podríamos expresarla en función de Black-Scholes como\n",
    "\n",
    "\\begin{equation}\n",
    "\\frac{V_t}{B(t, T_a)} = \\sum_{j=1}^N  \\omega_j BS^{LN}\\bigg( \\text{forward} =  \\frac{B(t, T_j)}{B(t, T_a)},  \\text{strike} = B(T_a, T_j,  x^*), \\text{mty} = T_a, \\text{varianza} = \\sigma^2 \\left( H_{T_a} - H_{T_j}\\right)^2 \\bigg) \n",
    "\\end{equation}\n",
    "\n",
    "donde \n",
    "\n",
    "$$\n",
    "\\omega_j=\\left\\{\n",
    "                \\begin{array}{ll}\n",
    "                  K\\Delta_j & \\text{si} & j = 1, \\ldots, N - 1\\\\\n",
    "                  1 + K \\Delta_N & \\text{si} & j = N\\\\\n",
    "                \\end{array}\n",
    "              \\right.\n",
    "$$\n",
    "\n",
    "\n",
    "# **EJERCICIO 1**\n",
    "\n",
    "Calcular el precio de un swaption payer ATM ($T_a = \\text{today} + 5Y$, $T_b = T_a + 10Y$) de acuerdo al LGM ($\\sigma = 1\\%$, $\\kappa = 1 \\%$), de acuerdo a los siguientes métodos:\n",
    "\n",
    "\n",
    "\n",
    "1.   Función Analítica: Ésta es la que describimos más arriba, y cuya función ponemos en la siguiente celda.\n",
    "2.   MC: Simula por MC la variable $x(T_a)$ y calcula \n",
    "$$\n",
    "\\frac{1}{B(t, T_a)}E_t \\left( \\frac{ IRS(T_a, x(T_a))^+}{N(T_a, x(Ta))} \\bigg| \\mathcal{F}_t \\right)\n",
    "$$\n",
    "\n",
    "Calcula también el intervalo de confianza al 95%\n",
    "3. Calcula el precio por integral numérica, \n",
    "\n",
    "$$\n",
    "\\frac{1}{B(t, T_a)} \\int_{-\\infty}^{\\infty} \\frac{ IRS(T_a, x)^+}{N(T_a, x)} \\eta_{x(T_a)}(x) dx\n",
    "$$\n",
    "\n",
    "Tratad de relacionar (con vuestras palabras) el método 2 y 3.\n",
    "\n",
    "\n",
    "4. Resuelve el precio por integral numérica donde la función de densidad la calcules derivando dos veces la función de valoración del swaption en (1) dos veces.\n",
    "\n",
    "$$\n",
    "V(t) = \\int_{-\\infty}^{\\infty} \\left(S -K \\right)^{+} \\frac{\\partial^2 Swptn}{\\partial K^2}\\bigg|_{K = S}dS\n",
    "$$\n",
    "\n",
    "Donde $Swptn$ es la prima forward del apartado (1)\n",
    "$$\n",
    "Swptn = E^\\mathcal{N}\\left(  \\left( 1- B(T_a, T_b, x(T_a)) - K \\sum_{j=1}^N \\Delta_j B(T_a, T_j, x(T_a)) \\right)^+ \\bigg| \\mathcal{F}_t \\right) \n",
    "$$"
   ]
  },
  {
   "cell_type": "markdown",
   "metadata": {
    "colab_type": "text",
    "id": "XTpmqScD7dnf"
   },
   "source": [
    "En la siguiente celda están definidos:\n",
    "\n",
    "1. El instrumento IRS (IRS)\n",
    "2. La función de valoración de un IRS de acuerdo al LGM (LGM_IRS_Price)\n",
    "3. La función de valoración analítica de un swaption (LGM_Swaption_Price)"
   ]
  },
  {
   "cell_type": "code",
   "execution_count": 0,
   "metadata": {
    "colab": {},
    "colab_type": "code",
    "collapsed": true,
    "id": "IGcZc8clYMR3"
   },
   "outputs": [],
   "source": [
    "\n",
    "# CLASE IRS\n",
    "class IRS:\n",
    "  \n",
    "  def __init__(self, start_date, tenor, freq, fixed_coupon):\n",
    "    self.start_date = start_date\n",
    "    self.end_date = start_date + tenor * 365.25\n",
    "    self.fix_dates = np.linspace(self.start_date, self.end_date, tenor * freq) \n",
    "    self.fixed_coupon = fixed_coupon\n",
    "    self.dcf = (self.fix_dates[1:] - self.fix_dates[0:-1])/360 # Act/360\n",
    "    self.fix_dates = self.fix_dates[1:]\n",
    "\n",
    "# --------------------------------------------------------\n",
    "    \n",
    "# Función que valora el IRS de acuerdo al LGM\n",
    "def LGM_IRS_price(value_date, irs, lgm_curve, x_at_value_date):\n",
    "  \n",
    "  # Pata Flotante\n",
    "  floating_leg = lgm_curve.get_zero_x(value_date, irs.start_date, x_at_value_date) - \\\n",
    "                 lgm_curve.get_zero_x(value_date, irs.end_date, x_at_value_date) \n",
    "    \n",
    "  # Pata Fija\n",
    "  fixed_leg = 0\n",
    "  for i in range(len(irs.fix_dates)):\n",
    "    fixed_leg += irs.dcf[i] * lgm_curve.get_zero_x(value_date, \\\n",
    "                                                   irs.fix_dates[i], x_at_value_date)\n",
    "  \n",
    "  fixed_leg *= irs.fixed_coupon\n",
    "  \n",
    "  return (floating_leg - fixed_leg)\n",
    "\n",
    "# --------------------------------------------------------\n",
    "\n",
    "\n",
    "# Función de valoración del swaption\n",
    "def LGM_Swaption_Price(value_date, irs, lgm_curve):\n",
    "  \n",
    "  # 1. Calculamos x_star tal que IRS(T, x_star) = 0 \n",
    "  T_mat = irs.start_date\n",
    "  f_obj = lambda x : LGM_IRS_price(T_mat, irs, lgm_curve, x)\n",
    "  x_star = optimize.newton(f_obj, 0)\n",
    "  \n",
    "  # Función anidada que calcula la put sobre ZC -------------\n",
    "  def ZC_put(T_j):\n",
    "    # Valoramos la última put sobre ZC\n",
    "    fwd = lgm_curve.get_zero_x(value_date, T_j, 0) / \\\n",
    "          lgm_curve.get_zero_x(value_date, irs.start_date, 0)\n",
    "\n",
    "    # strike B(T, T_N, x_star)\n",
    "    strike = lgm_curve.get_zero_x(irs.start_date, T_j, x_star)\n",
    "\n",
    "    # vol = (H_T - H_T_N) sigma_x\n",
    "    vol = H(lgm_curve._kappa, (irs.start_date - value_date) / 365.25) - \\\n",
    "          H(lgm_curve._kappa, (T_j - value_date) / 365.25)\n",
    "    \n",
    "    vol *= lgm_curve._sigma\n",
    "    \n",
    "    vol = np.abs(vol)\n",
    "\n",
    "    # Llamamos BS\n",
    "    last_call = LN_BlackScholes(fwd, strike, \\\n",
    "                               (irs.start_date - value_date)/365.25, vol)\n",
    "    last_put = last_call - (fwd - strike)\n",
    "    \n",
    "    return last_put\n",
    "  # ------------------------------------------------------------\n",
    "  \n",
    "  # Iteramos por todas las fechas de pago del IRS y calculamos \\\n",
    "  # las puts sobre los ZC.\n",
    "  \n",
    "  swaption = 0 \n",
    "  for i in range(len(irs.fix_dates)):\n",
    "    # Calculate put\n",
    "    put = ZC_put(irs.fix_dates[i])\n",
    "    \n",
    "    # Calculate K Delta o (1 + K Delta)\n",
    "    notional = irs.dcf[i] * irs.fixed_coupon \n",
    "    if i == len(irs.fix_dates)-1:\n",
    "      notional += 1 \n",
    "      \n",
    "      \n",
    "    # Actualizamos el precio del swaption\n",
    "    swaption += notional * put\n",
    "  \n",
    "  return swaption\n",
    "  \n",
    "  \n",
    "# ---------------------------------------------------------------\n"
   ]
  },
  {
   "cell_type": "markdown",
   "metadata": {
    "colab_type": "text",
    "id": "CBrP0fjxjWJh"
   },
   "source": [
    "##* RESPUESTA 1*\n",
    "\n",
    "---\n",
    "\n"
   ]
  },
  {
   "cell_type": "markdown",
   "metadata": {
    "colab_type": "text",
    "id": "MnoRywl0jNiX"
   },
   "source": [
    "#### 1) Función Analítica"
   ]
  },
  {
   "cell_type": "code",
   "execution_count": 0,
   "metadata": {
    "colab": {},
    "colab_type": "code",
    "collapsed": true,
    "id": "RgWq5hOKphgc"
   },
   "outputs": [],
   "source": [
    "from scipy.stats import norm\n",
    "\n",
    "# BLACK SCHOLES\n",
    "def LN_BlackScholes(S0, K, T, sigma):\n",
    "  d1 = (np.log(S0/K) + 0.5 *  (sigma**2) * T )/(np.sqrt(T) * sigma)\n",
    "  d2 = d1 - sigma * np.sqrt(T)\n",
    "  \n",
    "  return S0 * norm.cdf(d1) - K * norm.cdf(d2) "
   ]
  },
  {
   "cell_type": "code",
   "execution_count": 0,
   "metadata": {
    "colab": {},
    "colab_type": "code",
    "collapsed": true,
    "id": "jYT6EAiakPtp"
   },
   "outputs": [],
   "source": [
    "# Datos\n",
    "kappa = 0.01\n",
    "sigma = 0.01\n",
    "\n",
    "lgm_curve = LGMCurve(ir_curve, kappa, sigma)\n",
    "\n",
    "tenor = 10\n",
    "freq = 2 # 6M\n",
    "\n",
    "Ta = today + 365.25 * 5  #start date"
   ]
  },
  {
   "cell_type": "code",
   "execution_count": 0,
   "metadata": {
    "colab": {
     "base_uri": "https://localhost:8080/",
     "height": 33
    },
    "colab_type": "code",
    "id": "04b4qxAEr1S8",
    "outputId": "fba7532c-8576-4cf1-bed6-9f29d16f714f"
   },
   "outputs": [
    {
     "name": "stdout",
     "output_type": "stream",
     "text": [
      "Fixed coupon 0.02094253287681621\n"
     ]
    }
   ],
   "source": [
    "# Calculo del strike C que hace que el IRS valga 0 al inicio\n",
    "from scipy import optimize\n",
    "\n",
    "f_obj = lambda C : LGM_IRS_price(today, IRS(Ta, 10,2,C), lgm_curve, 0)\n",
    "C = optimize.newton(f_obj, 0)\n",
    "\n",
    "print('Fixed coupon', C)"
   ]
  },
  {
   "cell_type": "code",
   "execution_count": 0,
   "metadata": {
    "colab": {
     "base_uri": "https://localhost:8080/",
     "height": 33
    },
    "colab_type": "code",
    "id": "Bqv7s9bOr3oh",
    "outputId": "b56a6c01-8353-4e26-d175-a924b7832fba"
   },
   "outputs": [
    {
     "name": "stdout",
     "output_type": "stream",
     "text": [
      "Analytical Swaption premium 0.07315000431655858\n"
     ]
    }
   ],
   "source": [
    "#IRS\n",
    "irs = IRS(Ta, 10, 2, C)\n",
    "\n",
    "# Calculo de la prima en Ta por el método analítico \n",
    "swaption_premium = LGM_Swaption_Price(today, irs, lgm_curve)\n",
    "print('Analytical Swaption premium', swaption_premium)"
   ]
  },
  {
   "cell_type": "markdown",
   "metadata": {
    "colab_type": "text",
    "id": "z2gTuqgrpvx_"
   },
   "source": [
    "#### 2) Montecarlo"
   ]
  },
  {
   "cell_type": "code",
   "execution_count": 0,
   "metadata": {
    "colab": {
     "base_uri": "https://localhost:8080/",
     "height": 33
    },
    "colab_type": "code",
    "id": "4SZEhUqiiwtK",
    "outputId": "36acd37b-6107-44d0-90c0-0ab48582c952"
   },
   "outputs": [
    {
     "name": "stdout",
     "output_type": "stream",
     "text": [
      "Swaption premium MC 0.07348959889374367\n"
     ]
    }
   ],
   "source": [
    "# Cálculo de la prima por el método de Montecarlo\n",
    "n_sims = 100000\n",
    "x_at_Ta = np.random.normal(size = n_sims) * lgm_curve._sigma * \\\n",
    "            np.sqrt((Ta - today) / 365.25)\n",
    "\n",
    "irs_at_Ta = LGM_IRS_price(Ta, irs, lgm_curve, x_at_Ta)\n",
    "irs_at_Ta /= lgm_curve.numeraire(Ta, x_at_Ta)\n",
    "irs_at_Ta = np.maximum(irs_at_Ta, 0)\n",
    "\n",
    "irs_at_Ta /= ir_curve.get_zero(today, Ta) \n",
    "\n",
    "premium_MC = np.mean(irs_at_Ta) \n",
    "\n",
    "print('Swaption premium MC', premium_MC)"
   ]
  },
  {
   "cell_type": "code",
   "execution_count": 0,
   "metadata": {
    "colab": {
     "base_uri": "https://localhost:8080/",
     "height": 33
    },
    "colab_type": "code",
    "id": "epQCQQMqiww_",
    "outputId": "1977e16b-85e5-42da-84d9-6768c3f0bc74"
   },
   "outputs": [
    {
     "name": "stdout",
     "output_type": "stream",
     "text": [
      "IC (95%): [0.07296375475419797,0.07401544303328936]\n"
     ]
    }
   ],
   "source": [
    "# Calculemos el Intervalo de confianza al 95%\n",
    "std = np.std(irs_at_Ta)\n",
    "\n",
    "print('IC (95%): [' + str(premium_MC + std / np.sqrt(n_sims)*norm.ppf(0.025)) +',' +\n",
    "      str(premium_MC + std / np.sqrt(n_sims)*norm.ppf(0.975))+ ']')"
   ]
  },
  {
   "cell_type": "markdown",
   "metadata": {
    "colab_type": "text",
    "id": "YgQm2knXsK1P"
   },
   "source": [
    "#### 3) Integral numérica"
   ]
  },
  {
   "cell_type": "code",
   "execution_count": 0,
   "metadata": {
    "colab": {
     "base_uri": "https://localhost:8080/",
     "height": 33
    },
    "colab_type": "code",
    "id": "yhxFKXQsiw01",
    "outputId": "1b2333e4-a90c-4e22-9551-831d1da21e53"
   },
   "outputs": [
    {
     "name": "stdout",
     "output_type": "stream",
     "text": [
      "premium_integral 0.07315000431652598\n"
     ]
    }
   ],
   "source": [
    "from scipy.stats import norm\n",
    "import scipy.integrate as integrate\n",
    "\n",
    "# Función que devuelve IRS^{+}(T, X)/N(T, X)f(x) dinde f(x) es la func de dens.\n",
    "def swaption_integrand(x):\n",
    "  \n",
    "  # Evaluamos payoff\n",
    "  irs_at_Ta = LGM_IRS_price(Ta, irs, lgm_curve, x)\n",
    "  irs_at_Ta /= lgm_curve.numeraire(Ta, x)\n",
    "  irs_at_Ta = np.maximum(irs_at_Ta, 0)\n",
    "  \n",
    "  # Evaluamos funcion de densidad\n",
    "  sigma_x =  lgm_curve._sigma * np.sqrt((Ta-today)/365.25)\n",
    "  \n",
    "  pdf = norm.pdf(x, loc=0, scale=sigma_x) \n",
    "    \n",
    "  return irs_at_Ta * pdf\n",
    "\n",
    "f_obj = lambda x : LGM_IRS_price(Ta, irs, lgm_curve, x)\n",
    "x_star = optimize.newton(f_obj, 0)\n",
    "  \n",
    "# Resolvemos el valor del swaption, resolviendo la integral ..\n",
    "premium_integral = integrate.quad(swaption_integrand, x_star, 0.5)\n",
    "premium_integral = premium_integral[0] / ir_curve.get_zero(today, Ta)\n",
    "\n",
    "print('premium_integral', premium_integral)"
   ]
  },
  {
   "cell_type": "markdown",
   "metadata": {
    "colab_type": "text",
    "id": "waNwplsBxDyD"
   },
   "source": [
    "#### 4) Integral numérica (2º método)"
   ]
  },
  {
   "cell_type": "code",
   "execution_count": 0,
   "metadata": {
    "colab": {},
    "colab_type": "code",
    "collapsed": true,
    "id": "-UScBRc-iwqi"
   },
   "outputs": [],
   "source": [
    "# Definimos la función que nos proporciona la función de densidad obtenida al\n",
    "# derivar 2 veces la función de valoración del swaption:\n",
    "\n",
    "def pdf_swaption(K):\n",
    "  \n",
    "  # Cálculo de x_K tal que S(x)=K (el punto de la función delta de Dirac)\n",
    "  f_obj = lambda x : LGM_IRS_price(Ta, IRS(Ta, 10, 2, K), lgm_curve, x)\n",
    "  x_K = optimize.newton(f_obj, 0)\n",
    "    \n",
    "  # A(x_K)\n",
    "  A = 0\n",
    "  for i in range(len(irs.fix_dates)):\n",
    "    A += irs.dcf[i] * lgm_curve.get_zero_x(Ta, irs.fix_dates[i], x_K)\n",
    "\n",
    "  # f_N(x)\n",
    "  sigma_x =  lgm_curve._sigma * np.sqrt((Ta-today)/365.25)\n",
    "  pdf = norm.pdf(x_K, loc=0, scale=sigma_x) \n",
    "    \n",
    "  return A * pdf"
   ]
  },
  {
   "cell_type": "code",
   "execution_count": 0,
   "metadata": {
    "colab": {
     "base_uri": "https://localhost:8080/",
     "height": 33
    },
    "colab_type": "code",
    "id": "mChuEoUwxHZ9",
    "outputId": "e058d3c5-3d66-49a5-952a-4e7f0cf1923a"
   },
   "outputs": [
    {
     "name": "stdout",
     "output_type": "stream",
     "text": [
      "premium_integral (2º Método) 0.07539198591553298\n"
     ]
    }
   ],
   "source": [
    "# Función que nos proporciona el integrando de la integral del apartado 4\n",
    "def swaption_integrand_2(S):\n",
    "    \n",
    "  m = np.maximum(S - C, 0)\n",
    "\n",
    "  return m * pdf_swaption(S)\n",
    "\n",
    "# Resolvemos la integral:\n",
    "premium_integral_2 = integrate.quad(swaption_integrand_2, C, 15)\n",
    "\n",
    "print('premium_integral (2º Método)', premium_integral_2[0])"
   ]
  },
  {
   "cell_type": "markdown",
   "metadata": {
    "colab_type": "text",
    "id": "plQqlXuNjlen"
   },
   "source": [
    "\n",
    "\n",
    "---\n",
    "\n"
   ]
  },
  {
   "cell_type": "markdown",
   "metadata": {
    "colab_type": "text",
    "id": "jom3Pxlpg7VX"
   },
   "source": [
    "# **EJERCICIO 2. **\n",
    "\n",
    "Para el Swaption con las características del ejercicio 1,  ($T_a = \\text{today} + 5Y$, $T_b = T_a + 10Y$) y  de acuerdo al LGM ($\\sigma = 1\\%$, $\\kappa = 1 \\%$),  calculad para los Strikes en ATM difference (ATM Differece = K - Forward) = $-200\\;  bp, -100 \\; bp, -50 \\;  bp, 0 \\; bp, 50 \\; bp, 100 \\; bp, 200 \\; bp$ el precio del Swaption Payer Physical Settled vs Cash-Settled.\n",
    "\n",
    "Recordad que el precio del Swaption Physical-Settled es el que habéis calculado en ejercicio 1. El Pay-Off a vencimiento del Cash-Settled es\n",
    "\n",
    "$$\n",
    "Swptn^\\text{Cash}(T_a) = \\left( S(T_a, x(T_a)) - K \\right)^+ \\sum_{j=1}^N \\frac{ \\Delta_j }{\\left(1 + S(T_a, x(T_a)) \\right)^{(T_j - T_a)}}\n",
    "$$\n",
    "\n",
    "Comparad ambas gráficas y tratad de justificar los resultados.\n",
    "\n",
    "**Nota:** Podéis utilizar el método numérico que consideréis más oportuno. Espero algún comentario en relación a la elección del método.\n",
    "\n"
   ]
  },
  {
   "cell_type": "markdown",
   "metadata": {
    "colab_type": "text",
    "id": "GEIPdJsyxYxV"
   },
   "source": [
    "##* RESPUESTA 2*\n",
    "\n",
    "---"
   ]
  },
  {
   "cell_type": "code",
   "execution_count": 0,
   "metadata": {
    "colab": {},
    "colab_type": "code",
    "collapsed": true,
    "id": "ZZlrdsPzxaB5"
   },
   "outputs": [],
   "source": [
    "# Usaremos el método de MC"
   ]
  },
  {
   "cell_type": "code",
   "execution_count": 0,
   "metadata": {
    "colab": {},
    "colab_type": "code",
    "collapsed": true,
    "id": "hUhV6EEy6ADe"
   },
   "outputs": [],
   "source": [
    "# DATOS\n",
    "\n",
    "# C es el S que teniamos al principio\n",
    "kappa = 0.01\n",
    "sigma = 0.01\n",
    "tenor = 10\n",
    "freq = 2 # 6M\n",
    "Ta = today + 365.25 * 5  #start date\n",
    "n_sims = 100000"
   ]
  },
  {
   "cell_type": "code",
   "execution_count": 0,
   "metadata": {
    "colab": {},
    "colab_type": "code",
    "collapsed": true,
    "id": "BSMNizloxaJ4"
   },
   "outputs": [],
   "source": [
    "def par_swap(Ta, x_at_Ta):\n",
    "    f_obj = lambda S : LGM_IRS_price(Ta, IRS(Ta, 10, 2, S), lgm_curve, x_at_Ta)\n",
    "    S = optimize.newton(f_obj, 0)\n",
    "    \n",
    "    return S"
   ]
  },
  {
   "cell_type": "code",
   "execution_count": 0,
   "metadata": {
    "colab": {},
    "colab_type": "code",
    "collapsed": true,
    "id": "qyG1GocYHTu3"
   },
   "outputs": [],
   "source": [
    "def physical_settled(K):\n",
    "    \n",
    "    irs = IRS(Ta, 10, 2, K)\n",
    "\n",
    "    swaption_premium = LGM_Swaption_Price(today, irs, lgm_curve)\n",
    "    \n",
    "    return swaption_premium"
   ]
  },
  {
   "cell_type": "code",
   "execution_count": 0,
   "metadata": {
    "colab": {},
    "colab_type": "code",
    "collapsed": true,
    "id": "HFmkfqe8xbHh"
   },
   "outputs": [],
   "source": [
    "def cash_settled(K, n_sims):\n",
    "\n",
    "    x_at_Ta = np.random.normal(size = n_sims) * lgm_curve._sigma * \\\n",
    "                np.sqrt((Ta - today) / 365.25)\n",
    "\n",
    "    prima_vector = np.zeros(len(x_at_Ta))\n",
    "\n",
    "    for i in range(len(x_at_Ta)):\n",
    "        S = par_swap(Ta, x_at_Ta[i])\n",
    "\n",
    "        A = 0      \n",
    "        for j in range(len(irs.fix_dates)):           \n",
    "            A += irs.dcf[j] /(1+S)**((irs.fix_dates[j] - Ta) / 365.25)\n",
    "\n",
    "        prima_vector[i] = np.max([S - K, 0]) * A  / lgm_curve.numeraire(Ta, x_at_Ta[i])  \n",
    "\n",
    "    prima = np.mean(prima_vector)\n",
    "\n",
    "    # Descontamos a valor de hoy\n",
    "    prima /= ir_curve.get_zero(today, Ta) \n",
    "    \n",
    "    return prima\n"
   ]
  },
  {
   "cell_type": "code",
   "execution_count": 0,
   "metadata": {
    "colab": {},
    "colab_type": "code",
    "collapsed": true,
    "id": "HYY6wrZmGQXz"
   },
   "outputs": [],
   "source": [
    "n_sims = 10000\n",
    "ATTM_difference_vector = np.array([-0.02, -0.01, -0.005, 0, 0.005, 0.01, 0.02])\n",
    "# C (forward) calculado en el ejercicio 1\n",
    "\n",
    "physical_vector = np.zeros(len(ATTM_difference_vector))\n",
    "cash_vector = np.zeros(len(ATTM_difference_vector))\n",
    "\n",
    "\n",
    "for i in range(len(ATTM_difference_vector)):\n",
    "    \n",
    "    physical_vector[i] = physical_settled(C + ATTM_difference_vector[i])\n",
    "    cash_vector[i] = cash_settled(C + ATTM_difference_vector[i], n_sims)\n"
   ]
  },
  {
   "cell_type": "code",
   "execution_count": 0,
   "metadata": {
    "colab": {
     "base_uri": "https://localhost:8080/",
     "height": 470
    },
    "colab_type": "code",
    "id": "OTY7D8CDBMA3",
    "outputId": "de7e60d6-5ede-459c-d37f-fd59d696f84d"
   },
   "outputs": [
    {
     "data": {
      "text/plain": [
       "<matplotlib.legend.Legend at 0x7fb83874d5f8>"
      ]
     },
     "execution_count": 265,
     "metadata": {
      "tags": []
     },
     "output_type": "execute_result"
    },
    {
     "data": {
      "image/png": "[encoded data removed]",
      "text/plain": [
       "<Figure size 640x480 with 1 Axes>"
      ]
     },
     "metadata": {
      "tags": []
     },
     "output_type": "display_data"
    }
   ],
   "source": [
    "# Gráfica\n",
    "f, ax =plt.subplots()\n",
    "ax.plot(ATTM_difference_vector, physical_vector, '+', label = 'Physical-Settled')\n",
    "ax.plot(ATTM_difference_vector, cash_vector, '*', label = 'Cash-Settled')\n",
    "ax.set_xlabel('ATM difference (%)')\n",
    "ax.set_ylabel('prima swaption (payer)')\n",
    "ax.legend()"
   ]
  },
  {
   "cell_type": "code",
   "execution_count": 0,
   "metadata": {
    "colab": {},
    "colab_type": "code",
    "collapsed": true,
    "id": "CX8sZ13QUzOu"
   },
   "outputs": [],
   "source": [
    "# Poner los valores (¿Y errores?)"
   ]
  },
  {
   "cell_type": "markdown",
   "metadata": {
    "colab_type": "text",
    "id": "U8iju2OcxSK7"
   },
   "source": [
    "\n",
    "\n",
    "---\n",
    "\n"
   ]
  },
  {
   "cell_type": "markdown",
   "metadata": {
    "colab_type": "text",
    "id": "cszSFyIIOyBL"
   },
   "source": [
    "# **EJERCICIO 3. **\n",
    "\n",
    "Para el Swaption con las características del ejercicio 1,  ($T_a = \\text{today} + 5Y$, $T_b = T_a + 10Y$) , asumamos que el precio del swaption payer de mercado viene establecido por el LGM ($\\sigma = 1\\%$, $\\kappa = 1 \\%$).\n",
    "\n",
    "\n",
    "Para distintos valores de $\\kappa = -5\\%, -3\\%, -1\\%, 1\\%, 3\\%, 5\\%$\n",
    "\n",
    "\n",
    "1. Calculad el nuevo valor de $\\sigma$ tal que el precio del swaption ATM es igual al original ($\\sigma = 1\\%$, $\\kappa = 1 \\%$).\n",
    "2. Pintar el smile de volatilidad en términos normales para los strikes (en ATM difference) $-200\\;  bp, -100 \\; bp, -50 \\;  bp, 0 \\; bp, 50 \\; bp, 100 \\; bp, 200 \\; bp$\n"
   ]
  },
  {
   "cell_type": "code",
   "execution_count": 0,
   "metadata": {
    "colab": {},
    "colab_type": "code",
    "collapsed": true,
    "id": "K_l2qV-QQyk2"
   },
   "outputs": [],
   "source": [
    "from scipy.stats import norm\n",
    "\n",
    "# Fórmula de BS en términos normales. La vais a necesitar para calcular el smile en términos normales.\n",
    "\n",
    "# ----------------------------------------------------------------\n",
    "# EVALUATE BS ..\n",
    "def BS_norm_price(F, K, T, vol):\n",
    "  '''\n",
    "  Normal Black-Scholes\n",
    "  '''\n",
    "  sigma_sqrt_t = vol * np.sqrt(T)\n",
    "  d1 = (F - K) / sigma_sqrt_t\n",
    "  \n",
    "  return (F-K) * norm.cdf(d1) + sigma_sqrt_t * norm.pdf(d1)\n",
    "# ----------------------------------------------------------------"
   ]
  },
  {
   "cell_type": "markdown",
   "metadata": {
    "colab_type": "text",
    "id": "lMBOhHQtxcwv"
   },
   "source": [
    "##* RESPUESTA 3*\n",
    "\n",
    "---"
   ]
  },
  {
   "cell_type": "markdown",
   "metadata": {
    "colab_type": "text",
    "id": "SkgTRZpK7rXs"
   },
   "source": [
    "### 1. Volatilidad equivalente para diferentes $\\kappa$"
   ]
  },
  {
   "cell_type": "code",
   "execution_count": 0,
   "metadata": {
    "colab": {},
    "colab_type": "code",
    "collapsed": true,
    "id": "WX18s1XjxdZt"
   },
   "outputs": [],
   "source": [
    "# DATOS\n",
    "\n",
    "# Guardamos en la variable \"objetivo\" el valor del swaption original. \n",
    "objetivo = swaption_premium\n",
    "\n",
    "# El valor de C está guardado en memoria tras ejecutar la celda correspondiente\n",
    "# del ejercicio 1\n",
    "\n",
    "sigma = 0.01\n",
    "tenor = 10\n",
    "freq = 2 # 6M\n",
    "Ta = today + 365.25 * 5  #start date\n",
    "#IRS\n",
    "irs = IRS(Ta, 10, 2, C)"
   ]
  },
  {
   "cell_type": "code",
   "execution_count": 0,
   "metadata": {
    "colab": {},
    "colab_type": "code",
    "collapsed": true,
    "id": "bub3JD98OFTd"
   },
   "outputs": [],
   "source": [
    "# Función que nos devuelve la volatilidad que nos da el precio original\n",
    "# en función del valor de kappa:\n",
    "\n",
    "def vol_equivalente(objetivo, kappa_2):\n",
    "\n",
    "    f_obj = lambda vol : LGM_Swaption_Price(today, irs, LGMCurve(ir_curve, kappa_2, vol)) - objetivo\n",
    "    vol_eq = optimize.newton(f_obj, 0.01)\n",
    "    \n",
    "    return vol_eq"
   ]
  },
  {
   "cell_type": "code",
   "execution_count": 0,
   "metadata": {
    "colab": {
     "base_uri": "https://localhost:8080/",
     "height": 34
    },
    "colab_type": "code",
    "id": "ugB_V2UqOFXG",
    "outputId": "a4826599-fa4a-43cc-cf5d-003f39578a92"
   },
   "outputs": [
    {
     "data": {
      "text/plain": [
       "0.01"
      ]
     },
     "execution_count": 137,
     "metadata": {
      "tags": []
     },
     "output_type": "execute_result"
    }
   ],
   "source": [
    "# Comprobar que funciona bien para el kappa original:\n",
    "vol_equivalente(objetivo, 0.01)"
   ]
  },
  {
   "cell_type": "code",
   "execution_count": 0,
   "metadata": {
    "colab": {},
    "colab_type": "code",
    "collapsed": true,
    "id": "0PuG3TKTwkPV"
   },
   "outputs": [],
   "source": [
    "kappa_vector = np.array([-0.05, -0.03, -0.01, 0.01, 0.03, 0.05])\n",
    "\n",
    "vol_eq_vector = np.zeros(len(kappa_vector))\n",
    "\n",
    "for i in range(len(kappa_vector)):\n",
    "    vol_eq_vector[i] = vol_equivalente(objetivo, kappa_vector[i])"
   ]
  },
  {
   "cell_type": "code",
   "execution_count": 0,
   "metadata": {
    "colab": {
     "base_uri": "https://localhost:8080/",
     "height": 52
    },
    "colab_type": "code",
    "id": "RUUoLCnbOFak",
    "outputId": "ecf2bf3c-161a-4173-ee1d-4026a7a84564"
   },
   "outputs": [
    {
     "data": {
      "text/plain": [
       "array([0.00549171, 0.0067285 , 0.00821641, 0.01      , 0.01213047,\n",
       "       0.01466651])"
      ]
     },
     "execution_count": 139,
     "metadata": {
      "tags": []
     },
     "output_type": "execute_result"
    }
   ],
   "source": [
    "vol_eq_vector"
   ]
  },
  {
   "cell_type": "code",
   "execution_count": 0,
   "metadata": {
    "colab": {
     "base_uri": "https://localhost:8080/",
     "height": 470
    },
    "colab_type": "code",
    "id": "94tROocgP_Mk",
    "outputId": "83de47bf-62a5-47b2-818d-e29f8ec447c6"
   },
   "outputs": [
    {
     "data": {
      "text/plain": [
       "Text(0, 0.5, 'Volatilidad Equivalente')"
      ]
     },
     "execution_count": 140,
     "metadata": {
      "tags": []
     },
     "output_type": "execute_result"
    },
    {
     "data": {
      "image/png": "[encoded data removed]",
      "text/plain": [
       "<Figure size 640x480 with 1 Axes>"
      ]
     },
     "metadata": {
      "tags": []
     },
     "output_type": "display_data"
    }
   ],
   "source": [
    "# Gráfica\n",
    "f, ax =plt.subplots()\n",
    "ax.plot(kappa_vector, vol_eq_vector, '.')\n",
    "ax.set_xlabel('kappa (%)')\n",
    "ax.set_ylabel('Volatilidad Equivalente')"
   ]
  },
  {
   "cell_type": "markdown",
   "metadata": {
    "colab_type": "text",
    "id": "4A3ymSIjOFwM"
   },
   "source": [
    "### 2. Smile Volatilidad"
   ]
  },
  {
   "cell_type": "code",
   "execution_count": 0,
   "metadata": {
    "colab": {},
    "colab_type": "code",
    "collapsed": true,
    "id": "faBYqcUwamQ-"
   },
   "outputs": [],
   "source": [
    "def smile(swaption_premium, ATM_difference, C, Ta, today, inicio):\n",
    "\n",
    "    f_objetivo = lambda sigma: BS_norm_price(C, C + ATM_difference, (Ta - today)/365.25, sigma) - swaption_premium\n",
    "    implicit_vol = optimize.newton(f_objetivo, inicio)\n",
    "    \n",
    "    return implicit_vol"
   ]
  },
  {
   "cell_type": "code",
   "execution_count": 0,
   "metadata": {
    "colab": {
     "base_uri": "https://localhost:8080/",
     "height": 34
    },
    "colab_type": "code",
    "id": "sXhMIRKFamOW",
    "outputId": "f269e2e9-9385-487c-9eed-f80d52a718f5"
   },
   "outputs": [
    {
     "data": {
      "text/plain": [
       "0.0702221922554307"
      ]
     },
     "execution_count": 74,
     "metadata": {
      "tags": []
     },
     "output_type": "execute_result"
    }
   ],
   "source": [
    "ATM_difference = -0.02\n",
    "\n",
    "smile(swaption_premium, ATM_difference, C, Ta,today, 0.01)"
   ]
  },
  {
   "cell_type": "code",
   "execution_count": 0,
   "metadata": {
    "colab": {},
    "colab_type": "code",
    "collapsed": true,
    "id": "I-4875tTamLl"
   },
   "outputs": [],
   "source": [
    "ATTM_difference_vector = np.array([-0.02, -0.01, -0.005, 0, 0.005, 0.01, 0.02])\n",
    "\n",
    "\n",
    "\n",
    "vol_BS_vector = np.zeros(len(ATTM_difference_vector))\n",
    "\n",
    "for i in range(len(ATTM_difference_vector)):\n",
    "    \n",
    "    vol_BS_vector[i] = smile(swaption_premium, ATTM_difference_vector[i], C, Ta, today, 0.01)\n",
    "    "
   ]
  },
  {
   "cell_type": "code",
   "execution_count": 0,
   "metadata": {
    "colab": {
     "base_uri": "https://localhost:8080/",
     "height": 489
    },
    "colab_type": "code",
    "id": "ENpomZCani3T",
    "outputId": "9af4228d-0f2a-49e1-f72d-e2f52732ec28"
   },
   "outputs": [
    {
     "data": {
      "text/plain": [
       "Text(0.5, 1.0, 'Smile de Volatilidad')"
      ]
     },
     "execution_count": 76,
     "metadata": {
      "tags": []
     },
     "output_type": "execute_result"
    },
    {
     "data": {
      "image/png": "[encoded data removed]",
      "text/plain": [
       "<Figure size 640x480 with 1 Axes>"
      ]
     },
     "metadata": {
      "tags": []
     },
     "output_type": "display_data"
    }
   ],
   "source": [
    "# Gráfica Smile\n",
    "f, ax =plt.subplots()\n",
    "ax.plot(ATTM_difference_vector, vol_BS_vector, '.')\n",
    "ax.set_xlabel('ATM difference (%)')\n",
    "ax.set_ylabel('Volatilidad Implícita')\n",
    "ax.set_title('Smile de Volatilidad')"
   ]
  },
  {
   "cell_type": "code",
   "execution_count": 0,
   "metadata": {
    "colab": {},
    "colab_type": "code",
    "collapsed": true,
    "id": "gGk-W299nodx"
   },
   "outputs": [],
   "source": [
    "# Ampliemos la cantidad de strikes para visualizar el smile"
   ]
  },
  {
   "cell_type": "code",
   "execution_count": 0,
   "metadata": {
    "colab": {},
    "colab_type": "code",
    "collapsed": true,
    "id": "kArUYPhLZjLp"
   },
   "outputs": [],
   "source": [
    "from scipy.optimize import fsolve\n",
    "ATTM_difference_vector = np.linspace(-0.05,0.05,100)\n",
    "\n",
    "\n",
    "\n",
    "vol_BS_vector = np.zeros(len(ATTM_difference_vector))\n",
    "\n",
    "for i in range(len(ATTM_difference_vector)):\n",
    "    \n",
    "    vol_BS_vector[i] = smile(swaption_premium, ATTM_difference_vector[i], C, Ta, 0.01)\n",
    "    \n",
    "\n",
    "\n"
   ]
  },
  {
   "cell_type": "code",
   "execution_count": 0,
   "metadata": {
    "colab": {
     "base_uri": "https://localhost:8080/",
     "height": 489
    },
    "colab_type": "code",
    "id": "xXTfwHrpivhm",
    "outputId": "935513fa-9443-4d91-f555-45ba698bd730"
   },
   "outputs": [
    {
     "data": {
      "text/plain": [
       "Text(0.5, 1.0, 'Smile de Volatilidad')"
      ]
     },
     "execution_count": 71,
     "metadata": {
      "tags": []
     },
     "output_type": "execute_result"
    },
    {
     "data": {
      "image/png": "[encoded data removed]",
      "text/plain": [
       "<Figure size 640x480 with 1 Axes>"
      ]
     },
     "metadata": {
      "tags": []
     },
     "output_type": "display_data"
    }
   ],
   "source": [
    "f, ax =plt.subplots()\n",
    "ax.plot(ATTM_difference_vector, vol_BS_vector,'.')\n",
    "ax.set_xlabel('ATM difference (%)')\n",
    "ax.set_ylabel('Volatilidad Implícita')\n",
    "ax.set_title('Smile de Volatilidad')"
   ]
  },
  {
   "cell_type": "code",
   "execution_count": 0,
   "metadata": {
    "colab": {},
    "colab_type": "code",
    "collapsed": true,
    "id": "nY16uTuOiwdC"
   },
   "outputs": [],
   "source": []
  }
 ],
 "metadata": {
  "colab": {
   "collapsed_sections": [],
   "name": "Resolución ExamenTipos - LUIS.ipynb",
   "provenance": [],
   "version": "0.3.2"
  },
  "kernelspec": {
   "display_name": "Python 3",
   "language": "python",
   "name": "python3"
  },
  "language_info": {
   "codemirror_mode": {
    "name": "ipython",
    "version": 3
   },
   "file_extension": ".py",
   "mimetype": "text/x-python",
   "name": "python",
   "nbconvert_exporter": "python",
   "pygments_lexer": "ipython3",
   "version": "3.6.3"
  }
 },
 "nbformat": 4,
 "nbformat_minor": 1
}
