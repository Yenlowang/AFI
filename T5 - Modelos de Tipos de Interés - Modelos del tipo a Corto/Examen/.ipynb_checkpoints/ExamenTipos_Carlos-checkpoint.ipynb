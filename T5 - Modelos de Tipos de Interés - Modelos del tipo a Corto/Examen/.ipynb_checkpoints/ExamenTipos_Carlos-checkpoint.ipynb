{
 "cells": [
  {
   "cell_type": "markdown",
   "metadata": {
    "colab_type": "text",
    "id": "aqHbFpoXv7Jj"
   },
   "source": [
    "En esta celda definimos los objetos curva de Tipos de Interés.\n",
    "\n",
    "\n",
    "1.   **Curva estática ( IRCurve)**: Ésta curva es independiente de modelo y sería la que Bootstrapearíamos de precios de IRS. Es una interpolación en splines de logaritmo de Factores de Descuento.\n",
    "\n",
    "2.   **Curva del LGM (LGMCurve) **: Se trata de una curva dinámica (de acuerdo al LGM). En un instante futuro, esta curva depende de la curva estática y del valor que pudiera tomar la variable x.\n",
    "\n",
    "\n",
    "# **Curva LGM**\n",
    "\n",
    "Sea \n",
    "\n",
    "$$\n",
    "dx_t = \\sigma dW^{\\mathcal{N}}_t \\;\\;\\;\\; s.t \\;\\;\\;\\; x(0) = 0\n",
    "$$\n",
    "\n",
    "la dinámica de la variable que establece el comportamiento de la curva de tipos de interés.\n",
    "\n",
    "El modelo LGM, establece la relación que existe entre esta variable y el numerario a una fecha futura.\n",
    "\n",
    "$$\n",
    "N(t, x_t) = \\frac{1}{B(0, t)} exp \\bigg( -H_t x_t - \\frac{1}{2} H_t^2 \\zeta_t \\bigg)\n",
    "$$\n",
    "\n",
    "donde $B(0, t)$ es el factor de descuento a vencimiento $t$ con la curva estática. $H_t = \\frac{1-e^{-\\kappa t}}{\\kappa}$\n",
    "\n",
    "En clase demostramos que, dado el numeraio, el factor de descuento (según LGM) a una feha futura, $B(t, T, x_t)$ , como función de $x_t$ venía dado como,\n",
    "\n",
    "$$\n",
    "B(t, T, x_t) = \\frac{B(0, T)}{B(0, t)} exp\\bigg( - \\left( H_T - H_t \\right) x_t - \\frac{1}{2} \\left( H_T^2 - H_t^2\\right) \\zeta_t \\bigg)\n",
    "$$\n",
    "\n",
    "\n",
    "$ \\textbf{Pregunta 1: Demostrar la ecuación de arriba.}$\n",
    "\n",
    "$ \\textbf{Pregunta 2: Explica cómo impacta  $H_t$ o $\\kappa$ en la forma de la curva.}$\n"
   ]
  },
  {
   "cell_type": "code",
   "execution_count": 1,
   "metadata": {
    "colab": {},
    "colab_type": "code",
    "collapsed": true,
    "id": "MTd-1UqVwUBD"
   },
   "outputs": [],
   "source": [
    "\n",
    "##########################################################\n",
    "#\n",
    "#     NO ES NECESARIO TOCAR ESTA FUNCIÓN\n",
    "#\n",
    "##########################################################\n",
    "\n",
    "\n",
    "import numpy as np\n",
    "from scipy.interpolate import interp1d\n",
    "import scipy as sc\n",
    "import matplotlib.pyplot as plt\n",
    "\n",
    "\n",
    "\n",
    "plt.style.use('default')\n",
    "\n",
    "# ------------------------------------------------\n",
    "\n",
    "# Clase Curva\n",
    "class IRCurve:\n",
    "  \n",
    "  # CONSTRUCTOR (Da vida a la clase)\n",
    "  def __init__(self, dates, dfs):\n",
    "    self._ref_date = dates[0]\n",
    "    self._dfs = dfs\n",
    "    self._times = (dates - dates[0]) / 365.25\n",
    "    self._rates_time = -np.log(dfs)\n",
    "    self._curve = interp1d(self._times, self._rates_time, kind = 'cubic')\n",
    "  \n",
    "  # Devuelve B(t, T) = B(0, T) / B(0, t)\n",
    "  def get_zero(self, t, T):\n",
    "    B_0_T = np.exp(-self._curve((T-self._ref_date)/365.25))\n",
    "    B_0_t = np.exp(-self._curve((t-self._ref_date)/365.25))\n",
    "    \n",
    "    return B_0_T / B_0_t\n",
    "  \n",
    " # -----------------------------------------------------\n",
    " \n",
    "def H(kappa, time):\n",
    "  return (1 - np.exp(-kappa * time)) / kappa\n",
    "  \n",
    "  \n",
    "# Definición de la clase LGM\n",
    "class LGMCurve:\n",
    "\n",
    "  # CONSTRUCTOR\n",
    "  def __init__(self, IR_curve, kappa, sigma):\n",
    "    self._curve = IR_curve\n",
    "    self._kappa = kappa\n",
    "    self._sigma = sigma\n",
    "\n",
    "  # Numerario: N(t, xt)\n",
    "  def numeraire(self, t, xt):\n",
    "\n",
    "    time_to_t = (t - self._curve._ref_date) / 365.25\n",
    "    ht = H(self._kappa, time_to_t)\n",
    "    zeta_t = (self._sigma ** 2) * time_to_t\n",
    "\n",
    "    exponent = ht * xt + 0.5 * (ht**2) * zeta_t\n",
    "\n",
    "    return 1 / self._curve.get_zero(self._curve._ref_date, t) \\\n",
    "            * np.exp(exponent)\n",
    "  \n",
    "  # B(t, T, xt)\n",
    "  def get_zero_x(self, t, T, xt):\n",
    "\n",
    "    time_to_t = (t - self._curve._ref_date) / 365.25\n",
    "    time_to_T = (T - self._curve._ref_date) / 365.25\n",
    "\n",
    "    ht = H(self._kappa, time_to_t)\n",
    "    hT = H(self._kappa, time_to_T)\n",
    "\n",
    "    zeta = (self._sigma * self._sigma) * time_to_t\n",
    "\n",
    "    df = self._curve.get_zero(t, T) \n",
    "    exponent = (hT -ht ) * xt + 0.5 * (hT * hT - ht * ht) * zeta \n",
    "\n",
    "    df *= np.exp(-exponent)\n",
    "\n",
    "    return df\n",
    "    \n",
    "    \n",
    " # -----------------------------------------------------"
   ]
  },
  {
   "cell_type": "markdown",
   "metadata": {
    "colab_type": "text",
    "id": "fOG7Ebqc21TZ"
   },
   "source": [
    "**En la siguiente celda, inicializamos la fecha valor (today) y la curva estática (ir_curve). A lo largo de todo el ejercicio utilizaremos la misma curva**\n",
    "\n"
   ]
  },
  {
   "cell_type": "code",
   "execution_count": 2,
   "metadata": {
    "colab": {},
    "colab_type": "code",
    "collapsed": true,
    "id": "O9r775Eo24ip"
   },
   "outputs": [],
   "source": [
    "\n",
    "\n",
    "\n",
    "#################################################################################\n",
    "\n",
    "today = 43561 # 6 de Abril de 2019\n",
    "last_date = today + 365.25 * 40\n",
    "\n",
    "# Defino las fechas pilar para los factores de desceunto ...\n",
    "pillar_dates = np.linspace(today, last_date, 50)\n",
    "\n",
    "# Defino los rates como curva no plana\n",
    "dates_rates = np.array([today, today + 365, today + 365 * 5, today + 365 * 10, \\\n",
    "                       today +365 * 20, today + 365 * 30, today + 365 * 50])\n",
    "rates = np.array([0.0, 0.005, 0.01, 0.015, 0.02, 0.025, 0.028])\n",
    "\n",
    "# Calculo los FD de acuerdo a esa estructura no plana de tipos\n",
    "dfs = np.zeros(len(pillar_dates))\n",
    "rate_interp = interp1d(dates_rates, rates, kind = 'linear')\n",
    "for i in range( len(pillar_dates)):\n",
    "  rate = rate_interp(pillar_dates[i])\n",
    "  dfs[i] = (np.exp(-rate * (pillar_dates[i] - today)/ 365.25))\n",
    "\n",
    "# Definimos IR Curve (Curva original)  \n",
    "ir_curve = IRCurve(pillar_dates, dfs)\n",
    "\n",
    "#################################################################################\n",
    "\n"
   ]
  },
  {
   "cell_type": "markdown",
   "metadata": {
    "colab_type": "text",
    "id": "97HRzifIBIzp"
   },
   "source": [
    "# **Análisis del impacto de Kappa**\n",
    "Se \"miran\" las curvas en un instante de tiempo posterior a t_date_i (today + 5 años en el ejemplo)\n",
    "\n",
    "Se toman  disintos valores del parámetro kappa mediante un linspace\n",
    "\n",
    "Con dos bulces for anidados se obtienen las curvas de factores de descuento y tipos para cada kappa barriendo  los maturities (sólo aquellos posteriores a t_date_i ) obtenidos por simulacion de LGM y se comparan respecto a los originales.\n",
    "\n",
    "Se ha efectuado un cálculo doble para los factores de descuento: (1) simulando el movimiento de la curva de tipos y tomando el factor de descuento medio, y (2) obteniendo el factor de descuento para x=0"
   ]
  },
  {
   "cell_type": "code",
   "execution_count": 3,
   "metadata": {
    "colab": {
     "base_uri": "https://localhost:8080/",
     "height": 871
    },
    "colab_type": "code",
    "executionInfo": {
     "elapsed": 3448,
     "status": "ok",
     "timestamp": 1555954331227,
     "user": {
      "displayName": "CARLOS MORAL GONZALEZ",
      "photoUrl": "https://lh6.googleusercontent.com/-ZDv2fcNZ588/AAAAAAAAAAI/AAAAAAAAAAA/vj8TjX8ljUk/s64/photo.jpg",
      "userId": "13400514416389366338"
     },
     "user_tz": -120
    },
    "id": "mj0uBIkgkUT9",
    "outputId": "a172b3b5-e529-4e74-a957-5f41bb0f237b"
   },
   "outputs": [
    {
     "name": "stderr",
     "output_type": "stream",
     "text": [
      "C:\\Users\\e051692\\Documents\\Software\\Anaconda\\lib\\site-packages\\ipykernel_launcher.py:62: RuntimeWarning: divide by zero encountered in log\n"
     ]
    },
    {
     "name": "stdout",
     "output_type": "stream",
     "text": [
      "45386\n"
     ]
    }
   ],
   "source": [
    "#Impacto del kappa\n",
    "kappa_test_up=0.3\n",
    "kappa_test_down=-0.3\n",
    "kappa_test_range=np.linspace(kappa_test_down, kappa_test_up, 7) \n",
    "\n",
    "if round(len(kappa_test_range)/2+1e-5) - len(kappa_test_range) / 2 > 0:\n",
    "  kappa_test_range[round(len(kappa_test_range)/2+1e-5)-1] = 1e-7 \n",
    "  # si tengo un numero de elementos impar en kappa reescribo kappa=0 como 1e-6 para evitar la indeterminacion\n",
    "\n",
    "sigma_kappa_test=0.01\n",
    "\n",
    "\n",
    "nb_of_simuls=100000\n",
    "\n",
    "\n",
    "date_i=dates_rates[2] #evaluo la curva tras 5 años\n",
    "#date_i=today\n",
    "\n",
    "\n",
    "N_0_1 = np.random.normal(size = nb_of_simuls)\n",
    "zeta_i = ((date_i - today) / 365.25)  * (sigma_kappa_test ** 2)\n",
    "X_at_date_i =  N_0_1 * np.sqrt(zeta_i)\n",
    "\n",
    "\n",
    "\n",
    "\n",
    "\n",
    "dfs_kappa_test = np.zeros((len(kappa_test_range), len(pillar_dates)) )\n",
    "dfs_kappa_test_x0 = np.zeros((len(kappa_test_range), len(pillar_dates)) )    \n",
    "initial_dfs = np.zeros(len(pillar_dates))\n",
    "rates_kappa_test = np.zeros((len(kappa_test_range), len(pillar_dates)) ) \n",
    "initial_rates_kappa_test = np.zeros(len(pillar_dates))\n",
    "\n",
    "# GENERATE GRAPH ...  \n",
    "f, ax = plt.subplots(2,2,sharey=False)\n",
    "\n",
    "#barro distintos kappas\n",
    "\n",
    "for i in range( len(kappa_test_range)):\n",
    "  \n",
    "  #voy a fijar un maturity\n",
    "  #T_kappa_test=dates_rates[4] #he fijado una arbitrariamente\n",
    "  #t=(T_kappa_test-today)/2+today\n",
    "  \n",
    "  #Dado un kappa genero una instancia de LGMCurve con dicho valor\n",
    "  \n",
    "  lgm_curve_kappa_test= LGMCurve(ir_curve, kappa_test_range[i], sigma_kappa_test)\n",
    "  \n",
    "  j_start=0\n",
    "  \n",
    "  #barro distintos maturities para obtener una curva vista en t_i\n",
    "  for j in range(len(pillar_dates)): \n",
    "    \n",
    "    #compruebo que el maturity no sea menor que la fecha en la que evaluo la curva\n",
    "    \n",
    "    if pillar_dates[j]>date_i:\n",
    "    \n",
    "\n",
    "      dfs_kappa_test[i][j] = np.mean(lgm_curve_kappa_test.get_zero_x( date_i, pillar_dates[j], X_at_date_i))\n",
    "      dfs_kappa_test_x0[i][j] = lgm_curve_kappa_test.get_zero_x( date_i, pillar_dates[j],0)\n",
    "      \n",
    "      rates_kappa_test[i][j] = -np.log(dfs_kappa_test[i][j]) / ((pillar_dates[j] - date_i ) / 365.25)\n",
    "      \n",
    "      initial_dfs[j] = ir_curve.get_zero( date_i, pillar_dates[j] )\n",
    "\n",
    "      initial_rates_kappa_test[j] = -np.log(initial_dfs[j]) / ((pillar_dates[j] - date_i ) / 365.25)\n",
    "      \n",
    "    else: j_start = j_start+1 \n",
    "  \n",
    "  ax[0][0].plot(pillar_dates[j_start:], dfs_kappa_test[i][j_start:], 'o',label = 'mean df for kappa =%f' %kappa_test_range[i] )\n",
    "  ax[0][1].plot(pillar_dates[j_start:], dfs_kappa_test_x0[i][j_start:], 'o',label = 'df for x=0 and kappa =%f' %kappa_test_range[i] )\n",
    "  ax[1][0].plot(pillar_dates[j_start:], rates_kappa_test[i][j_start:], 'o',label = 'mean rates for  kappa =%f' %kappa_test_range[i] )\n",
    "  \n",
    "  \n",
    "  # Añado a los graficos los factores de descuent\n",
    "ax[0][0].plot(pillar_dates[j_start:], initial_dfs[j_start:], 'x',label = 'original df' )\n",
    "ax[0][1].plot(pillar_dates[j_start:], initial_dfs[j_start:], 'x',label = 'original df' )\n",
    "ax[1][0].plot(pillar_dates[j_start:], initial_rates_kappa_test[j_start:], 'x',label = 'original rates' )\n",
    "\n",
    "\n",
    "\n",
    "ax[0][0].legend()\n",
    "ax[0][1].legend()\n",
    "ax[1][0].legend()\n",
    "\n",
    "f.set_size_inches(20, 10)\n",
    "\n",
    "\n",
    "print(date_i)"
   ]
  },
  {
   "cell_type": "code",
   "execution_count": 4,
   "metadata": {
    "colab": {
     "base_uri": "https://localhost:8080/",
     "height": 35
    },
    "colab_type": "code",
    "executionInfo": {
     "elapsed": 3436,
     "status": "ok",
     "timestamp": 1555954331236,
     "user": {
      "displayName": "CARLOS MORAL GONZALEZ",
      "photoUrl": "https://lh6.googleusercontent.com/-ZDv2fcNZ588/AAAAAAAAAAI/AAAAAAAAAAA/vj8TjX8ljUk/s64/photo.jpg",
      "userId": "13400514416389366338"
     },
     "user_tz": -120
    },
    "id": "g0kDjUIUqWTm",
    "outputId": "a3d3a0c3-9ca0-4ee8-dacd-96f20a73b3f0"
   },
   "outputs": [
    {
     "name": "stdout",
     "output_type": "stream",
     "text": [
      "[-3.e-01 -2.e-01 -1.e-01  1.e-07  1.e-01  2.e-01  3.e-01]\n"
     ]
    }
   ],
   "source": [
    "print(kappa_test_range)"
   ]
  },
  {
   "cell_type": "markdown",
   "metadata": {
    "colab_type": "text",
    "id": "Q6_wXtjwQrsw"
   },
   "source": [
    "\n",
    "# **Función de valoración de un Swaption de acuerdo al LGM**\n",
    "\n",
    "Supongamos un Call-Money-Swap cuya fecha de comienzo denotamos por $T_a$ y última fecha de pago es $T_b$. Supongamos una opción que nos da derecho a entrar en ese IRS en la fecha $T_a$. La prima forward de este swaption (de acuerdo al LGM) puede expresarse como:\n",
    "\n",
    "\\begin{equation}\n",
    "\\frac{V_t}{B(t, T_a)} = E^\\mathcal{N}\\left(  \\left( 1- B(T_a, T_b, x(T_a)) - K \\sum_{j=1}^N \\Delta_j B(T_a, T_j, x(T_a)) \\right)^+ \\bigg| \\mathcal{F}_t \\right) \n",
    "\\end{equation}\n",
    "\n",
    "Vimos en clase, que como el valor de este IRS es monótono en $x(T_a)$, podemos buscar el valor $x^{*}$ para el cual, \n",
    "\n",
    "$$\n",
    "1- B(T_a, T_b, x^*) - K \\sum_{j=1}^N \\Delta_j B(T_a, T_j, x^*) = 0\n",
    "$$\n",
    "\n",
    "\n",
    "Aplicando ésto, la prima forward puede expresarse como, \n",
    "\n",
    "\\begin{equation}\n",
    "\\frac{V_t}{B(t, T_a)} = E^\\mathcal{N}\\left(  \\left( B(T_a, T_b, x^*)- B(T_a, T_b, x(T_a)) \\right) ^+ \\bigg| \\mathcal{F}_t \\right) - K \\sum_{j=1}^N \\Delta_j  E^\\mathcal{N}\\left(\\left( B(T_a, T_j, x^*) -  B(T_a, T_j, x(T_a)) \\right)^+ \\bigg| \\mathcal{F}_t \\right) \n",
    "\\end{equation}\n",
    "\n",
    "\n",
    "\n",
    "Finalmente, vimos en clase que la función de valoración podríamos expresarla en función de Black-Scholes como\n",
    "\n",
    "\\begin{equation}\n",
    "\\frac{V_t}{B(t, T_a)} = \\sum_{j=1}^N  \\omega_j BS^{LN}\\bigg( \\text{forward} =  \\frac{B(t, T_j)}{B(t, T_a)},  \\text{strike} = B(T_a, T_j,  x^*), \\text{mty} = T_a, \\text{varianza} = \\sigma^2 \\left( H_{T_a} - H_{T_j}\\right)^2 \\bigg) \n",
    "\\end{equation}\n",
    "\n",
    "donde \n",
    "\n",
    "$$\n",
    "\\omega_j=\\left\\{\n",
    "                \\begin{array}{ll}\n",
    "                  K\\Delta_j & \\text{si} & j = 1, \\ldots, N - 1\\\\\n",
    "                  1 + K \\Delta_N & text{si} & j = N\\\\\n",
    "                \\end{array}\n",
    "              \\right.\n",
    "$$\n",
    "\n",
    "\n",
    "# **EJERCICIO 1**\n",
    "\n",
    "Calcular el precio de un swaption payer ATM ($T_a = \\text{today} + 5Y$, $T_b = T_a + 10Y$) de acuerdo al LGM ($\\sigma = 1\\%$, $\\kappa = 1 \\%$), de acuerdo a los siguientes métodos:\n",
    "\n",
    "\n",
    "\n",
    "1.   Función Analítica: Ésta es la que describimos más arriba, y cuya función ponemos en la siguiente celda.\n",
    "2.   MC: Simula por MC la variable $x(T_a)$ y calcula \n",
    "$$\n",
    "\\frac{1}{B(t, T_a)}E_t \\left( \\frac{ IRS(T_a, x(T_a))^+}{N(T_a, x(Ta))} \\bigg| \\mathcal{F}_t \\right)\n",
    "$$\n",
    "\n",
    "Calcula también el intervalo de confianza al 95%\n",
    "3. Calcula el precio por integral numérica, \n",
    "\n",
    "$$\n",
    "\\frac{1}{B(t, T_a)} \\int_{-\\infty}^{\\infty} \\frac{ IRS(T_a, x)^+}{N(T_a, x)} \\eta_{x(T_a)}(x) dx\n",
    "$$\n",
    "\n",
    "Tratad de relacionar (con vuestras palabras) el método 2 y 3.\n",
    "\n",
    "\n",
    "4. Resuelve el precio por integral numérica donde la función de densidad la calcules derivando dos veces la función de valoración del swaption en (1) dos veces.\n",
    "\n",
    "$$\n",
    "V(t) = \\int_{-\\infty}^{\\infty} \\left(S -K \\right)^{+} \\frac{\\partial^2 Swptn}{\\partial K^2}\\bigg|_{K = S}dS\n",
    "$$\n",
    "\n",
    "Donde $Swptn$ es la prima forward del apartado (1)\n",
    "$$\n",
    "Swptn = E^\\mathcal{N}\\left(  \\left( 1- B(T_a, T_b, x(T_a)) - K \\sum_{j=1}^N \\Delta_j B(T_a, T_j, x(T_a)) \\right)^+ \\bigg| \\mathcal{F}_t \\right) \n",
    "$$"
   ]
  },
  {
   "cell_type": "markdown",
   "metadata": {
    "colab_type": "text",
    "id": "XTpmqScD7dnf"
   },
   "source": [
    "En la siguiente celda están definidos:\n",
    "\n",
    "1. El instrumento IRS (IRS)\n",
    "2. La función de valoración de un IRS de acuerdo al LGM (LGM_IRS_Price)\n",
    "3. La función de valoración analítica de un swaption (LGM_Swaption_Price)"
   ]
  },
  {
   "cell_type": "code",
   "execution_count": 5,
   "metadata": {
    "colab": {},
    "colab_type": "code",
    "collapsed": true,
    "id": "IGcZc8clYMR3"
   },
   "outputs": [],
   "source": [
    "\n",
    "# CLASE IRS\n",
    "class IRS:\n",
    "  \n",
    "  def __init__(self, start_date, tenor, freq, fixed_coupon):\n",
    "    self.start_date = start_date\n",
    "    self.end_date = start_date + tenor * 365.25\n",
    "    self.fix_dates = np.linspace(self.start_date, self.end_date, tenor * freq) \n",
    "    self.fixed_coupon = fixed_coupon\n",
    "    self.dcf = (self.fix_dates[1:] - self.fix_dates[0:-1])/360 # Act/360\n",
    "    self.fix_dates = self.fix_dates[1:]\n",
    "\n",
    "# --------------------------------------------------------\n",
    "    \n",
    "# Función que valora el IRS de acuerdo al LGM\n",
    "def LGM_IRS_price(value_date, irs, lgm_curve, x_at_value_date):\n",
    "  \n",
    "  # Pata Flotante\n",
    "  floating_leg = lgm_curve.get_zero_x(value_date, irs.start_date, x_at_value_date) - \\\n",
    "                 lgm_curve.get_zero_x(value_date, irs.end_date, x_at_value_date) \n",
    "    \n",
    "  # Pata Fija\n",
    "  fixed_leg = 0\n",
    "  for i in range(len(irs.fix_dates)):\n",
    "    fixed_leg += irs.dcf[i] * lgm_curve.get_zero_x(value_date, \\\n",
    "                                                   irs.fix_dates[i], x_at_value_date)\n",
    "  \n",
    "  fixed_leg *= irs.fixed_coupon\n",
    "  \n",
    "  return (floating_leg - fixed_leg)\n",
    "\n",
    "# --------------------------------------------------------\n",
    "\n",
    "\n",
    "# Función de valoración del swaption\n",
    "def LGM_Swaption_Price(value_date, irs, lgm_curve):\n",
    "  \n",
    "  # 1. Calculamos x_star tal que IRS(T, x_star) = 0 \n",
    "  T_mat = irs.start_date\n",
    "  f_obj = lambda x : LGM_IRS_price(T_mat, irs, lgm_curve, x)\n",
    "  x_star = optimize.newton(f_obj, 0)\n",
    "  \n",
    "  # Función anidada que calcula la put sobre ZC -------------\n",
    "  def ZC_put(T_j):\n",
    "    # Valoramos la última put sobre ZC\n",
    "    fwd = lgm_curve.get_zero_x(value_date, T_j, 0) / \\\n",
    "          lgm_curve.get_zero_x(value_date, irs.start_date, 0)\n",
    "\n",
    "    # strike B(T, T_N, x_star)\n",
    "    strike = lgm_curve.get_zero_x(irs.start_date, T_j, x_star)\n",
    "\n",
    "    # vol = (H_T - H_T_N) sigma_x\n",
    "    vol = H(lgm_curve._kappa, (irs.start_date - value_date) / 365.25) - \\\n",
    "          H(lgm_curve._kappa, (T_j - value_date) / 365.25)\n",
    "    \n",
    "    vol *= lgm_curve._sigma\n",
    "    \n",
    "    vol = np.abs(vol)\n",
    "\n",
    "    # Llamamos BS\n",
    "    last_call = LN_BlackScholes(fwd, strike, \\\n",
    "                               (irs.start_date - value_date)/365.25, vol)\n",
    "    last_put = last_call - (fwd - strike)\n",
    "    \n",
    "    return last_put\n",
    "  # ------------------------------------------------------------\n",
    "  \n",
    "  # Iteramos por todas las fechas de pago del IRS y calculamos \\\n",
    "  # las puts sobre los ZC.\n",
    "  \n",
    "  swaption = 0 \n",
    "  for i in range(len(irs.fix_dates)):\n",
    "    # Calculate put\n",
    "    put = ZC_put(irs.fix_dates[i])\n",
    "    \n",
    "    # Calculate K Delta o (1 + K Delta)\n",
    "    notional = irs.dcf[i] * irs.fixed_coupon \n",
    "    if i == len(irs.fix_dates)-1:\n",
    "      notional += 1 \n",
    "      \n",
    "      \n",
    "    # Actualizamos el precio del swaption\n",
    "    swaption += notional * put\n",
    "  \n",
    "  return swaption\n",
    "  \n",
    "  \n",
    "# ---------------------------------------------------------------\n"
   ]
  },
  {
   "cell_type": "code",
   "execution_count": 6,
   "metadata": {
    "colab": {
     "base_uri": "https://localhost:8080/",
     "height": 35
    },
    "colab_type": "code",
    "executionInfo": {
     "elapsed": 3417,
     "status": "ok",
     "timestamp": 1555954331245,
     "user": {
      "displayName": "CARLOS MORAL GONZALEZ",
      "photoUrl": "https://lh6.googleusercontent.com/-ZDv2fcNZ588/AAAAAAAAAAI/AAAAAAAAAAA/vj8TjX8ljUk/s64/photo.jpg",
      "userId": "13400514416389366338"
     },
     "user_tz": -120
    },
    "id": "6NVDe-aqK7uz",
    "outputId": "7de32814-2fa7-474c-b753-74f15603a3fd"
   },
   "outputs": [
    {
     "name": "stdout",
     "output_type": "stream",
     "text": [
      "0.020942532876816206\n"
     ]
    }
   ],
   "source": [
    "#Resolucion Ejercicio 1: \n",
    "\n",
    "#Obtención del cupón \n",
    "from scipy import optimize\n",
    "\n",
    "\n",
    "#Dado que el swaption es ATM debo encontrar el valor de cupón tal que el IRS valga cero\n",
    "T_a_1=today + 5*365.25\n",
    "#T_b_1= T_a_1 + 10*365.25\n",
    "kappa_1 = 0.01\n",
    "sigma_1 = 0.01\n",
    "\n",
    "lgm_curve_1 = LGMCurve(ir_curve, kappa_1, sigma_1)\n",
    "\n",
    "\n",
    "f_obj = lambda C : LGM_IRS_price(today, IRS(T_a_1, 10, 2, C), lgm_curve_1, 0)\n",
    "C = optimize.newton(f_obj, 0)\n",
    "\n",
    "print(C)\n",
    "\n"
   ]
  },
  {
   "cell_type": "code",
   "execution_count": 7,
   "metadata": {
    "colab": {},
    "colab_type": "code",
    "collapsed": true,
    "id": "jlmA3K4MX6pK"
   },
   "outputs": [],
   "source": [
    "from scipy.stats import norm\n",
    "\n",
    "# ----------------------------------------- | ----------\n",
    "\n",
    "# BLACK SCHOLES ..\n",
    "def LN_BlackScholes(S0, K, T, sigma):\n",
    "  d1 = (np.log(S0/K) + 0.5 *  (sigma**2) * T )/(np.sqrt(T) * sigma)\n",
    "  d2 = d1 - sigma * np.sqrt(T)\n",
    "  \n",
    "  return S0 * norm.cdf(d1) - K * norm.cdf(d2) "
   ]
  },
  {
   "cell_type": "code",
   "execution_count": 8,
   "metadata": {
    "colab": {
     "base_uri": "https://localhost:8080/",
     "height": 35
    },
    "colab_type": "code",
    "executionInfo": {
     "elapsed": 3397,
     "status": "ok",
     "timestamp": 1555954331260,
     "user": {
      "displayName": "CARLOS MORAL GONZALEZ",
      "photoUrl": "https://lh6.googleusercontent.com/-ZDv2fcNZ588/AAAAAAAAAAI/AAAAAAAAAAA/vj8TjX8ljUk/s64/photo.jpg",
      "userId": "13400514416389366338"
     },
     "user_tz": -120
    },
    "id": "qF0A7pJQZGev",
    "outputId": "c4ee472e-5ab2-46e7-ecc1-6689257ba9a3"
   },
   "outputs": [
    {
     "name": "stdout",
     "output_type": "stream",
     "text": [
      "0.07315000431655852\n"
     ]
    }
   ],
   "source": [
    "# Con dicho cupon y la funcion analitica BS ya tengo los inputs necesarios para valorar el swaption ATM\n",
    "\n",
    "irs_1 = IRS(T_a_1, 10, 2, C)\n",
    "\n",
    "swaption_price_1 = LGM_Swaption_Price(today, irs_1, lgm_curve_1)\n",
    "\n",
    "print( swaption_price_1)"
   ]
  },
  {
   "cell_type": "code",
   "execution_count": 9,
   "metadata": {
    "colab": {
     "base_uri": "https://localhost:8080/",
     "height": 35
    },
    "colab_type": "code",
    "executionInfo": {
     "elapsed": 4037,
     "status": "ok",
     "timestamp": 1555954331918,
     "user": {
      "displayName": "CARLOS MORAL GONZALEZ",
      "photoUrl": "https://lh6.googleusercontent.com/-ZDv2fcNZ588/AAAAAAAAAAI/AAAAAAAAAAA/vj8TjX8ljUk/s64/photo.jpg",
      "userId": "13400514416389366338"
     },
     "user_tz": -120
    },
    "id": "R8Y9z57pZfuf",
    "outputId": "5c3284e7-a399-4459-c28d-1883c1383922"
   },
   "outputs": [
    {
     "name": "stdout",
     "output_type": "stream",
     "text": [
      "0.07314587224628917\n"
     ]
    }
   ],
   "source": [
    "#simulacion por MonteCarlo\n",
    "\n",
    "\n",
    "nb_of_simuls = 1000000\n",
    "\n",
    "T_MC = T_a_1\n",
    "\n",
    "payoff_MC = np.zeros(nb_of_simuls)\n",
    "numeraires_MC = np.zeros(nb_of_simuls)\n",
    "\n",
    "N_0_1 = np.random.normal(size = nb_of_simuls)\n",
    "zeta_MC = ((T_MC - today) / 365.25)  * (sigma_1 ** 2)\n",
    "X_T_MC =  N_0_1 * np.sqrt(zeta_MC)\n",
    "\n",
    "#values_MC = LGM_Swaption_Price(T_MC-1, irs_1, lgm_curve_1)\n",
    "payoff_MC = np.maximum(LGM_IRS_price(T_MC, irs_1, lgm_curve_1, X_T_MC ),0)\n",
    "\n",
    "numeraires_MC = lgm_curve_1.numeraire(T_MC, X_T_MC)\n",
    "#numeraires_MC_2 = lgm_curve_1.numeraire(T_MC-1, X_T_MC)\n",
    "\n",
    "\n",
    "price_MC = np.mean(payoff_MC/numeraires_MC)/ir_curve.get_zero(today, T_MC)\n",
    "#price_MC_2 = np.mean(LGM_Swaption_Price(T_MC-1, irs_1, lgm_curve_1)/numeraires_MC_2)/ir_curve.get_zero(today, T_MC-1)\n",
    "print (price_MC)\n",
    "#print (price_MC_2)"
   ]
  },
  {
   "cell_type": "markdown",
   "metadata": {
    "colab_type": "text",
    "id": "jom3Pxlpg7VX"
   },
   "source": [
    "# **EJERCICIO 2. **\n",
    "\n",
    "Para el Swaption con las características del ejercicio 1,  ($T_a = \\text{today} + 5Y$, $T_b = T_a + 10Y$) y  de acuerdo al LGM ($\\sigma = 1\\%$, $\\kappa = 1 \\%$),  calculad para los Strikes en ATM difference (ATM Differece = K - Forward) = $-200\\;  bp, -100 \\; bp, -50 \\;  bp, 0 \\; bp, 50 \\; bp, 100 \\; bp, 200 \\; bp$ el precio del Swaption Payer Physical Settled vs Cash-Settled.\n",
    "\n",
    "Recordad que el precio del Swaption Physical-Settled es el que habéis calculado en ejercicio 1. El Pay-Off a vencimiento del Csh-Settled es\n",
    "\n",
    "$$\n",
    "Swptn^\\text{Cash}(T_a) = \\left( S(T_a, x(T_a)) - K \\right)^+ \\sum_{j=1}^N \\frac{ \\Delta_j }{\\left(1 + S(T_a, x(T_a)) \\right)^{(T_j - T_a)}}\n",
    "$$\n",
    "\n",
    "Comparad ambas gráficas y tratad de justificar los resultados.\n",
    "\n",
    "**Nota:** Podéis utilizar el método numérico que consideréis más oportuno. Espero algún comentario en relación a la elección del método.\n",
    "\n"
   ]
  },
  {
   "cell_type": "markdown",
   "metadata": {
    "colab_type": "text",
    "id": "cszSFyIIOyBL"
   },
   "source": [
    "# **EJERCICIO 3. **\n",
    "\n",
    "Para el Swaption con las características del ejercicio 1,  ($T_a = \\text{today} + 5Y$, $T_b = T_a + 10Y$) , asumamos que el precio del swaption payer de mercado viene establecido por el LGM ($\\sigma = 1\\%$, $\\kappa = 1 \\%$).\n",
    "\n",
    "\n",
    "Para distintos valores de $\\kappa = -5\\%, -3\\%, -1\\%, 1\\%, 3\\%, 5\\%$\n",
    "\n",
    "\n",
    "1. Calculad el nuevo valor de $\\sigma$ tal que el precio del swaption ATM es igual al original ($\\sigma = 1\\%$, $\\kappa = 1 \\%$).\n",
    "2. Pintar el smile de volatilidad en términos normales para los strikes (en ATM difference) $-200\\;  bp, -100 \\; bp, -50 \\;  bp, 0 \\; bp, 50 \\; bp, 100 \\; bp, 200 \\; bp$\n"
   ]
  },
  {
   "cell_type": "code",
   "execution_count": 10,
   "metadata": {
    "colab": {},
    "colab_type": "code",
    "collapsed": true,
    "id": "K_l2qV-QQyk2"
   },
   "outputs": [],
   "source": [
    "\n",
    "from scipy.stats import norm\n",
    "\n",
    "# Fórmula de BS en términos normales. La vais a necesitar para calcular el smile en términos normales.\n",
    "\n",
    "\n",
    "# ----------------------------------------------------------------\n",
    "\n",
    "\n",
    "# EVALUATE BS ..\n",
    "def BS_norm_price(F, K, T, vol):\n",
    "  '''\n",
    "  Normal Black-Scholes\n",
    "  '''\n",
    "  sigma_sqrt_t = vol * np.sqrt(T)\n",
    "  d1 = (F - K) / sigma_sqrt_t\n",
    "  \n",
    "  return (F-K) * norm.cdf(d1) + sigma_sqrt_t * norm.pdf(d1)\n",
    "# ----------------------------------------------------------------\n",
    "\n"
   ]
  },
  {
   "cell_type": "code",
   "execution_count": 29,
   "metadata": {},
   "outputs": [
    {
     "data": {
      "text/plain": [
       "8.700388789105492"
      ]
     },
     "execution_count": 29,
     "metadata": {},
     "output_type": "execute_result"
    }
   ],
   "source": [
    "ir_curve.get_zero(today,irs_3.fix_dates)\n",
    "irs_3.dcf\n",
    "np.dot(irs_3.dcf,ir_curve.get_zero(today,irs_3.fix_dates))\n",
    "sum(ir_curve.get_zero(today,irs_3.fix_dates)*irs_3.dcf)"
   ]
  },
  {
   "cell_type": "code",
   "execution_count": 24,
   "metadata": {
    "colab": {
     "base_uri": "https://localhost:8080/",
     "height": 1074
    },
    "colab_type": "code",
    "executionInfo": {
     "elapsed": 7018,
     "status": "ok",
     "timestamp": 1555957582061,
     "user": {
      "displayName": "CARLOS MORAL GONZALEZ",
      "photoUrl": "https://lh6.googleusercontent.com/-ZDv2fcNZ588/AAAAAAAAAAI/AAAAAAAAAAA/vj8TjX8ljUk/s64/photo.jpg",
      "userId": "13400514416389366338"
     },
     "user_tz": -120
    },
    "id": "Noe2b96LqxV5",
    "outputId": "8f025ead-3909-48ed-a131-f535ee003fc2"
   },
   "outputs": [
    {
     "name": "stdout",
     "output_type": "stream",
     "text": [
      "[[0.01086776 0.00987877 0.00960841 0.00942498 0.00929816 0.00920821\n",
      "  0.00909317]\n",
      " [0.0108406  0.00986319 0.00960047 0.00942498 0.00930612 0.00922407\n",
      "  0.00912462]\n",
      " [0.01081347 0.00984763 0.00959255 0.00942498 0.00931406 0.00923987\n",
      "  0.00915589]\n",
      " [0.01078649 0.00983215 0.00958468 0.00942498 0.00932194 0.00925555\n",
      "  0.00918689]\n",
      " [0.01075977 0.00981681 0.00957688 0.00942498 0.00932974 0.00927105\n",
      "  0.00921748]\n",
      " [0.0107334  0.00980168 0.00956919 0.00942498 0.00933741 0.0092863\n",
      "  0.00924756]]\n",
      "8.700388789105494\n"
     ]
    },
    {
     "data": {
      "image/png": "[encoded data removed]",
      "text/plain": [
       "<matplotlib.figure.Figure at 0x159cdf28>"
      ]
     },
     "metadata": {},
     "output_type": "display_data"
    }
   ],
   "source": [
    "%matplotlib inline\n",
    "f, ax = plt.subplots(1,sharey=False)\n",
    "\n",
    "kappa_3 = np.linspace(-0.05,0.05, 6)\n",
    "sigma_3 = np.zeros(len(kappa_3))\n",
    "ATM_dif=np.array([-200, -100, -50, 0, 50, 100, 200])*1e-4\n",
    "sigma_BS = np.zeros((len(kappa_3), len(ATM_dif )))\n",
    "\n",
    "for i in range(len(kappa_3)):                     \n",
    "  f_obj = lambda sigma_obj : LGM_Swaption_Price(today, IRS(T_a_1, 10, 2, C), LGMCurve(ir_curve, kappa_3[i], sigma_obj)) - swaption_price_1\n",
    "  sigma_obj = optimize.newton(f_obj, sigma_1)\n",
    "  sigma_3[i]=sigma_obj #He calibrado el modelo para el kappa considerado\n",
    "\n",
    "  for j in range(len(ATM_dif)): \n",
    "    sigma_BS[i] [j] = 0\n",
    "    irs_3 = IRS(T_a_1, 10, 2, C + ATM_dif[j])\n",
    "    A_3 = np.dot(irs_3.dcf,ir_curve.get_zero(today,irs_3.fix_dates))\n",
    "\n",
    "    f_obj = lambda sigma_BS_obj : LGM_Swaption_Price(today, irs_3, \n",
    "                                                     LGMCurve(ir_curve, \n",
    "                                                              kappa_3[i], sigma_3[i])) - A_3 * BS_norm_price(C, C +ATM_dif[j], (T_a_1 - today)/365.25, sigma_BS_obj)          \n",
    "    #f_obj = lambda sigma_BS_obj : LGM_Swaption_Price(today, irs_3, \n",
    "     #                                                LGMCurve(ir_curve, \n",
    "      #                                                        kappa_3[i], sigma_3[i])) - BS_norm_price(C, C +ATM_dif[j], (T_a_1 - today)/365.25, sigma_BS_obj)          \n",
    "\n",
    "    sigma_BS_obj = optimize.newton(f_obj, sigma_3[i])\n",
    "\n",
    "    sigma_BS [i] [j] = sigma_BS_obj           \n",
    "                    \n",
    "\n",
    "  \n",
    "  \n",
    "  ax.plot(ATM_dif, sigma_BS [i] [:], 'o-',label = 'implied vol for kappa =%f' %kappa_test_range[i] )\n",
    "  ax.legend()\n",
    "\n",
    "\n",
    "\n",
    "\n",
    "\n",
    "\n",
    "f.set_size_inches(10, 10)\n",
    "  \n",
    "  \n",
    "  \n",
    "print(sigma_BS)\n",
    "\n",
    "print(A_3)\n"
   ]
  },
  {
   "cell_type": "code",
   "execution_count": 22,
   "metadata": {
    "colab": {},
    "colab_type": "code",
    "id": "nhs3QcP6CqBp"
   },
   "outputs": [
    {
     "name": "stdout",
     "output_type": "stream",
     "text": [
      "0.19840847875343753\n"
     ]
    },
    {
     "data": {
      "text/plain": [
       "0.1984084787534376"
      ]
     },
     "execution_count": 22,
     "metadata": {},
     "output_type": "execute_result"
    }
   ],
   "source": [
    "irs_3 = IRS(T_a_1, 10, 2, C + ATM_dif[0])\n",
    "A_3 = np.dot(irs_3.dcf,ir_curve.get_zero(today,irs_3.fix_dates))\n",
    "\n",
    "print(LGM_Swaption_Price(today, irs_3,LGMCurve(ir_curve,kappa_3[0], sigma_3[0])))\n",
    "\n",
    "A_3*BS_norm_price(C, C +ATM_dif[0], (T_a_1 - today)/365.25, sigma_BS[0][0]) "
   ]
  }
 ],
 "metadata": {
  "colab": {
   "collapsed_sections": [],
   "name": "ExamenTipos_Carlos.ipynb",
   "provenance": [],
   "version": "0.3.2"
  },
  "kernelspec": {
   "display_name": "Python 3",
   "language": "python",
   "name": "python3"
  },
  "language_info": {
   "codemirror_mode": {
    "name": "ipython",
    "version": 3
   },
   "file_extension": ".py",
   "mimetype": "text/x-python",
   "name": "python",
   "nbconvert_exporter": "python",
   "pygments_lexer": "ipython3",
   "version": "3.6.3"
  }
 },
 "nbformat": 4,
 "nbformat_minor": 1
}
