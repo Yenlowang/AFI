{
 "cells": [
  {
   "cell_type": "markdown",
   "metadata": {
    "colab_type": "text",
    "id": "aqHbFpoXv7Jj"
   },
   "source": [
    "En esta celda definimos los objetos curva de Tipos de Interés.\n",
    "\n",
    "\n",
    "1.   **Curva estática ( IRCurve)**: Ésta curva es independiente de modelo y sería la que Bootstrapearíamos de precios de IRS. Es una interpolación en splines de logaritmo de Factores de Descuento.\n",
    "\n",
    "2.   **Curva del LGM (LGMCurve) **: Se trata de una curva dinámica (de acuerdo al LGM). En un instante futuro, esta curva depende de la curva estática y del valor que pudiera tomar la variable x.\n",
    "\n",
    "\n",
    "# **Curva LGM**\n",
    "\n",
    "Sea \n",
    "\n",
    "$$\n",
    "dx_t = \\sigma dW^{\\mathcal{N}}_t \\;\\;\\;\\; s.t \\;\\;\\;\\; x(0) = 0\n",
    "$$\n",
    "\n",
    "la dinámica de la variable que establece el comportamiento de la curva de tipos de interés.\n",
    "\n",
    "El modelo LGM, establece la relación que existe entre esta variable y el numerario a una fecha futura.\n",
    "\n",
    "$$\n",
    "N(t, x_t) = \\frac{1}{B(0, t)} exp \\bigg( -H_t x_t - \\frac{1}{2} H_t^2 \\zeta_t \\bigg)\n",
    "$$\n",
    "\n",
    "donde $B(0, t)$ es el factor de descuento a vencimiento $t$ con la curva estática. $H_t = \\frac{1-e^{-\\kappa t}}{\\kappa}$\n",
    "\n",
    "En clase demostramos que, dado el numeraio, el factor de descuento (según LGM) a una feha futura, $B(t, T, x_t)$ , como función de $x_t$ venía dado como,\n",
    "\n",
    "$$\n",
    "B(t, T, x_t) = \\frac{B(0, T)}{B(0, t)} exp\\bigg( - \\left( H_T - H_t \\right) x_t - \\frac{1}{2} \\left( H_T^2 - H_t^2\\right) \\zeta_t \\bigg)\n",
    "$$\n",
    "\n",
    "\n",
    "$ \\textbf{Pregunta 1: Demostrar la ecuación de arriba.}$\n",
    "\n",
    "$ \\textbf{Pregunta 2: Explica cómo impacta  $H_t$ o $\\kappa$ en la forma de la curva.}$\n"
   ]
  },
  {
   "cell_type": "code",
   "execution_count": 0,
   "metadata": {
    "colab": {},
    "colab_type": "code",
    "collapsed": true,
    "id": "MTd-1UqVwUBD"
   },
   "outputs": [],
   "source": [
    "\n",
    "##########################################################\n",
    "#\n",
    "#     NO ES NECESARIO TOCAR ESTA FUNCIÓN\n",
    "#\n",
    "##########################################################\n",
    "\n",
    "\n",
    "import numpy as np\n",
    "from scipy.interpolate import interp1d\n",
    "import scipy as sc\n",
    "import matplotlib.pyplot as plt\n",
    "from scipy import optimize\n",
    "from scipy.stats import norm\n",
    "\n",
    "\n",
    "plt.style.use('default')\n",
    "\n",
    "# ------------------------------------------------\n",
    "\n",
    "# Clase Curva\n",
    "class IRCurve:\n",
    "  \n",
    "  # CONSTRUCTOR (Da vida a la clase)\n",
    "  def __init__(self, dates, dfs):\n",
    "    self._ref_date = dates[0]\n",
    "    self._dfs = dfs\n",
    "    self._times = (dates - dates[0]) / 365.25\n",
    "    self._rates_time = -np.log(dfs)\n",
    "    self._curve = interp1d(self._times, self._rates_time, kind = 'cubic')\n",
    "  \n",
    "  # Devuelve B(t, T) = B(0, T) / B(0, t)\n",
    "  def get_zero(self, t, T):\n",
    "    B_0_T = np.exp(-self._curve((T-self._ref_date)/365.25))\n",
    "    B_0_t = np.exp(-self._curve((t-self._ref_date)/365.25))\n",
    "    \n",
    "    return B_0_T / B_0_t\n",
    "  \n",
    " # -----------------------------------------------------\n",
    " \n",
    "def H(kappa, time):\n",
    "  return (1 - np.exp(-kappa * time)) / kappa\n",
    "  \n",
    "  \n",
    "# Definición de la clase LGM\n",
    "class LGMCurve:\n",
    "\n",
    "  # CONSTRUCTOR\n",
    "  def __init__(self, IR_curve, kappa, sigma):\n",
    "    self._curve = IR_curve\n",
    "    self._kappa = kappa\n",
    "    self._sigma = sigma\n",
    "\n",
    "  # Numerario: N(t, xt)\n",
    "  def numeraire(self, t, xt):\n",
    "\n",
    "    time_to_t = (t - self._curve._ref_date) / 365.25\n",
    "    ht = H(self._kappa, time_to_t)\n",
    "    zeta_t = (self._sigma ** 2) * time_to_t\n",
    "\n",
    "    exponent = ht * xt + 0.5 * (ht**2) * zeta_t\n",
    "\n",
    "    return 1 / self._curve.get_zero(self._curve._ref_date, t) \\\n",
    "            * np.exp(exponent)\n",
    "  \n",
    "  # B(t, T, xt)\n",
    "  def get_zero_x(self, t, T, xt):\n",
    "\n",
    "    time_to_t = (t - self._curve._ref_date) / 365.25\n",
    "    time_to_T = (T - self._curve._ref_date) / 365.25\n",
    "\n",
    "    ht = H(self._kappa, time_to_t)\n",
    "    hT = H(self._kappa, time_to_T)\n",
    "\n",
    "    zeta = (self._sigma * self._sigma) * time_to_t\n",
    "\n",
    "    df = self._curve.get_zero(t, T) \n",
    "    exponent = (hT -ht ) * xt + 0.5 * (hT * hT - ht * ht) * zeta \n",
    "\n",
    "    df *= np.exp(-exponent)\n",
    "\n",
    "    return df\n",
    "    \n",
    "    \n",
    " # -----------------------------------------------------"
   ]
  },
  {
   "cell_type": "markdown",
   "metadata": {
    "colab_type": "text",
    "id": "fOG7Ebqc21TZ"
   },
   "source": [
    "**En la siguiente celda, inicializamos la fecha valor (today) y la curva estática (ir_curve). A lo largo de todo el ejercicio utilizaremos la misma curva**\n",
    "\n"
   ]
  },
  {
   "cell_type": "code",
   "execution_count": 0,
   "metadata": {
    "colab": {},
    "colab_type": "code",
    "collapsed": true,
    "id": "O9r775Eo24ip"
   },
   "outputs": [],
   "source": [
    "\n",
    "\n",
    "\n",
    "#################################################################################\n",
    "\n",
    "today = 43561 # 6 de Abril de 2019\n",
    "last_date = today + 365.25 * 40\n",
    "\n",
    "# Defino las fechas pilar para los factores de desceunto ...\n",
    "pillar_dates = np.linspace(today, last_date, 50)\n",
    "\n",
    "# Defino los rates como curva no plana\n",
    "dates_rates = np.array([today, today + 365, today + 365 * 5, today + 365 * 10, \\\n",
    "                       today +365 * 20, today + 365 * 30, today + 365 * 50])\n",
    "rates = np.array([0.0, 0.005, 0.01, 0.015, 0.02, 0.025, 0.028])\n",
    "\n",
    "# Calculo los FD de acuerdo a esa estructura no plana de tipos\n",
    "dfs = np.zeros(len(pillar_dates))\n",
    "rate_interp = interp1d(dates_rates, rates, kind = 'linear')\n",
    "for i in range( len(pillar_dates)):\n",
    "  rate = rate_interp(pillar_dates[i])\n",
    "  dfs[i] = (np.exp(-rate * (pillar_dates[i] - today)/ 365.25))\n",
    "\n",
    "# Definimos IR Curve (Curva original)  \n",
    "ir_curve = IRCurve(pillar_dates, dfs)\n",
    "\n",
    "#################################################################################\n",
    "\n",
    "\n",
    "\n"
   ]
  },
  {
   "cell_type": "markdown",
   "metadata": {
    "colab_type": "text",
    "id": "m5NTqOpi_bxA"
   },
   "source": [
    "# **Función de valoración de un Swaption de acuerdo al LGM**"
   ]
  },
  {
   "cell_type": "markdown",
   "metadata": {
    "colab_type": "text",
    "id": "Q6_wXtjwQrsw"
   },
   "source": [
    "\n",
    "\n",
    "Supongamos un Call-Money-Swap cuya fecha de comienzo denotamos por $T_a$ y última fecha de pago es $T_b$. Supongamos una opción que nos da derecho a entrar en ese IRS en la fecha $T_a$. La prima forward de este swaption (de acuerdo al LGM) puede expresarse como:\n",
    "\n",
    "\\begin{equation}\n",
    "\\frac{V_t}{B(t, T_a)} = E^\\mathcal{N}\\left(  \\left( 1- B(T_a, T_b, x(T_a)) - K \\sum_{j=1}^N \\Delta_j B(T_a, T_j, x(T_a)) \\right)^+ \\bigg| \\mathcal{F}_t \\right) \n",
    "\\end{equation}\n",
    "\n",
    "Vimos en clase, que como el valor de este IRS es monótono en $x(T_a)$, podemos buscar el valor $x^{*}$ para el cual, \n",
    "\n",
    "$$\n",
    "1- B(T_a, T_b, x^*) - K \\sum_{j=1}^N \\Delta_j B(T_a, T_j, x^*) = 0\n",
    "$$\n",
    "\n",
    "\n",
    "Aplicando ésto, la prima forward puede expresarse como, \n",
    "\n",
    "\\begin{equation}\n",
    "\\frac{V_t}{B(t, T_a)} = E^\\mathcal{N}\\left(  \\left( B(T_a, T_b, x^*)- B(T_a, T_b, x(T_a)) \\right) ^+ \\bigg| \\mathcal{F}_t \\right) - K \\sum_{j=1}^N \\Delta_j  E^\\mathcal{N}\\left(\\left( B(T_a, T_j, x^*) -  B(T_a, T_j, x(T_a)) \\right)^+ \\bigg| \\mathcal{F}_t \\right) \n",
    "\\end{equation}\n",
    "\n",
    "\n",
    "\n",
    "Finalmente, vimos en clase que la función de valoración podríamos expresarla en función de Black-Scholes como\n",
    "\n",
    "\\begin{equation}\n",
    "\\frac{V_t}{B(t, T_a)} = \\sum_{j=1}^N  \\omega_j BS^{LN}\\bigg( \\text{forward} =  \\frac{B(t, T_j)}{B(t, T_a)},  \\text{strike} = B(T_a, T_j,  x^*), \\text{mty} = T_a, \\text{varianza} = \\sigma^2 \\left( H_{T_a} - H_{T_j}\\right)^2 \\bigg) \n",
    "\\end{equation}\n",
    "\n",
    "donde \n",
    "\n",
    "$$\n",
    "\\omega_j=\\left\\{\n",
    "                \\begin{array}{ll}\n",
    "                  K\\Delta_j & \\text{si} & j = 1, \\ldots, N - 1\\\\\n",
    "                  1 + K \\Delta_N & text{si} & j = N\\\\\n",
    "                \\end{array}\n",
    "              \\right.\n",
    "$$\n",
    "\n",
    "\n",
    "# **EJERCICIO 1**\n",
    "\n",
    "Calcular el precio de un swaption payer ATM ($T_a = \\text{today} + 5Y$, $T_b = T_a + 10Y$) de acuerdo al LGM ($\\sigma = 1\\%$, $\\kappa = 1 \\%$), de acuerdo a los siguientes métodos:\n",
    "\n",
    "\n",
    "\n",
    "1.   Función Analítica: Ésta es la que describimos más arriba, y cuya función ponemos en la siguiente celda.\n",
    "2.   MC: Simula por MC la variable $x(T_a)$ y calcula \n",
    "$$\n",
    "\\frac{1}{B(t, T_a)}E_t \\left( \\frac{ IRS(T_a, x(T_a))^+}{N(T_a, x(Ta))} \\bigg| \\mathcal{F}_t \\right)\n",
    "$$\n",
    "\n",
    "Calcula también el intervalo de confianza al 95%\n",
    "3. Calcula el precio por integral numérica (en este caso la función de densidad $\\eta_{x(T_a)}$ es la de la X que sabemos que es un Normal(0, $\\int_{t}^{T_{a}} \\sigma_{s} ds$)), \n",
    "\n",
    "$$\n",
    "\\frac{1}{B(t, T_a)} \\int_{-\\infty}^{\\infty} \\frac{ IRS(T_a, x)^+}{N(T_a, x)} \\eta_{x(T_a)}(x) dx\n",
    "$$\n",
    "\n",
    "Tratad de relacionar (con vuestras palabras) el método 2 y 3.\n",
    "\n",
    "\n",
    "4. Resuelve el precio por integral numérica donde la función de densidad la calcules derivando dos veces la función de valoración del swaption en (1) dos veces.\n",
    "\n",
    "$$\n",
    "V(t) = \\int_{-\\infty}^{\\infty} \\left(S -K \\right)^{+} \\frac{\\partial^2 Swptn}{\\partial K^2}\\bigg|_{K = S}dS\n",
    "$$\n",
    "\n",
    "Donde $Swptn$ es la prima forward del apartado (1)\n",
    "$$\n",
    "Swptn = E^\\mathcal{N}\\left(  \\left( 1- B(T_a, T_b, x(T_a)) - K \\sum_{j=1}^N \\Delta_j B(T_a, T_j, x(T_a)) \\right)^+ \\bigg| \\mathcal{F}_t \\right) \n",
    "$$\n",
    "\n",
    "En este apartado aparece el tema de la Delta de Dirac (Coger apuntes de Valoración de Luis y derivar)."
   ]
  },
  {
   "cell_type": "markdown",
   "metadata": {
    "colab_type": "text",
    "id": "XTpmqScD7dnf"
   },
   "source": [
    "En la siguiente celda están definidos:\n",
    "\n",
    "1. El instrumento IRS (IRS)\n",
    "2. La función de valoración de un IRS de acuerdo al LGM (LGM_IRS_Price)\n",
    "3. La función de valoración analítica de un swaption (LGM_Swaption_Price)"
   ]
  },
  {
   "cell_type": "code",
   "execution_count": 0,
   "metadata": {
    "colab": {},
    "colab_type": "code",
    "collapsed": true,
    "id": "IGcZc8clYMR3"
   },
   "outputs": [],
   "source": [
    "\n",
    "# CLASE IRS\n",
    "class IRS:\n",
    "  \n",
    "  def __init__(self, start_date, tenor, freq, fixed_coupon):\n",
    "    self.start_date = start_date\n",
    "    self.end_date = start_date + tenor * 365.25\n",
    "    self.fix_dates = np.linspace(self.start_date, self.end_date, tenor * freq) \n",
    "    self.fixed_coupon = fixed_coupon\n",
    "    self.dcf = (self.fix_dates[1:] - self.fix_dates[0:-1])/360 # Act/360\n",
    "    self.fix_dates = self.fix_dates[1:]\n",
    "\n",
    "# --------------------------------------------------------\n",
    "    \n",
    "# Función que valora el IRS de acuerdo al LGM\n",
    "def LGM_IRS_price(value_date, irs, lgm_curve, x_at_value_date):\n",
    "  \n",
    "  # Pata Flotante\n",
    "  floating_leg = lgm_curve.get_zero_x(value_date, irs.start_date, x_at_value_date) - \\\n",
    "                 lgm_curve.get_zero_x(value_date, irs.end_date, x_at_value_date) \n",
    "    \n",
    "  # Pata Fija\n",
    "  fixed_leg = 0\n",
    "  for i in range(len(irs.fix_dates)):\n",
    "    fixed_leg += irs.dcf[i] * lgm_curve.get_zero_x(value_date, \\\n",
    "                                                   irs.fix_dates[i], x_at_value_date)\n",
    "  \n",
    "  fixed_leg *= irs.fixed_coupon\n",
    "  \n",
    "  return (floating_leg - fixed_leg)\n",
    "\n",
    "# --------------------------------------------------------\n",
    "\n",
    "\n",
    "# Función de valoración del swaption\n",
    "def LGM_Swaption_Price(value_date, irs, lgm_curve):\n",
    "  \n",
    "  # 1. Calculamos x_star tal que IRS(T, x_star) = 0 (en este caso es Ta)\n",
    "    # Es decir, hemos realizado el calculo del irs en ta para ver el x que lo hace cero teniendo en cuenta el cupon\n",
    "    # fijado en t0 (que se calcula) y va incluido en el irs\n",
    "  T_mat = irs.start_date\n",
    "  f_obj = lambda x : LGM_IRS_price(T_mat, irs, lgm_curve, x)\n",
    "  x_star = optimize.newton(f_obj, 0)\n",
    "  \n",
    "  # Función anidada que calcula la put sobre ZC -------------\n",
    "  def ZC_put(T_j):\n",
    "    # Valoramos la última put sobre ZC\n",
    "    fwd = lgm_curve.get_zero_x(value_date, T_j, 0) / \\\n",
    "          lgm_curve.get_zero_x(value_date, irs.start_date, 0)\n",
    "\n",
    "    # strike B(T, T_N, x_star)\n",
    "    strike = lgm_curve.get_zero_x(irs.start_date, T_j, x_star)\n",
    "\n",
    "    # vol = (H_T - H_T_N) sigma_x\n",
    "    vol = H(lgm_curve._kappa, (irs.start_date - value_date) / 365.25) - \\\n",
    "          H(lgm_curve._kappa, (T_j - value_date) / 365.25)\n",
    "    \n",
    "    vol *= lgm_curve._sigma\n",
    "    \n",
    "    vol = np.abs(vol)\n",
    "\n",
    "    # Llamamos BS\n",
    "    last_call = LN_BlackScholes(fwd, strike, \\\n",
    "                               (irs.start_date - value_date)/365.25, vol)\n",
    "    last_put = last_call - (fwd - strike)\n",
    "    \n",
    "    return last_put\n",
    "  # ------------------------------------------------------------\n",
    "  \n",
    "  # Iteramos por todas las fechas de pago del IRS y calculamos \\\n",
    "  # las puts sobre los ZC.\n",
    "  \n",
    "  swaption = 0 \n",
    "  for i in range(len(irs.fix_dates)):\n",
    "    # Calculate put\n",
    "    put = ZC_put(irs.fix_dates[i])\n",
    "    \n",
    "    # Calculate K Delta o (1 + K Delta)\n",
    "    notional = irs.dcf[i] * irs.fixed_coupon \n",
    "    if i == len(irs.fix_dates)-1:\n",
    "      notional += 1 \n",
    "      \n",
    "      \n",
    "    # Actualizamos el precio del swaption\n",
    "    swaption += notional * put\n",
    "  \n",
    "  return swaption\n",
    "  \n",
    "  \n",
    "# ---------------------------------------------------------------\n"
   ]
  },
  {
   "cell_type": "markdown",
   "metadata": {
    "colab_type": "text",
    "id": "CIXyt8Fu5kQX"
   },
   "source": [
    "Preparamos el modelo LGM"
   ]
  },
  {
   "cell_type": "code",
   "execution_count": 0,
   "metadata": {
    "colab": {},
    "colab_type": "code",
    "collapsed": true,
    "id": "aI9d49LV4ie-"
   },
   "outputs": [],
   "source": [
    "# Definimos los parametros del modelo LGM\n",
    "# Tenemos inicializada la curva ir (Curva original)\n",
    "sigma = 0.01\n",
    "kappa = 0.01\n",
    "\n",
    "# Inicializamos el modelo LGM\n",
    "lgm_curve = LGMCurve(ir_curve, kappa, sigma)"
   ]
  },
  {
   "cell_type": "code",
   "execution_count": 0,
   "metadata": {
    "colab": {
     "base_uri": "https://localhost:8080/",
     "height": 241
    },
    "colab_type": "code",
    "id": "tnFJmo756NFc",
    "outputId": "4bc605b2-435d-4f7e-f8a4-2ac918ee5c75"
   },
   "outputs": [
    {
     "name": "stdout",
     "output_type": "stream",
     "text": [
      "DF obtenidos por modelo LGM \n",
      " [1.0, 0.9966713251857411, 0.9905878975881942, 0.9834527503875067, 0.9747426352575235, 0.9645003899772523, 0.9527760558737419, 0.9405910216065432, 0.9274362972305387, 0.9132467480698189, 0.8980757410605706, 0.88197968434078, 0.8650176786311193, 0.8500408360232836, 0.8355738313765663, 0.820805510451554, 0.8057607146580461, 0.7904643861783329, 0.7749415002346169, 0.7592169985106818, 0.7433157239695546, 0.7272623572978114, 0.7110813551950409, 0.6947968907139784, 0.6784327958429797, 0.6620125065079682, 0.6455590101558262, 0.6290947960655483, 0.6126418085174099, 0.5962214029340416, 0.5798543050907563, 0.563560573475821, 0.5473595648647405, 0.5312699031561023, 0.5153094515001974, 0.4994952877356182, 0.4838436831333883, 0.4694843174143188, 0.4582423489414781, 0.44718010443800754, 0.4362976174825791, 0.4255948142817361, 0.4150715163410276, 0.40472744317431036, 0.39456221504706784, 0.3845753557496561, 0.37476629539644546, 0.3651343732468857, 0.355678840544603, 0.3463988633707034]\n",
      "DF originales bootstrapping \n",
      " [1.         0.99667133 0.9905879  0.98345275 0.97474264 0.96450039\n",
      " 0.95277606 0.94059102 0.9274363  0.91324675 0.89807574 0.88197968\n",
      " 0.86501768 0.85004084 0.83557383 0.82080551 0.80576071 0.79046439\n",
      " 0.7749415  0.759217   0.74331572 0.72726236 0.71108136 0.69479689\n",
      " 0.6784328  0.66201251 0.64555901 0.6290948  0.61264181 0.5962214\n",
      " 0.57985431 0.56356057 0.54735956 0.5312699  0.51530945 0.49949529\n",
      " 0.48384368 0.46948432 0.45824235 0.4471801  0.43629762 0.42559481\n",
      " 0.41507152 0.40472744 0.39456222 0.38457536 0.3747663  0.36513437\n",
      " 0.35567884 0.34639886]\n"
     ]
    }
   ],
   "source": [
    "# Comprobamos que LGM devuelve los factores de descuento de la curva original (IR) a las fechas pilar.\n",
    "\n",
    "df_lgm_at_pillar_dates = [lgm_curve.get_zero_x(today, T, 0) for T in pillar_dates]\n",
    "\n",
    "print('DF obtenidos por modelo LGM \\n', df_lgm_at_pillar_dates)\n",
    "\n",
    "print('DF originales bootstrapping \\n', ir_curve._dfs)"
   ]
  },
  {
   "cell_type": "code",
   "execution_count": 0,
   "metadata": {
    "colab": {
     "base_uri": "https://localhost:8080/",
     "height": 450
    },
    "colab_type": "code",
    "id": "hDN1prcW7Y3V",
    "outputId": "cfb79513-9541-4f38-c944-f9efc1771c84"
   },
   "outputs": [
    {
     "data": {
      "text/plain": [
       "<matplotlib.legend.Legend at 0x7fd28b14ac50>"
      ]
     },
     "execution_count": 6,
     "metadata": {
      "tags": []
     },
     "output_type": "execute_result"
    },
    {
     "data": {
      "image/png": "[encoded data removed]",
      "text/plain": [
       "<Figure size 640x480 with 1 Axes>"
      ]
     },
     "metadata": {
      "tags": []
     },
     "output_type": "display_data"
    }
   ],
   "source": [
    "#PLOT\n",
    "f, ax = plt.subplots()\n",
    "\n",
    "ax.plot(pillar_dates, ir_curve._dfs, 'o', label = 'DF Originales')\n",
    "ax.plot(pillar_dates, df_lgm_at_pillar_dates, 'x', label = 'DF LGM')\n",
    "\n",
    "ax.legend()"
   ]
  },
  {
   "cell_type": "markdown",
   "metadata": {
    "colab_type": "text",
    "id": "TNO0iaeQ34sI"
   },
   "source": [
    "#### 1 Función Analítica: Ésta es la que describimos más arriba, y cuya función ponemos en la siguiente celda."
   ]
  },
  {
   "cell_type": "code",
   "execution_count": 0,
   "metadata": {
    "colab": {},
    "colab_type": "code",
    "collapsed": true,
    "id": "Wra1MFuSAK8L"
   },
   "outputs": [],
   "source": [
    "# Definimos función de Black Scholes\n",
    "def LN_BlackScholes(S0, K, T, sigma):\n",
    "  d1 = (np.log(S0/K) + 0.5 *  (sigma**2) * T )/(np.sqrt(T) * sigma)\n",
    "  d2 = d1 - sigma * np.sqrt(T)\n",
    "  \n",
    "  return S0 * norm.cdf(d1) - K * norm.cdf(d2) "
   ]
  },
  {
   "cell_type": "markdown",
   "metadata": {
    "colab_type": "text",
    "id": "1GA2vpLW-OVy"
   },
   "source": [
    "Parametros"
   ]
  },
  {
   "cell_type": "code",
   "execution_count": 0,
   "metadata": {
    "colab": {},
    "colab_type": "code",
    "collapsed": true,
    "id": "YiOdTfjV-N05"
   },
   "outputs": [],
   "source": [
    "# t < Ta < Tb\n",
    "# Start day\n",
    "Ta = today + 365.25*5\n",
    "# End day\n",
    "Tb = Ta + 365.25*10\n",
    "# Tenor (Tb-Ta)/365.25\n",
    "tenor = (Tb - Ta)/365.25\n",
    "\n",
    "freq = 2 # Paga cada seis meses"
   ]
  },
  {
   "cell_type": "code",
   "execution_count": 0,
   "metadata": {
    "colab": {
     "base_uri": "https://localhost:8080/",
     "height": 85
    },
    "colab_type": "code",
    "id": "Zv_rgMBu9zAx",
    "outputId": "2f8eef29-f356-4881-fd71-c96a9cf543a4"
   },
   "outputs": [
    {
     "name": "stdout",
     "output_type": "stream",
     "text": [
      "Este es el K (cupón fijo) que hace que mi IRS sea ATM (P_fl = P_fi) en t0: \n",
      " 0.020942532876816206\n"
     ]
    },
    {
     "name": "stderr",
     "output_type": "stream",
     "text": [
      "/usr/local/lib/python3.6/dist-packages/ipykernel_launcher.py:6: DeprecationWarning: object of type <class 'float'> cannot be safely interpreted as an integer.\n",
      "  \n"
     ]
    }
   ],
   "source": [
    "# Definimos el cupon que hace cero el valor del IRS en t0\n",
    "\n",
    "f_obj = lambda k: LGM_IRS_price(today, IRS(Ta, tenor, freq, k), lgm_curve, 0)\n",
    "\n",
    "k = optimize.newton(f_obj, 0.02)\n",
    "\n",
    "print('Este es el K (cupón fijo) que hace que mi IRS sea ATM (P_fl = P_fi) en t0: \\n', k)\n"
   ]
  },
  {
   "cell_type": "code",
   "execution_count": 0,
   "metadata": {
    "colab": {
     "base_uri": "https://localhost:8080/",
     "height": 51
    },
    "colab_type": "code",
    "id": "Qw9ciU9h34Gm",
    "outputId": "59eaf802-f4b8-49bb-bafa-c45cbd76b631"
   },
   "outputs": [
    {
     "name": "stderr",
     "output_type": "stream",
     "text": [
      "/usr/local/lib/python3.6/dist-packages/ipykernel_launcher.py:6: DeprecationWarning: object of type <class 'float'> cannot be safely interpreted as an integer.\n",
      "  \n"
     ]
    }
   ],
   "source": [
    "# ATM (Ta=today+5Y , Tb=Ta+10Y)\n",
    "# sigma = 0.01\n",
    "# kappa = 0.01\n",
    "\n",
    "# IRS(start_date, tenor, freq, fixed_coupon)\n",
    "irs = IRS(Ta, tenor, freq, k)\n",
    "\n",
    "swaption_premium = LGM_Swaption_Price(today, irs, lgm_curve)"
   ]
  },
  {
   "cell_type": "code",
   "execution_count": 0,
   "metadata": {
    "colab": {
     "base_uri": "https://localhost:8080/",
     "height": 51
    },
    "colab_type": "code",
    "id": "-5Xb0EHvAYOD",
    "outputId": "062dc01b-19ff-4491-df7d-f40b47236b85"
   },
   "outputs": [
    {
     "name": "stdout",
     "output_type": "stream",
     "text": [
      "Prima Forward: \n",
      " 0.07315000431655858\n"
     ]
    }
   ],
   "source": [
    "# Esta es la prima forward:\n",
    "print('Prima Forward: \\n', swaption_premium)"
   ]
  },
  {
   "cell_type": "code",
   "execution_count": 0,
   "metadata": {
    "colab": {
     "base_uri": "https://localhost:8080/",
     "height": 85
    },
    "colab_type": "code",
    "id": "2fKedj-GA6aA",
    "outputId": "e4fabbda-7a6f-4a1d-c197-44c3600489f6"
   },
   "outputs": [
    {
     "name": "stdout",
     "output_type": "stream",
     "text": [
      "Modelo LGM: \n",
      " 0.9512753005173394\n",
      "DF ir_curve: \n",
      " 0.9512753005173394\n"
     ]
    }
   ],
   "source": [
    "# Calculamos el factor de descuento de today a Ta - B(t,Ta) = B(0,Ta)/B(0,t)\n",
    "# Usamos modelo LGM (con X_t = 0) y comprobamos que es igual a la que obtendria con ir_curve\n",
    "\n",
    "print('Modelo LGM: \\n', lgm_curve.get_zero_x(today, Ta, 0))\n",
    "print('DF ir_curve: \\n', ir_curve.get_zero(today, Ta))"
   ]
  },
  {
   "cell_type": "code",
   "execution_count": 0,
   "metadata": {
    "colab": {
     "base_uri": "https://localhost:8080/",
     "height": 51
    },
    "colab_type": "code",
    "id": "S756FsekBJdP",
    "outputId": "906d0775-6f82-4d1d-b2e7-010da0f6c8d4"
   },
   "outputs": [
    {
     "name": "stdout",
     "output_type": "stream",
     "text": [
      "Prima today: \n",
      " 0.06958579233907894\n"
     ]
    }
   ],
   "source": [
    "# Prima en today (MULTIPLICO POR EL FACTOR DE DTO PARA TRAER DE TA A TODAY)\n",
    "\n",
    "print('Prima today: \\n', lgm_curve.get_zero_x(today, Ta, 0) * swaption_premium)"
   ]
  },
  {
   "cell_type": "markdown",
   "metadata": {
    "colab_type": "text",
    "id": "wB3WzGJ0lUQF"
   },
   "source": [
    "#### 2 MC: Simula por MC la variable  x(Ta)  y calcula\n"
   ]
  },
  {
   "cell_type": "markdown",
   "metadata": {
    "colab_type": "text",
    "id": "n2aeRT1Wm0Po"
   },
   "source": [
    "$$\n",
    "\\frac{1}{B(t, T_a)}E_t \\left( \\frac{ IRS(T_a, x(T_a))^+}{N(T_a, x(Ta))} \\bigg| \\mathcal{F}_t \\right)\n",
    "$$"
   ]
  },
  {
   "cell_type": "code",
   "execution_count": 0,
   "metadata": {
    "colab": {},
    "colab_type": "code",
    "collapsed": true,
    "id": "Bt930HUwnt6G"
   },
   "outputs": [],
   "source": []
  },
  {
   "cell_type": "code",
   "execution_count": 0,
   "metadata": {
    "colab": {
     "base_uri": "https://localhost:8080/",
     "height": 85
    },
    "colab_type": "code",
    "id": "6i_mEdG4eE08",
    "outputId": "522ac307-6c94-4b29-814e-fa6fabd1a64b"
   },
   "outputs": [
    {
     "name": "stdout",
     "output_type": "stream",
     "text": [
      "Simulaciones con IRS positivo: \n",
      " 581120\n",
      "Premium Forward del IRS en Ta: \n",
      " 0.06941702251889838\n"
     ]
    }
   ],
   "source": [
    "# Simulamos 1000000 de posibles X_Ta\n",
    "\n",
    "x_at_Ta = np.random.normal(size=100000) * lgm_curve._sigma * np.sqrt((Ta-today)/365.25)\n",
    "\n",
    "# Estos dos elementos van dentro de la esperanza:\n",
    "# 1.- Valoramos IRS con el LGM, lo valoramos en Ta, usando un modelo LGM\n",
    "irs_at_Ta = LGM_IRS_price(Ta, irs, lgm_curve, x_at_Ta)\n",
    "\n",
    "# 2.- Calculamos los numerarios con X_Ta\n",
    "irs_at_Ta /= lgm_curve.numeraire(Ta, x_at_Ta)\n",
    "\n",
    "print('Simulaciones con IRS positivo: \\n', sum(irs_at_Ta > 0))\n",
    "# 3.- Cogemos la parte positiva del IRS\n",
    "irs_at_Ta = np.maximum(irs_at_Ta, 0)\n",
    "\n",
    "# Calculamos la media para obtener el valor del IRS en Ta\n",
    "premium_MC = np.mean(irs_at_Ta)\n",
    "print('Premium Forward del IRS en Ta: \\n', premium_MC)"
   ]
  },
  {
   "cell_type": "code",
   "execution_count": 0,
   "metadata": {
    "colab": {
     "base_uri": "https://localhost:8080/",
     "height": 85
    },
    "colab_type": "code",
    "id": "t9PgTClDo4F0",
    "outputId": "c4440d70-27eb-439c-d304-e92229f1c4bf"
   },
   "outputs": [
    {
     "name": "stdout",
     "output_type": "stream",
     "text": [
      "Usando DF de curva IR: \n",
      " 0.07297259003902107\n",
      "Usando DF obtenidos por LGM (con X_t = 0): \n",
      " 0.07297259003902107\n"
     ]
    }
   ],
   "source": [
    "# Lo dividimos del Factor de descuento (ESTO... NO SERIA CAPITALIZAR EN LUGAR DE DESCONTAR????)\n",
    "print('Usando DF de curva IR: \\n', premium_MC / ir_curve.get_zero(today, Ta))\n",
    "print('Usando DF obtenidos por LGM (con X_t = 0): \\n', premium_MC / lgm_curve.get_zero_x(today, Ta, 0))"
   ]
  },
  {
   "cell_type": "markdown",
   "metadata": {
    "colab_type": "text",
    "id": "zV2lKteQDr-E"
   },
   "source": [
    "Recordemos:\n",
    "\n",
    "Formula analitica es:\n",
    "\n",
    "\\begin{equation}\n",
    "\\frac{V_t}{B(t, T_a)} = E^\\mathcal{N}\\left(  \\left( B(T_a, T_b, x^*)- B(T_a, T_b, x(T_a)) \\right) ^+ \\bigg| \\mathcal{F}_t \\right) - K \\sum_{j=1}^N \\Delta_j  E^\\mathcal{N}\\left(\\left( B(T_a, T_j, x^*) -  B(T_a, T_j, x(T_a)) \\right)^+ \\bigg| \\mathcal{F}_t \\right) \n",
    "\\end{equation}\n",
    "\n",
    "Esta es la prima forward, si la descuento aplicando:\n",
    "\n",
    "\\begin{equation}\n",
    "V_t = B(t, T_a) E^\\mathcal{N}\\left(  \\left( B(T_a, T_b, x^*)- B(T_a, T_b, x(T_a)) \\right) ^+ \\bigg| \\mathcal{F}_t \\right) - K \\sum_{j=1}^N \\Delta_j  E^\\mathcal{N}\\left(\\left( B(T_a, T_j, x^*) -  B(T_a, T_j, x(T_a)) \\right)^+ \\bigg| \\mathcal{F}_t \\right) \n",
    "\\end{equation}\n",
    "\n",
    "Entonces obtengo la prima en $t_{0} = t$\n",
    "\n",
    "Mientras que al obtener el valor por MC obtengo el valor directamente en $t_{0} = t$. Por lo cual, para que sea igual a la prima forward, necesito capitalizarla, es decir, necesito hacer esto: \n",
    "\n",
    "$$\n",
    "\\frac{1}{B(t, T_a)}E_t \\left( \\frac{ IRS(T_a, x(T_a))^+}{N(T_a, x(Ta))} \\bigg| \\mathcal{F}_t \\right)\n",
    "$$\n"
   ]
  },
  {
   "cell_type": "code",
   "execution_count": 0,
   "metadata": {
    "colab": {
     "base_uri": "https://localhost:8080/",
     "height": 238
    },
    "colab_type": "code",
    "id": "9FQeuZsaEgCz",
    "outputId": "9dc26e0a-9f30-451d-b664-ce5bf8852f51"
   },
   "outputs": [
    {
     "name": "stdout",
     "output_type": "stream",
     "text": [
      "Prima forward (Valor en Ta) (prima analitica): \n",
      " 0.07315000431655858\n",
      "Prima analitica descontada a today (multiplica al B(today, Ta)): \n",
      " 0.06958579233907894\n",
      "\n",
      "\n",
      "Ahora imprimimos las primas obtenidas por MC\n",
      "\n",
      "\n",
      "Prima MC directa (es el valor en today): \n",
      " 0.06941702251889838\n",
      "Prima MC capitalizada a today (dividida por B(today, Ta)): \n",
      " 0.07297259003902107\n"
     ]
    }
   ],
   "source": [
    "print('Prima forward (Valor en Ta) (prima analitica): \\n', swaption_premium)\n",
    "print('Prima analitica descontada a today (multiplica al B(today, Ta)): \\n', swaption_premium * lgm_curve.get_zero_x(today, Ta, 0))\n",
    "\n",
    "print('\\n')\n",
    "print('Ahora imprimimos las primas obtenidas por MC')\n",
    "print('\\n')\n",
    "\n",
    "print('Prima MC directa (es el valor en today): \\n', premium_MC)\n",
    "print('Prima MC capitalizada a today (dividida por B(today, Ta)): \\n', premium_MC / lgm_curve.get_zero_x(today, Ta, 0))\n"
   ]
  },
  {
   "cell_type": "code",
   "execution_count": 0,
   "metadata": {
    "colab": {
     "base_uri": "https://localhost:8080/",
     "height": 34
    },
    "colab_type": "code",
    "id": "Z--Vw8FSakLx",
    "outputId": "b0288a83-02ad-4af3-e247-29b9612b8e3e"
   },
   "outputs": [
    {
     "data": {
      "text/plain": [
       "0.020942532876816206"
      ]
     },
     "execution_count": 17,
     "metadata": {
      "tags": []
     },
     "output_type": "execute_result"
    }
   ],
   "source": [
    "#LGMCurve(ir_curve, kappa, sigma)\n",
    "lgm_curve._kappa\n",
    "lgm_curve._curve\n",
    "lgm_curve._sigma\n",
    "irs.fixed_coupon"
   ]
  },
  {
   "cell_type": "code",
   "execution_count": 0,
   "metadata": {
    "colab": {
     "base_uri": "https://localhost:8080/",
     "height": 34
    },
    "colab_type": "code",
    "id": "PkDZOD1mg9qI",
    "outputId": "85c98816-8a3f-4fad-97b2-4a88f3c7bc0f"
   },
   "outputs": [
    {
     "data": {
      "text/plain": [
       "0.18816337230509647"
      ]
     },
     "execution_count": 18,
     "metadata": {
      "tags": []
     },
     "output_type": "execute_result"
    }
   ],
   "source": [
    "LGM_IRS_price(Ta, irs, lgm_curve, k)"
   ]
  },
  {
   "cell_type": "markdown",
   "metadata": {
    "colab_type": "text",
    "id": "QnUmxOUZZBH5"
   },
   "source": [
    "#### **3** Calcula el precio por integral numérica"
   ]
  },
  {
   "cell_type": "markdown",
   "metadata": {
    "colab_type": "text",
    "id": "NlTNf-wqZ-A4"
   },
   "source": [
    "En este caso la función de densidad $\\eta_{x(T_a)}$ es la de la X que sabemos que es un Normal(0, $\\int_{t}^{T_{a}} \\sigma_{s} ds$) \n",
    "\n",
    "$$\n",
    "\\frac{1}{B(t, T_a)} \\int_{-\\infty}^{\\infty} \\frac{ IRS(T_a, x)^+}{N(T_a, x)} \\eta_{x(T_a)}(x) dx\n",
    "$$"
   ]
  },
  {
   "cell_type": "code",
   "execution_count": 0,
   "metadata": {
    "colab": {},
    "colab_type": "code",
    "collapsed": true,
    "id": "uoTg4j7bZAjm"
   },
   "outputs": [],
   "source": [
    "# Se define el integrando\n",
    "\n",
    "def swaption_integrand(x):\n",
    "    \n",
    "    # Calculo valor IRS\n",
    "    irs_at_Ta = LGM_IRS_price(Ta, irs, lgm_curve, x)\n",
    "    \n",
    "    # Se divide por el numerario\n",
    "    irs_at_Ta /= lgm_curve.numeraire(Ta, x)\n",
    "    \n",
    "    # Se busca el maximo\n",
    "    irs_at_Ta = np.maximum(irs_at_Ta, 0)\n",
    "    \n",
    "    # Definimos la función de densidad\n",
    "    # Sigma\n",
    "    sigma_x = lgm_curve._sigma * np.sqrt((Ta - today)/365.25)\n",
    "    pdf = norm.pdf(x, loc = 0, scale = sigma_x)\n",
    "    \n",
    "    return irs_at_Ta * pdf\n",
    "    "
   ]
  },
  {
   "cell_type": "code",
   "execution_count": 0,
   "metadata": {
    "colab": {},
    "colab_type": "code",
    "collapsed": true,
    "id": "pKFDl_abryvH"
   },
   "outputs": [],
   "source": [
    "#irs_at_Ta = LGM_IRS_price(Ta, irs, lgm_curve, x_star_Ta)\n",
    "#irs_at_Ta"
   ]
  },
  {
   "cell_type": "code",
   "execution_count": 0,
   "metadata": {
    "colab": {
     "base_uri": "https://localhost:8080/",
     "height": 34
    },
    "colab_type": "code",
    "id": "sWxgvGOzcl8e",
    "outputId": "9ca0fa6a-6bb2-4e48-93c1-9c293d027108"
   },
   "outputs": [
    {
     "name": "stdout",
     "output_type": "stream",
     "text": [
      "-0.004621487973946252\n"
     ]
    }
   ],
   "source": [
    "# Definimos x_star_Ta como limite inferior de evaluación de la integral.\n",
    "\n",
    "f_obj_Ta = lambda x : LGM_IRS_price(Ta, irs, lgm_curve, x)\n",
    "x_star_Ta = optimize.newton(f_obj_Ta, 0)\n",
    "print(x_star_Ta)"
   ]
  },
  {
   "cell_type": "code",
   "execution_count": 0,
   "metadata": {
    "colab": {
     "base_uri": "https://localhost:8080/",
     "height": 34
    },
    "colab_type": "code",
    "id": "DApLDVKxb0bh",
    "outputId": "9815a59b-5a69-4f6c-ee3a-e232203f0c40"
   },
   "outputs": [
    {
     "data": {
      "text/plain": [
       "(0.06958579233904794, 1.1358700295091151e-14)"
      ]
     },
     "execution_count": 22,
     "metadata": {
      "tags": []
     },
     "output_type": "execute_result"
    }
   ],
   "source": [
    "# Resolvemos la integral:\n",
    "\n",
    "import scipy.integrate as integrate\n",
    "\n",
    "integrate.quad(swaption_integrand, x_star_Ta, 0.5)"
   ]
  },
  {
   "cell_type": "code",
   "execution_count": 0,
   "metadata": {
    "colab": {},
    "colab_type": "code",
    "collapsed": true,
    "id": "Q52N4UECkJp6"
   },
   "outputs": [],
   "source": [
    "# Resolución de integrales por metodo de trapecios (suma de areas por alturas)\n",
    "def trap(f, xmin, xmax, npoints=10):\n",
    "    \"\"\"\n",
    "    computes the integral of f using trapezoid rule\n",
    "    \"\"\"\n",
    "    area = 0\n",
    "    x = np.linspace(xmin, xmax, npoints)\n",
    "    N = len(x)\n",
    "    dx = x[1] - x[0]\n",
    "    \n",
    "    for k in range(1, N):\n",
    "        area += (f(x[k - 1]) + f(x[k])) * dx / 2\n",
    "        \n",
    "    return area"
   ]
  },
  {
   "cell_type": "code",
   "execution_count": 0,
   "metadata": {
    "colab": {
     "base_uri": "https://localhost:8080/",
     "height": 34
    },
    "colab_type": "code",
    "id": "WigfIo9KkzX1",
    "outputId": "2b5361c8-3577-40bc-db06-5c006c3c1ca9"
   },
   "outputs": [
    {
     "data": {
      "text/plain": [
       "0.06928471257899252"
      ]
     },
     "execution_count": 24,
     "metadata": {
      "tags": []
     },
     "output_type": "execute_result"
    }
   ],
   "source": [
    "trap(swaption_integrand, x_star_Ta, 0.5, 100)"
   ]
  },
  {
   "cell_type": "markdown",
   "metadata": {
    "colab_type": "text",
    "id": "vJrwzXnSMNL2"
   },
   "source": [
    "Hay que picar la parte de Luis.\n",
    "\n",
    "Definiremos dos funciones, una la pde_swap, en la cual hay que realizar una optimización para buscar los valores de $X^{\\star}_{T_a}$ que hacen que $$(S_{a,b}(X^{\\star}_{T_a}) - K) = 0$$\n",
    "\n",
    "$$S(X^{\\star}_{T_a}) = K$$\n",
    "\n",
    "Una vez definido esto, tendríamos la funcion de densidad:\n",
    "\n",
    "$$\\sum_{j = a+1}^{b}B(T_a, T_j,X^{\\star}_{T_a}) \\eta_{X}(X^{\\star}_{T_a}) = \\eta_{swaption}(k)$$\n",
    "\n",
    "Para por fin poder calcular:\n",
    "\n",
    "$$V(t) = \\displaystyle \\int_{-\\infty}^{\\infty}(S - K)^{+}\\eta_{swaption}(S)dS$$"
   ]
  },
  {
   "cell_type": "markdown",
   "metadata": {
    "colab_type": "text",
    "id": "ZVpTEXpKQcti"
   },
   "source": [
    "Tipo Swap:\n",
    "\n",
    "$$\n",
    "S(x) = \\displaystyle \\dfrac{1 - B(T_a, T_b, x(T_a))}{\\sum_{j=a+1}^{b}\\Delta_j B(T_a, T_j, x(T_a))}\n",
    "$$\n"
   ]
  },
  {
   "cell_type": "code",
   "execution_count": 0,
   "metadata": {
    "colab": {
     "base_uri": "https://localhost:8080/",
     "height": 34
    },
    "colab_type": "code",
    "id": "uCKPWElXRVgS",
    "outputId": "090b1206-fb19-46b8-f4bf-ca53531d43de"
   },
   "outputs": [
    {
     "data": {
      "text/plain": [
       "True"
      ]
     },
     "execution_count": 25,
     "metadata": {
      "tags": []
     },
     "output_type": "execute_result"
    }
   ],
   "source": [
    "x_star_Ta\n",
    "irs.fix_dates\n",
    "\n",
    "len(irs.dcf) == len(irs.fix_dates)"
   ]
  },
  {
   "cell_type": "code",
   "execution_count": 0,
   "metadata": {
    "colab": {
     "base_uri": "https://localhost:8080/",
     "height": 51
    },
    "colab_type": "code",
    "id": "uuDVplWyQK6X",
    "outputId": "bf7b988c-499f-4505-c654-d45f24504f2b"
   },
   "outputs": [
    {
     "name": "stdout",
     "output_type": "stream",
     "text": [
      "0.020942532876809597\n"
     ]
    },
    {
     "data": {
      "text/plain": [
       "0.020942532876816206"
      ]
     },
     "execution_count": 26,
     "metadata": {
      "tags": []
     },
     "output_type": "execute_result"
    }
   ],
   "source": [
    "# Definimos tipo swap\n",
    "\n",
    "lgm_curve.get_zero_x(Ta, Tb, x_star_Ta)\n",
    "tipo_swap_denominador = []\n",
    "for i in range(len(irs.fix_dates)):\n",
    "    \n",
    "    tipo_swap_denominador.append(irs.dcf[i] * lgm_curve.get_zero_x(Ta, irs.fix_dates[i], x_star_Ta))\n",
    "    \n",
    "print((1-lgm_curve.get_zero_x(Ta, Tb, x_star_Ta))/sum(tipo_swap_denominador))\n",
    "\n",
    "irs.fixed_coupon\n",
    "\n",
    "#f_obj = lambda k: LGM_IRS_price(today, IRS(Ta, tenor, freq, k), lgm_curve, 0)\n",
    "\n",
    "#f_obj_Ta = lambda x : LGM_IRS_price(Ta, irs, lgm_curve, x)\n",
    "#x_star_Ta = optimize.newton(f_obj_Ta, 0)"
   ]
  },
  {
   "cell_type": "code",
   "execution_count": 0,
   "metadata": {
    "colab": {},
    "colab_type": "code",
    "collapsed": true,
    "id": "K4m3VDQtbfdt"
   },
   "outputs": [],
   "source": [
    "def ajuste_tipo_swap_k(Ta, Tb, x):\n",
    "    \n",
    "    tipo_swap_denominador = []\n",
    "    \n",
    "    for i in range(len(irs.fix_dates)):\n",
    "        tipo_swap_denominador.append(irs.dcf[i] * lgm_curve.get_zero_x(Ta, irs.fix_dates[i], x))\n",
    "        \n",
    "    return((1-lgm_curve.get_zero_x(Ta, Tb, x))/sum(tipo_swap_denominador))\n",
    "\n",
    "\n"
   ]
  },
  {
   "cell_type": "code",
   "execution_count": 0,
   "metadata": {
    "colab": {
     "base_uri": "https://localhost:8080/",
     "height": 34
    },
    "colab_type": "code",
    "id": "9JfPmTHgcjhm",
    "outputId": "4a7c9313-4ac9-416b-bbcf-a980e7609f34"
   },
   "outputs": [
    {
     "data": {
      "text/plain": [
       "-0.0281905015381874"
      ]
     },
     "execution_count": 64,
     "metadata": {
      "tags": []
     },
     "output_type": "execute_result"
    }
   ],
   "source": [
    "f_obj_tipo_swap = lambda x: ajuste_tipo_swap_k(Ta, Tb, x)\n",
    "optimize.newton(f_obj_tipo_swap, 0)"
   ]
  },
  {
   "cell_type": "code",
   "execution_count": 0,
   "metadata": {
    "colab": {},
    "colab_type": "code",
    "collapsed": true,
    "id": "-PqmLyJqprRn"
   },
   "outputs": [],
   "source": [
    "def prueba(strike):\n",
    "    \n",
    "    irs_prueba = IRS(Ta, tenor, freq, strike)\n",
    "    \n",
    "    # Calculo valor IRS\n",
    "    irs_at_Ta = LGM_IRS_price(Ta, irs_prueba, lgm_curve, x_star_Ta)\n",
    "    \n",
    "    # Se divide por el numerario\n",
    "    irs_at_Ta /= lgm_curve.numeraire(Ta, x_star_Ta)\n",
    "    \n",
    "    # Se busca el maximo\n",
    "    irs_at_Ta = np.maximum(irs_at_Ta, 0)\n",
    "    \n",
    "    # Definimos la función de densidad\n",
    "    # Sigma\n",
    "    sigma_x = lgm_curve._sigma * np.sqrt((Ta - today)/365.25)\n",
    "    pdf = norm.pdf(strike, loc = 0, scale = sigma_x)\n",
    "    \n",
    "    return irs_at_Ta * pdf\n",
    "    "
   ]
  },
  {
   "cell_type": "code",
   "execution_count": 0,
   "metadata": {
    "colab": {},
    "colab_type": "code",
    "collapsed": true,
    "id": "4siI7OLqqhzv"
   },
   "outputs": [],
   "source": [
    "irs_prueba = IRS(Ta, tenor, freq, k)\n",
    "\n",
    "irs_at_Ta = LGM_IRS_price(Ta, irs_prueba, lgm_curve, x_star_Ta)\n",
    "irs_at_Ta /= lgm_curve.numeraire(Ta, x_star_Ta)\n",
    "irs_at_Ta = np.maximum(irs_at_Ta, 0)\n",
    "sigma_x = lgm_curve._sigma * np.sqrt((Ta - today)/365.25)\n",
    "irs_at_Ta\n"
   ]
  },
  {
   "cell_type": "code",
   "execution_count": 0,
   "metadata": {
    "colab": {},
    "colab_type": "code",
    "collapsed": true,
    "id": "-Zk6Np255-IW"
   },
   "outputs": [],
   "source": [
    "prueba(k)"
   ]
  },
  {
   "cell_type": "code",
   "execution_count": 0,
   "metadata": {
    "colab": {},
    "colab_type": "code",
    "collapsed": true,
    "id": "0vsspyry5epQ"
   },
   "outputs": [],
   "source": [
    "integrate.quad(prueba, x_star_Ta, 0.5)"
   ]
  },
  {
   "cell_type": "code",
   "execution_count": 0,
   "metadata": {
    "colab": {},
    "colab_type": "code",
    "collapsed": true,
    "id": "kv-bZ98p5vWb"
   },
   "outputs": [],
   "source": [
    "trap(prueba, x_star_Ta, 0.5, 1000)"
   ]
  },
  {
   "cell_type": "markdown",
   "metadata": {
    "colab_type": "text",
    "id": "xHKlGE40ABBA"
   },
   "source": [
    "$$\n",
    "E[\\delta (S_{a,b}(X_{T_{a}}) - k)] = \\displaystyle \\int_{-\\infty}^{\\infty} \\delta (S_{a,b}(X_{T_{a}}) - k) \\eta_{x(T_a)}(x) dx = \\eta_{X_{T_{a}}}(k)\n",
    "$$\n",
    "\n",
    "$$\n",
    "X_{T_{a}} \\rightarrow N (0, \\displaystyle \\int_{0}^{T_a}\\sigma_s^2 ds)\n",
    "$$"
   ]
  },
  {
   "cell_type": "markdown",
   "metadata": {
    "colab_type": "text",
    "id": "jom3Pxlpg7VX"
   },
   "source": [
    "# **EJERCICIO 2. **\n",
    "\n",
    "Para el Swaption con las características del ejercicio 1,  ($T_a = \\text{today} + 5Y$, $T_b = T_a + 10Y$) y  de acuerdo al LGM ($\\sigma = 1\\%$, $\\kappa = 1 \\%$),  calculad para los Strikes en ATM difference (ATM Differece = K - Forward) = $-200\\;  bp, -100 \\; bp, -50 \\;  bp, 0 \\; bp, 50 \\; bp, 100 \\; bp, 200 \\; bp$ el precio del Swaption Payer Physical Settled vs Cash-Settled.\n",
    "\n",
    "Recordad que el precio del Swaption Physical-Settled es el que habéis calculado en ejercicio 1. El Pay-Off a vencimiento del Csh-Settled es\n",
    "\n",
    "$$\n",
    "Swptn^\\text{Cash}(T_a) = \\left( S(T_a, x(T_a)) - K \\right)^+ \\sum_{j=1}^N \\frac{ \\Delta_j }{\\left(1 + S(T_a, x(T_a)) \\right)^{(T_j - T_a)}}\n",
    "$$\n",
    "\n",
    "Comparad ambas gráficas y tratad de justificar los resultados.\n",
    "\n",
    "**Nota:** Podéis utilizar el método numérico que consideréis más oportuno. Espero algún comentario en relación a la elección del método.\n",
    "\n",
    "**Nota:** 100 bp = 1% = 0.01\n"
   ]
  },
  {
   "cell_type": "code",
   "execution_count": 0,
   "metadata": {
    "colab": {
     "base_uri": "https://localhost:8080/",
     "height": 34
    },
    "colab_type": "code",
    "id": "PPvXGUzeluBz",
    "outputId": "d1c9d099-c7a5-455e-c305-bc32cd1d0ea9"
   },
   "outputs": [
    {
     "name": "stdout",
     "output_type": "stream",
     "text": [
      "45387.25 10.0 2 0.020942532876816206\n"
     ]
    }
   ],
   "source": [
    "print(Ta, tenor, freq, k)"
   ]
  },
  {
   "cell_type": "markdown",
   "metadata": {
    "colab_type": "text",
    "id": "2JywHZisqlDk"
   },
   "source": [
    "Para el calculo del ATM difference:\n",
    "\n",
    "ATM Difference = K - Forward\n",
    "    \n",
    "    Forward - Es el K definido en T0 que hace que el contrato sea ATM en T0 (lo definimos # Definimos el cupon que hace cero el valor del IRS en t0)\n",
    "\n",
    "Por lo tanto, tenemos que definir los nuevos K, teniendo en cuenta los ATM Difference.\n",
    "\n",
    "K = ATM Difference + Forward"
   ]
  },
  {
   "cell_type": "markdown",
   "metadata": {
    "colab_type": "text",
    "id": "CT6SrhhooHX8"
   },
   "source": [
    "Puntos Basicos:\n",
    "\n",
    "\n",
    "1.   1 Bp = 0.01%\n",
    "2.   10 Bp = 0.1%\n",
    "3.    50 Bp = 0.5%\n",
    "4.    100 Bp = 1%\n",
    "5.    1000 Bp = 10%\n",
    "6.    10000 Bp = 100%\n",
    "\n"
   ]
  },
  {
   "cell_type": "markdown",
   "metadata": {
    "colab_type": "text",
    "id": "lKrBnHrPso3l"
   },
   "source": [
    "#### 1.- Precio del Swaption Physical-Settled"
   ]
  },
  {
   "cell_type": "code",
   "execution_count": 0,
   "metadata": {
    "colab": {
     "base_uri": "https://localhost:8080/",
     "height": 51
    },
    "colab_type": "code",
    "id": "BREMgk_DloEj",
    "outputId": "bfd0d2f1-9e6b-4232-819e-b9c166e50259"
   },
   "outputs": [
    {
     "name": "stderr",
     "output_type": "stream",
     "text": [
      "/usr/local/lib/python3.6/dist-packages/ipykernel_launcher.py:6: DeprecationWarning: object of type <class 'float'> cannot be safely interpreted as an integer.\n",
      "  \n"
     ]
    }
   ],
   "source": [
    "# IRS(start_date, tenor, freq, fixed_coupon)\n",
    "#irs = IRS(Ta, tenor, freq, k)\n",
    "\n",
    "k_diff = [-0.02, -0.01, -0.005, 0, 0.005, 0.01, 0.02]\n",
    "physical_settle = []\n",
    "for k_bp in k_diff:\n",
    "    \n",
    "    physical_settle.append(LGM_Swaption_Price(value_date = today, \n",
    "                                              irs = IRS(Ta, tenor, freq, k+k_bp), \n",
    "                                              lgm_curve = lgm_curve))\n",
    "\n",
    "#LGM_Swaption_Price(value_date = today, irs = IRS(Ta, tenor, freq, k), lgm_curve = lgm_curve)"
   ]
  },
  {
   "cell_type": "code",
   "execution_count": 0,
   "metadata": {
    "colab": {
     "base_uri": "https://localhost:8080/",
     "height": 119
    },
    "colab_type": "code",
    "id": "DZbSMulQpJzE",
    "outputId": "c4298bf5-af94-4f34-a944-0c268fe70262"
   },
   "outputs": [
    {
     "name": "stdout",
     "output_type": "stream",
     "text": [
      "Swaption_premium: \n",
      " [0.1979600791382503, 0.12757254194208956, 0.0981556608091546, 0.07315000431655858, 0.05267083617551153, 0.03655917484211454, 0.015654866599688285]\n",
      "K - K_diff: \n",
      " [0.00094253 0.01094253 0.01594253 0.02094253 0.02594253 0.03094253\n",
      " 0.04094253]\n"
     ]
    },
    {
     "data": {
      "text/plain": [
       "0.04094253287681621"
      ]
     },
     "execution_count": 28,
     "metadata": {
      "tags": []
     },
     "output_type": "execute_result"
    }
   ],
   "source": [
    "print('Swaption_premium: \\n', physical_settle)\n",
    "print('K - K_diff: \\n', k+k_diff)\n",
    "k + k_diff[-1]"
   ]
  },
  {
   "cell_type": "code",
   "execution_count": 0,
   "metadata": {
    "colab": {
     "base_uri": "https://localhost:8080/",
     "height": 472
    },
    "colab_type": "code",
    "id": "T7Q5uijwo4xY",
    "outputId": "23e8451c-803a-494b-9b58-73b3fd76c934"
   },
   "outputs": [
    {
     "data": {
      "image/png": "[encoded data removed]",
      "text/plain": [
       "<Figure size 640x480 with 1 Axes>"
      ]
     },
     "metadata": {
      "tags": []
     },
     "output_type": "display_data"
    }
   ],
   "source": [
    "plt.plot(k+k_diff, physical_settle)\n",
    "\n",
    "plt.xlabel('k+k_diff')\n",
    "plt.ylabel('Swaption Premium')\n",
    "plt.title('Swaption Physical-Settled');"
   ]
  },
  {
   "cell_type": "markdown",
   "metadata": {
    "colab_type": "text",
    "id": "z5jb7wVntjJw"
   },
   "source": [
    "### 2.- Precio del Swaption Payer Cash-Settled"
   ]
  },
  {
   "cell_type": "markdown",
   "metadata": {
    "colab_type": "text",
    "id": "cszSFyIIOyBL"
   },
   "source": [
    "# **EJERCICIO 3. **\n",
    "\n",
    "Para el Swaption con las características del ejercicio 1,  ($T_a = \\text{today} + 5Y$, $T_b = T_a + 10Y$) , asumamos que el precio del swaption payer de mercado viene establecido por el LGM ($\\sigma = 1\\%$, $\\kappa = 1 \\%$).\n",
    "\n",
    "\n",
    "Para distintos valores de $\\kappa = -5\\%, -3\\%, -1\\%, 1\\%, 3\\%, 5\\%$\n",
    "\n",
    "\n",
    "1. Calculad el nuevo valor de $\\sigma$ tal que el precio del swaption ATM es igual al original ($\\sigma = 1\\%$, $\\kappa = 1 \\%$).\n",
    "2. Pintar el smile de volatilidad en términos normales para los strikes (en ATM difference) $-200\\;  bp, -100 \\; bp, -50 \\;  bp, 0 \\; bp, 50 \\; bp, 100 \\; bp, 200 \\; bp$\n",
    "\n",
    "\n",
    "Parte 1: Hay que buscar vol implicita (una optimización)\n"
   ]
  },
  {
   "cell_type": "code",
   "execution_count": 0,
   "metadata": {
    "colab": {},
    "colab_type": "code",
    "collapsed": true,
    "id": "K_l2qV-QQyk2"
   },
   "outputs": [],
   "source": [
    "\n",
    "from scipy.stats import norm\n",
    "\n",
    "# Fórmula de BS en términos normales. La vais a necesitar para calcular el smile en términos normales.\n",
    "\n",
    "\n",
    "# ----------------------------------------------------------------\n",
    "\n",
    "\n",
    "# EVALUATE BS ..\n",
    "def BS_norm_price(F, K, T, vol):\n",
    "  '''\n",
    "  Normal Black-Scholes\n",
    "  '''\n",
    "  sigma_sqrt_t = vol * np.sqrt(T)\n",
    "  d1 = (F - K) / sigma_sqrt_t\n",
    "  \n",
    "  return (F-K) * norm.cdf(d1) + sigma_sqrt_t * norm.pdf(d1)\n",
    "# ----------------------------------------------------------------\n",
    "\n"
   ]
  },
  {
   "cell_type": "markdown",
   "metadata": {
    "colab_type": "text",
    "id": "G5TaRMi7gDPC"
   },
   "source": [
    "### 1.- Calculad el nuevo valor de $\\sigma$ tal que el precio del swaption ATM es igual al original ($\\sigma = 1\\%$, $\\kappa = 1 \\%$)."
   ]
  },
  {
   "cell_type": "code",
   "execution_count": 0,
   "metadata": {
    "colab": {
     "base_uri": "https://localhost:8080/",
     "height": 68
    },
    "colab_type": "code",
    "id": "BjB4N1jdgDwW",
    "outputId": "29e77b11-4bc0-49d6-87cc-144eb2bf0a20"
   },
   "outputs": [
    {
     "name": "stderr",
     "output_type": "stream",
     "text": [
      "/usr/local/lib/python3.6/dist-packages/ipykernel_launcher.py:6: DeprecationWarning: object of type <class 'float'> cannot be safely interpreted as an integer.\n",
      "  \n"
     ]
    },
    {
     "data": {
      "text/plain": [
       "0.07315000431655858"
      ]
     },
     "execution_count": 32,
     "metadata": {
      "tags": []
     },
     "output_type": "execute_result"
    }
   ],
   "source": [
    "lgm_curve = LGMCurve(IR_curve=ir_curve, kappa=0.01, sigma=sigma)\n",
    "\n",
    "# IRS(start_date, tenor, freq, fixed_coupon)\n",
    "irs = IRS(Ta, tenor, freq, k)\n",
    "\n",
    "LGM_Swaption_Price(value_date=today, irs=irs, lgm_curve=lgm_curve)"
   ]
  },
  {
   "cell_type": "code",
   "execution_count": 0,
   "metadata": {
    "colab": {
     "base_uri": "https://localhost:8080/",
     "height": 34
    },
    "colab_type": "code",
    "id": "3NI30ZubhlS1",
    "outputId": "17542dfb-d62c-4cef-f99a-ec3b0ee50132"
   },
   "outputs": [
    {
     "data": {
      "text/plain": [
       "0.07315000431655858"
      ]
     },
     "execution_count": 33,
     "metadata": {
      "tags": []
     },
     "output_type": "execute_result"
    }
   ],
   "source": [
    "swaption_premium\n"
   ]
  },
  {
   "cell_type": "code",
   "execution_count": 0,
   "metadata": {
    "colab": {
     "base_uri": "https://localhost:8080/",
     "height": 34
    },
    "colab_type": "code",
    "id": "6pPJg0Y0hbHZ",
    "outputId": "af0437ab-8f42-4395-eb19-ff3f58a87396"
   },
   "outputs": [
    {
     "data": {
      "text/plain": [
       "0.010000000000000092"
      ]
     },
     "execution_count": 37,
     "metadata": {
      "tags": []
     },
     "output_type": "execute_result"
    }
   ],
   "source": [
    "# Optimización respecto a kappa\n",
    "\n",
    "fobj = lambda x: LGM_Swaption_Price(today, irs, \n",
    "                                    LGMCurve(IR_curve=ir_curve, kappa=0.01, sigma=x)) - swaption_premium\n",
    "optimize.newton(fobj, sigma)"
   ]
  },
  {
   "cell_type": "code",
   "execution_count": 0,
   "metadata": {
    "colab": {},
    "colab_type": "code",
    "collapsed": true,
    "id": "6JHHBN-riF54"
   },
   "outputs": [],
   "source": [
    "#  -5\\%, -3\\%, -1\\%, 1\\%, 3\\%, 5\\%\n",
    "kappa = [-0.05, -0.03, -0.01, 0.01, 0.03, 0.05]\n",
    "sigma_kappa = []\n",
    "\n",
    "for k in kappa:\n",
    "    \n",
    "    fobj = lambda x: LGM_Swaption_Price(today, irs, \n",
    "                                    LGMCurve(IR_curve=ir_curve, kappa=k, sigma=x)) - swaption_premium\n",
    "    sigma_kappa.append(optimize.newton(fobj, sigma))"
   ]
  },
  {
   "cell_type": "code",
   "execution_count": 0,
   "metadata": {
    "colab": {
     "base_uri": "https://localhost:8080/",
     "height": 51
    },
    "colab_type": "code",
    "id": "XsXnYnP48uEc",
    "outputId": "89a37744-5b76-4e59-b29c-9fe4832d2a4b"
   },
   "outputs": [
    {
     "name": "stdout",
     "output_type": "stream",
     "text": [
      "Vol implicita para los distintos kappa: \n",
      " [0.0054917146283737705, 0.006728503408305616, 0.008216414746342686, 0.01, 0.01213046863865696, 0.014666513687089641]\n"
     ]
    }
   ],
   "source": [
    "print('Vol implicita para los distintos kappa: \\n', sigma_kappa)"
   ]
  },
  {
   "cell_type": "code",
   "execution_count": 0,
   "metadata": {
    "colab": {
     "base_uri": "https://localhost:8080/",
     "height": 489
    },
    "colab_type": "code",
    "id": "Kt7exHjQjEnA",
    "outputId": "0a61fc3f-babe-47a6-bfb1-4ab42358aef7"
   },
   "outputs": [
    {
     "name": "stdout",
     "output_type": "stream",
     "text": [
      "[0.0054917146283737705, 0.006728503408305616, 0.008216414746342686, 0.01, 0.01213046863865696, 0.014666513687089641]\n"
     ]
    },
    {
     "data": {
      "image/png": "[encoded data removed]",
      "text/plain": [
       "<Figure size 640x480 with 1 Axes>"
      ]
     },
     "metadata": {
      "tags": []
     },
     "output_type": "display_data"
    }
   ],
   "source": [
    "str_swaption_premium = str(np.around(swaption_premium, decimals= 3))\n",
    "plt.plot(kappa, sigma_kappa)\n",
    "plt.xlabel('Kappa')\n",
    "plt.ylabel('Sigma')\n",
    "plt.title('Sigma que permite, para distintos kappa, recuperar el swaption price (prima forward) ' +  str_swaption_premium);"
   ]
  },
  {
   "cell_type": "markdown",
   "metadata": {
    "colab_type": "text",
    "id": "sb3zOwNpk9e3"
   },
   "source": [
    "### 2.- Pintar el smile de volatilidad en términos normales para los strikes (en ATM difference) $-200\\;  bp, -100 \\; bp, -50 \\;  bp, 0 \\; bp, 50 \\; bp, 100 \\; bp, 200 \\; bp$"
   ]
  },
  {
   "cell_type": "code",
   "execution_count": 0,
   "metadata": {
    "colab": {
     "base_uri": "https://localhost:8080/",
     "height": 136
    },
    "colab_type": "code",
    "id": "TwBt446PlCn4",
    "outputId": "db4315cf-81f2-42cf-a225-eed1d76b28ef"
   },
   "outputs": [
    {
     "data": {
      "text/plain": [
       "[0.1979600791382503,\n",
       " 0.12757254194208956,\n",
       " 0.0981556608091546,\n",
       " 0.07315000431655858,\n",
       " 0.05267083617551153,\n",
       " 0.03655917484211454,\n",
       " 0.015654866599688285]"
      ]
     },
     "execution_count": 56,
     "metadata": {
      "tags": []
     },
     "output_type": "execute_result"
    }
   ],
   "source": [
    "swaption_premium\n",
    "\n",
    "physical_settle\n",
    "\n",
    "lgm_curve = LGMCurve(ir_curve, kappa, sigma)\n",
    "\n",
    "k_diff = [-0.02, -0.01, -0.005, 0, 0.005, 0.01, 0.02]\n",
    "physical_settle = []\n",
    "for k_bp in k_diff:\n",
    "    \n",
    "    physical_settle.append(LGM_Swaption_Price(value_date = today, \n",
    "                                              irs = IRS(Ta, tenor, freq, k+k_bp), \n",
    "                                              lgm_curve = lgm_curve))\n",
    "    \n",
    "    \n",
    "def BS_norm_price(F, K, T, vol):\n",
    "  '''\n",
    "  Normal Black-Scholes\n",
    "  '''\n",
    "  sigma_sqrt_t = vol * np.sqrt(T)\n",
    "  d1 = (F - K) / sigma_sqrt_t\n",
    "  \n",
    "  return (F-K) * norm.cdf(d1) + sigma_sqrt_t * norm.pdf(d1)"
   ]
  },
  {
   "cell_type": "code",
   "execution_count": 0,
   "metadata": {
    "colab": {
     "base_uri": "https://localhost:8080/",
     "height": 68
    },
    "colab_type": "code",
    "id": "4odj6x1NwRwP",
    "outputId": "21e69aaf-6723-4e88-99a9-f433ac42e3f2"
   },
   "outputs": [
    {
     "name": "stderr",
     "output_type": "stream",
     "text": [
      "/usr/local/lib/python3.6/dist-packages/scipy/optimize/zeros.py:324: RuntimeWarning: Tolerance of 0.00010099999999999866 reached\n",
      "  warnings.warn(msg, RuntimeWarning)\n"
     ]
    },
    {
     "data": {
      "text/plain": [
       "7"
      ]
     },
     "execution_count": 82,
     "metadata": {
      "tags": []
     },
     "output_type": "execute_result"
    }
   ],
   "source": [
    "lgm_curve.get_zero_x(t = today, T = Ta, xt = 0)\n",
    "fobjt = lambda x: BS_norm_price(lgm_curve.get_zero_x(t = today, T = Ta, xt = 0), k_diff[0], tenor, x) - physical_settle[1]\n",
    "\n",
    "optimize.newton(fobjt, 0.01, maxiter = 100)"
   ]
  },
  {
   "cell_type": "code",
   "execution_count": 0,
   "metadata": {
    "colab": {
     "base_uri": "https://localhost:8080/",
     "height": 85
    },
    "colab_type": "code",
    "id": "RwTdvan-tsWP",
    "outputId": "8daa1758-8614-4cef-db43-5dcf3be4e989"
   },
   "outputs": [
    {
     "name": "stderr",
     "output_type": "stream",
     "text": [
      "/usr/local/lib/python3.6/dist-packages/scipy/optimize/zeros.py:324: RuntimeWarning: Tolerance of -0.00012911857423990964 reached\n",
      "  warnings.warn(msg, RuntimeWarning)\n",
      "/usr/local/lib/python3.6/dist-packages/scipy/optimize/zeros.py:324: RuntimeWarning: Tolerance of -0.0007835904364456109 reached\n",
      "  warnings.warn(msg, RuntimeWarning)\n"
     ]
    }
   ],
   "source": [
    "vol_implicita = []\n",
    "# k porque forward = k del atm diference\n",
    "for i in range(len(k_diff)):\n",
    "\n",
    "    fobjt = lambda x: BS_norm_price(k, k_diff[i], tenor, x) - physical_settle[i]\n",
    "    vol_implicita.append(optimize.newton(fobjt, 0.01, maxiter = 100))"
   ]
  },
  {
   "cell_type": "code",
   "execution_count": 0,
   "metadata": {
    "colab": {
     "base_uri": "https://localhost:8080/",
     "height": 472
    },
    "colab_type": "code",
    "id": "23BxZh05zji2",
    "outputId": "ad27c2f4-42b3-44ca-9942-24728f14469f"
   },
   "outputs": [
    {
     "data": {
      "image/png": "[encoded data removed]",
      "text/plain": [
       "<Figure size 640x480 with 1 Axes>"
      ]
     },
     "metadata": {
      "tags": []
     },
     "output_type": "display_data"
    }
   ],
   "source": [
    "plt.plot(k_diff, vol_implicita)\n",
    "plt.xlabel('Strikes')\n",
    "plt.ylabel('Vol implicita')\n",
    "plt.title('Vol implicita para recuperar el forward bajo BSNormal');"
   ]
  },
  {
   "cell_type": "code",
   "execution_count": 0,
   "metadata": {
    "colab": {
     "base_uri": "https://localhost:8080/",
     "height": 85
    },
    "colab_type": "code",
    "id": "2B4lCaqYzysx",
    "outputId": "4ff4616e-113c-4f91-9d85-15d5e6320b0f"
   },
   "outputs": [
    {
     "name": "stdout",
     "output_type": "stream",
     "text": [
      "Swaption premium utilizando BSNormal: \n",
      " 0.19796007913825034\n",
      "Swaption premium physical_settle ATM difference \n",
      " [0.1979600791382503, 0.12757254194208956, 0.0981556608091546, 0.07315000431655858, 0.05267083617551153, 0.03655917484211454, 0.015654866599688285]\n"
     ]
    }
   ],
   "source": [
    "print('Swaption premium utilizando BSNormal: \\n', BS_norm_price(k, k_diff[0], tenor, vol_implicita[0]))\n",
    "print('Swaption premium physical_settle ATM difference \\n', physical_settle)"
   ]
  }
 ],
 "metadata": {
  "colab": {
   "collapsed_sections": [],
   "name": "ExamenTipos_Antonio.ipynb",
   "provenance": [],
   "toc_visible": true,
   "version": "0.3.2"
  },
  "kernelspec": {
   "display_name": "Python 3",
   "language": "python",
   "name": "python3"
  },
  "language_info": {
   "codemirror_mode": {
    "name": "ipython",
    "version": 3
   },
   "file_extension": ".py",
   "mimetype": "text/x-python",
   "name": "python",
   "nbconvert_exporter": "python",
   "pygments_lexer": "ipython3",
   "version": "3.6.3"
  }
 },
 "nbformat": 4,
 "nbformat_minor": 1
}
