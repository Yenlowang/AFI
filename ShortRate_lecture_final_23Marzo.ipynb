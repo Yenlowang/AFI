{
  "nbformat": 4,
  "nbformat_minor": 0,
  "metadata": {
    "colab": {
      "name": "ShortRate_lecture_final_23Marzo.ipynb",
      "version": "0.3.2",
      "provenance": [],
      "collapsed_sections": [],
      "include_colab_link": true
    },
    "kernelspec": {
      "name": "python3",
      "display_name": "Python 3"
    }
  },
  "cells": [
    {
      "cell_type": "markdown",
      "metadata": {
        "id": "view-in-github",
        "colab_type": "text"
      },
      "source": [
        "<a href=\"https://colab.research.google.com/github/Yenlowang/AFI/blob/master/ShortRate_lecture_final_23Marzo.ipynb\" target=\"_parent\"><img src=\"https://colab.research.google.com/assets/colab-badge.svg\" alt=\"Open In Colab\"/></a>"
      ]
    },
    {
      "metadata": {
        "id": "aqHbFpoXv7Jj",
        "colab_type": "text"
      },
      "cell_type": "markdown",
      "source": [
        "# **Curva a tiempo 0 y LGM Curve**"
      ]
    },
    {
      "metadata": {
        "id": "MTd-1UqVwUBD",
        "colab_type": "code",
        "colab": {}
      },
      "cell_type": "code",
      "source": [
        "import numpy as np\n",
        "from scipy.interpolate import interp1d\n",
        "import scipy as sc\n",
        "import matplotlib.pyplot as plt\n",
        "\n",
        "\n",
        "\n",
        "plt.style.use('default')\n",
        "\n",
        "# ------------------------------------------------\n",
        "\n",
        "# Clase Curva\n",
        "class IRCurve:\n",
        "  \n",
        "  # CONSTRUCTOR (Da vida a la clase)\n",
        "  def __init__(self, dates, dfs):\n",
        "    self._ref_date = dates[0]\n",
        "    self._dfs = dfs\n",
        "    self._times = (dates - dates[0]) / 365.25\n",
        "    self._rates_time = -np.log(dfs)\n",
        "    self._curve = interp1d(self._times, self._rates_time, kind = 'cubic')\n",
        "  \n",
        "  # Devuelve B(t, T) = B(0, T) / B(0, t)\n",
        "  def get_zero(self, t, T):\n",
        "    B_0_T = np.exp(-self._curve((T-self._ref_date)/365.25))\n",
        "    B_0_t = np.exp(-self._curve((t-self._ref_date)/365.25))\n",
        "    \n",
        "    return B_0_T / B_0_t\n",
        "  \n",
        " # -----------------------------------------------------\n",
        " \n",
        "def H(kappa, time):\n",
        "  return (1 - np.exp(-kappa * time)) / kappa\n",
        "  \n",
        "  \n",
        "# Definición de la clase LGM\n",
        "class LGMCurve:\n",
        "\n",
        "  # CONSTRUCTOR\n",
        "  def __init__(self, IR_curve, kappa, sigma):\n",
        "    self._curve = IR_curve\n",
        "    self._kappa = kappa\n",
        "    self._sigma = sigma\n",
        "\n",
        "  # Numerario: N(t, xt)\n",
        "  def numeraire(self, t, xt):\n",
        "\n",
        "    time_to_t = (t - self._curve._ref_date) / 365.25\n",
        "    ht = H(self._kappa, time_to_t)\n",
        "    zeta_t = (self._sigma ** 2) * time_to_t\n",
        "\n",
        "    exponent = ht * xt + 0.5 * (ht**2) * zeta_t\n",
        "\n",
        "    return 1 / self._curve.get_zero(self._curve._ref_date, t) \\\n",
        "            * np.exp(exponent)\n",
        "  \n",
        "  # B(t, T, xt)\n",
        "  def get_zero_x(self, t, T, xt):\n",
        "\n",
        "    time_to_t = (t - self._curve._ref_date) / 365.25\n",
        "    time_to_T = (T - self._curve._ref_date) / 365.25\n",
        "\n",
        "    ht = H(self._kappa, time_to_t)\n",
        "    hT = H(self._kappa, time_to_T)\n",
        "\n",
        "    zeta = (self._sigma * self._sigma) * time_to_t\n",
        "\n",
        "    df = self._curve.get_zero(t, T) \n",
        "    exponent = (hT -ht ) * xt + 0.5 * (hT * hT - ht * ht) * zeta \n",
        "\n",
        "    df *= np.exp(-exponent)\n",
        "\n",
        "    return df\n",
        "    \n",
        "    \n",
        " # -----------------------------------------------------"
      ],
      "execution_count": 0,
      "outputs": []
    },
    {
      "metadata": {
        "id": "fOG7Ebqc21TZ",
        "colab_type": "text"
      },
      "cell_type": "markdown",
      "source": [
        "# **PRUEBA CLASE CURVA y LGM Curve**\n",
        "\n",
        "1. Probamos la función get_zero que nos devuelve Factores de descuento vistos a Value Date\n",
        "\n"
      ]
    },
    {
      "metadata": {
        "id": "O9r775Eo24ip",
        "colab_type": "code",
        "outputId": "d7d3d57b-48d3-4383-e4e9-a3b565fb0d80",
        "colab": {
          "base_uri": "https://localhost:8080/",
          "height": 294
        }
      },
      "cell_type": "code",
      "source": [
        "today = 43533\n",
        "last_date = today + 365.25 * 25\n",
        "\n",
        "# Defino las fechas pilar para los factores de desceunto ...\n",
        "pillar_dates = np.linspace(today, last_date, 50)\n",
        "\n",
        "# Defino los rates como curva no plana\n",
        "dates_rates = np.array([today, today + 365, today + 365 * 5, today + 365 * 10, \\\n",
        "                       today +365 * 20, today + 365 * 30, today + 365 * 50])\n",
        "rates = np.array([0.0, 0.005, 0.01, 0.015, 0.02, 0.025, 0.028])\n",
        "\n",
        "# Calculo los FD de acuerdo a esa estructura no plana de tipos\n",
        "dfs = np.zeros(len(pillar_dates))\n",
        "rate_interp = interp1d(dates_rates, rates, kind = 'linear')\n",
        "for i in range( len(pillar_dates)):\n",
        "  rate = rate_interp(pillar_dates[i])\n",
        "  dfs[i] = (np.exp(-rate * (pillar_dates[i] - today)/ 365.25))\n",
        "\n",
        "# Definimos IR Curve (Curva original)  \n",
        "ir_curve = IRCurve(pillar_dates, dfs)\n",
        "\n",
        "# Probar funcionamiento del LGM\n",
        "kappa = 0.01\n",
        "sigma = 0.01\n",
        "lgm_curve = LGMCurve(ir_curve, kappa, sigma )\n",
        "\n",
        "df_lgm_at_pillar_dates = [lgm_curve.get_zero_x(today, T, 0) for T in pillar_dates]\n",
        "\n",
        "\n",
        "\n",
        "# GENERATE GRAPH ...  \n",
        "f, ax = plt.subplots()\n",
        "\n",
        "ax.plot(pillar_dates, dfs, 'o',label = 'DF original')\n",
        "ax.plot(pillar_dates, df_lgm_at_pillar_dates, 'x',label = 'DF LGM')\n",
        "\n",
        "ax.legend()\n",
        "\n",
        "f.set_size_inches(6, 3)\n"
      ],
      "execution_count": 0,
      "outputs": [
        {
          "output_type": "display_data",
          "data": {
            "image/png": "[encoded data removed]",
            "text/plain": [
              "<Figure size 600x300 with 1 Axes>"
            ]
          },
          "metadata": {
            "tags": []
          }
        }
      ]
    },
    {
      "metadata": {
        "id": "Q6_wXtjwQrsw",
        "colab_type": "text"
      },
      "cell_type": "markdown",
      "source": [
        "# **Prueba: Validar que el LGM cumple con el Teorema Fundamental de Valoración**\n",
        "\n",
        "1. Simulamos el Factor de descuento a futuro de acuerdo al LGM y normalizamos path a path por el numerario.\n",
        "2. Calculamos la media de estas realizaciones por fecha y comparamos contra el Factor de descuento hoy.\n",
        "\n"
      ]
    },
    {
      "metadata": {
        "id": "PEqakpLlQ0ER",
        "colab_type": "code",
        "outputId": "c8a2279b-a2f7-4258-bd5a-3c2fa8557ba5",
        "colab": {
          "base_uri": "https://localhost:8080/",
          "height": 486
        }
      },
      "cell_type": "code",
      "source": [
        "T = today + 20 * 365.25\n",
        "simul_dates = np.linspace(today, T, 20)\n",
        "\n",
        "nb_of_simuls = 1000000\n",
        "\n",
        "means = []\n",
        "std_dev = []\n",
        "\n",
        "# BUCLE SIMULACIÓN ...\n",
        "for date_i in simul_dates:\n",
        "  \n",
        "  N_0_1 = np.random.normal(size = nb_of_simuls)\n",
        "  zeta_i = ((date_i - today) / 365.25)  * (sigma ** 2)\n",
        "  X_at_date_i =  N_0_1 * np.sqrt(zeta_i)\n",
        "  \n",
        "  # Obtenemos FD con LGM B(date_i, T, x_date_i)\n",
        "  B_ti_T =  lgm_curve.get_zero_x(date_i, T, X_at_date_i)\n",
        "  N_ti = lgm_curve.numeraire(date_i, X_at_date_i)\n",
        "  \n",
        "  # FACTOR de descuento normalizado por numerario\n",
        "  DF_normalized = B_ti_T / N_ti\n",
        "  \n",
        "  # Calculamos la media ...\n",
        "  mean_ti = np.mean(DF_normalized)\n",
        "  means.append(mean_ti)\n",
        "  \n",
        "  # Calculamos intervalo de confianza ...\n",
        "  normal_percentile = sc.stats.norm.ppf(0.975)\n",
        "  std = np.std(DF_normalized) / np.sqrt(nb_of_simuls) * normal_percentile\n",
        "  std_dev.append(std)\n",
        "\n",
        "print('Means: ', means)\n",
        "  \n",
        "# PRINT \n",
        "\n",
        "B0T = lgm_curve.get_zero_x(today, T, 0)\n",
        "f, ax = plt.subplots()\n",
        "ax.plot(simul_dates, means, 'o', label = 'Discount Factor Normalized ...')  \n",
        "ax.plot(simul_dates, B0T + np.array(std_dev), '-', label = 'Upper Confidence Interval')  \n",
        "ax.plot(simul_dates, B0T - np.array(std_dev), '-', label = 'Lower Confidence Interval')\n"
      ],
      "execution_count": 0,
      "outputs": [
        {
          "output_type": "stream",
          "text": [
            "Means:  [0.6702282276608716, 0.6704386485524407, 0.6702235948083993, 0.6702741220626248, 0.6698732794544789, 0.670289836588832, 0.6700829465058684, 0.6696979797103987, 0.6709223402194363, 0.6697133693892345, 0.670363046781719, 0.6698439563034513, 0.6703689926529357, 0.6708346657869554, 0.6696922278446649, 0.670247203096954, 0.6704833231119826, 0.670859713385182, 0.6704251556057916, 0.6703737384582922]\n"
          ],
          "name": "stdout"
        },
        {
          "output_type": "execute_result",
          "data": {
            "text/plain": [
              "[<matplotlib.lines.Line2D at 0x7f8e7000e7f0>]"
            ]
          },
          "metadata": {
            "tags": []
          },
          "execution_count": 4
        },
        {
          "output_type": "display_data",
          "data": {
            "image/png": "[encoded data removed]",
            "text/plain": [
              "<Figure size 640x480 with 1 Axes>"
            ]
          },
          "metadata": {
            "tags": []
          }
        }
      ]
    },
    {
      "metadata": {
        "id": "5rTJWX2v4Xf-",
        "colab_type": "text"
      },
      "cell_type": "markdown",
      "source": [
        "## **1. Valorar Caplets de acuerdo al LGM en función del strike**"
      ]
    },
    {
      "metadata": {
        "id": "ri3CgwcZ4yKH",
        "colab_type": "code",
        "outputId": "72facfdd-6f25-4499-e44b-f49daeabd645",
        "colab": {
          "base_uri": "https://localhost:8080/",
          "height": 572
        }
      },
      "cell_type": "code",
      "source": [
        "\n",
        "from scipy.stats import norm\n",
        "\n",
        "# ----------------------------------------- | ----------\n",
        "\n",
        "# BLACK SCHOLES ..\n",
        "def LN_BlackScholes(S0, K, T, sigma):\n",
        "  d1 = (np.log(S0/K) + 0.5 *  (sigma**2) * T )/(np.sqrt(T) * sigma)\n",
        "  d2 = d1 - sigma * np.sqrt(T)\n",
        "  \n",
        "  return S0 * norm.cdf(d1) - K * norm.cdf(d2) \n",
        "\n",
        "def LN_BlackScholes_put(S0, K, T, sigma):\n",
        "  d1 = (np.log(S0/K) + 0.5 *  (sigma**2) * T )/(np.sqrt(T) * sigma)\n",
        "  d2 = d1 - sigma * np.sqrt(T)\n",
        "  \n",
        "  return -S0 * norm.cdf(-d1) + K * norm.cdf(-d2) \n",
        "\n",
        "\n",
        "\n",
        "# ----------------------------------------- | ----------\n",
        "\n",
        "\n",
        "# Definimos IR Curve (Curva original)  \n",
        "ir_curve = IRCurve(pillar_dates, dfs)\n",
        "\n",
        "# Parámetros del LGM\n",
        "kappa = 0.01\n",
        "sigma = 0.01  # SIGMA del proceso X\n",
        "lgm_curve = LGMCurve(ir_curve, kappa, sigma )\n",
        "\n",
        "# Definimos características del caplet ...\n",
        "mty_date = today + 5 * 365.25                   # t_j\n",
        "pymt_date = mty_date + 365                      # t_j_1\n",
        "Delta = (pymt_date - mty_date) / 360.0\n",
        "\n",
        "libor_today = (ir_curve.get_zero(today, mty_date) / ir_curve.get_zero(today, pymt_date) \\\n",
        "               - 1)/ Delta\n",
        "print('Forward libor: ', libor_today)\n",
        "\n",
        "# Calcular el precio para varios K de acuerdo al LGM ---------\n",
        "\n",
        "# 1. Calcular volatilidad de BS ...\n",
        "time_to_mty_date  = (mty_date - today) / 365.25\n",
        "time_to_pymt_date = (pymt_date - today) / 365.25\n",
        "\n",
        "sigma_BS = sigma * (H(kappa, time_to_pymt_date) - \\\n",
        "                    H(kappa, time_to_mty_date))\n",
        "\n",
        "print('Sigma que usamos en BS', sigma_BS)\n",
        "\n",
        "# Definimos rango de strikes\n",
        "lower_bound = -0.05\n",
        "upper_bound = 0.1\n",
        "number_of_strikes = 20\n",
        "K = np.linspace(lower_bound, upper_bound, number_of_strikes)\n",
        "\n",
        "# Calculamos el C(K) bajo el LGM\n",
        "premium = LN_BlackScholes(libor_today + 1.0 / Delta, K + 1.0/ Delta, \\\n",
        "                          (mty_date - today) / 365.25, sigma_BS)\n",
        "\n",
        "# Grafico las primas en función del strike ...\n",
        "f, ax = plt.subplots()\n",
        "ax.plot(K, premium, 'o', label = 'C(K)')\n",
        "\n",
        "print('premium', premium)\n",
        "\n",
        "\n",
        "# ---> Valoración de los caplets por MC\n",
        "\n",
        "# 1. Simulamos la x hasta mty ...\n",
        "nb_simul = 10000\n",
        "x_at_mty = np.random.normal(size = nb_simul) * \\\n",
        "              sigma * np.sqrt(time_to_mty_date) \n",
        "\n",
        "# 2. Evaluamos el pay-off normalizado por el numerario\n",
        "#    a vencimiento (L-K)^+ Delta\n",
        "\n",
        "# 2.1 Libor a fecha de mty date\n",
        "libor_at_mty_date = (1.0 / lgm_curve.get_zero_x(mty_date, pymt_date, \\\n",
        "                                                x_at_mty)-1)/Delta\n",
        "\n",
        "# 2.2 Calculamos el numerario a la fecha de pago\n",
        "x_at_pymt_date = x_at_mty + np.random.normal(size = nb_simul) * \\\n",
        "                            sigma * np.sqrt(time_to_pymt_date - time_to_mty_date)\n",
        "                            \n",
        "numeraire_at_pymt_date = lgm_curve.numeraire(pymt_date, x_at_pymt_date)\n",
        "\n",
        "# Evaluamos el payoff para cada strike\n",
        "premium_MC = np.zeros(len(K))\n",
        "for i in range(len(K)):\n",
        "  \n",
        "  payoff_normalized = np.maximum(libor_at_mty_date - K[i], 0.0) * Delta\n",
        "  payoff_normalized /= numeraire_at_pymt_date\n",
        "  \n",
        "  mean = np.mean(payoff_normalized)\n",
        "  premium_MC[i] = mean\n",
        "\n",
        "\n",
        "# Graficamos primas de MC para compararlas con las analíticas\n",
        "df_at_pymt_date = ir_curve.get_zero(today, pymt_date)\n",
        "ax.plot(K, premium_MC / df_at_pymt_date, 'x', label = 'MC Premium')\n",
        "  \n",
        "  \n",
        "ax.legend()\n",
        "f.set_size_inches(6, 4)\n",
        "\n",
        "print('Premium MC', premium_MC)  \n",
        "  "
      ],
      "execution_count": 0,
      "outputs": [
        {
          "output_type": "stream",
          "text": [
            "Forward libor:  0.01595895511780683\n",
            "Sigma que usamos en BS 0.009458444867481042\n",
            "premium [6.59624948e-02 5.80787710e-02 5.02211112e-02 4.24339069e-02\n",
            " 3.48095065e-02 2.75078649e-02 2.07571398e-02 1.48188249e-02\n",
            " 9.91896982e-03 6.17344328e-03 3.54723914e-03 1.87074073e-03\n",
            " 9.01400215e-04 3.95493172e-04 1.57637796e-04 5.69949774e-05\n",
            " 1.86777554e-05 5.54654712e-06 1.49285837e-06 3.64374960e-07]\n",
            "Premium MC [6.27119139e-02 5.52388008e-02 4.77881618e-02 4.03957909e-02\n",
            " 3.31669057e-02 2.62198284e-02 1.97652058e-02 1.40923948e-02\n",
            " 9.46171583e-03 5.93993266e-03 3.46608271e-03 1.85938475e-03\n",
            " 9.16227546e-04 4.07584333e-04 1.64733106e-04 5.90902351e-05\n",
            " 1.78459381e-05 5.05648939e-06 1.59319299e-06 3.92415200e-07]\n"
          ],
          "name": "stdout"
        },
        {
          "output_type": "display_data",
          "data": {
            "image/png": "[encoded data removed]",
            "text/plain": [
              "<Figure size 600x400 with 1 Axes>"
            ]
          },
          "metadata": {
            "tags": []
          }
        }
      ]
    },
    {
      "metadata": {
        "id": "2kGPFa06M_tS",
        "colab_type": "text"
      },
      "cell_type": "markdown",
      "source": [
        "**Calculamos la función de densidad del libor a partir de precios de Caplets**"
      ]
    },
    {
      "metadata": {
        "id": "_940Nw4TNLvU",
        "colab_type": "code",
        "outputId": "85ca4ff9-688f-4323-be4d-2b3406f16838",
        "colab": {
          "base_uri": "https://localhost:8080/",
          "height": 449
        }
      },
      "cell_type": "code",
      "source": [
        "lower_bound = -0.25\n",
        "upper_bound = 0.25\n",
        "K = np.linspace(lower_bound, upper_bound, 100)\n",
        "\n",
        "# Calculamos el C(K) bajo el LGM\n",
        "premium = LN_BlackScholes(libor_today + 1.0 / Delta, K + 1.0/ Delta, \\\n",
        "                          (mty_date - today) / 365.25, sigma_BS)\n",
        "\n",
        "dK = K[1] - K[0]\n",
        "\n",
        "# Calculamos la 1a derivada dC(K)dK = [C(K + dK) - C(k)] / dK\n",
        "der_right = (premium[1:]-premium[0:-1]) / dK\n",
        "\n",
        "\n",
        "f, ax = plt.subplots()\n",
        "ax.plot(K[0:-1], -der_right, 'o', label = 'Derivada de C(K)')\n",
        "\n",
        "# Calculamos la función de densidad ..\n",
        "second_der = (premium[0:-2] - 2 * premium[1:-1] + premium[2:]) / (dK**2)\n",
        "ax.plot(K[0:-2], second_der, '-', label = 'Density function')\n"
      ],
      "execution_count": 0,
      "outputs": [
        {
          "output_type": "execute_result",
          "data": {
            "text/plain": [
              "[<matplotlib.lines.Line2D at 0x7f8e72024710>]"
            ]
          },
          "metadata": {
            "tags": []
          },
          "execution_count": 6
        },
        {
          "output_type": "display_data",
          "data": {
            "image/png": "[encoded data removed]",
            "text/plain": [
              "<Figure size 640x480 with 1 Axes>"
            ]
          },
          "metadata": {
            "tags": []
          }
        }
      ]
    },
    {
      "metadata": {
        "id": "fYFLW-9STW4C",
        "colab_type": "text"
      },
      "cell_type": "markdown",
      "source": [
        "**Invertimos las primas del caplet para sacarnos el smile de Volatilidad** "
      ]
    },
    {
      "metadata": {
        "id": "7bBeb1q2TloN",
        "colab_type": "code",
        "outputId": "954e9a44-a56a-4575-c85c-17e2ecb5eb59",
        "colab": {
          "base_uri": "https://localhost:8080/",
          "height": 516
        }
      },
      "cell_type": "code",
      "source": [
        "from scipy import optimize\n",
        "\n",
        "\n",
        "lower_bound = 0.03\n",
        "upper_bound = 0.1\n",
        "K = np.linspace(lower_bound, upper_bound, 20)\n",
        "\n",
        "# Calculamos el C(K) bajo el LGM\n",
        "premium = LN_BlackScholes(libor_today + 1.0 / Delta, K + 1.0/ Delta, \\\n",
        "                          (mty_date - today) / 365.25, sigma_BS)\n",
        "\n",
        "implicit_vols = np.zeros(len(K))\n",
        "for i in range(len(K)):\n",
        "  \n",
        "  premium_lgm = premium[i]\n",
        "  \n",
        "  f_obj = lambda vol_BS : LN_BlackScholes(libor_today , K[i] , \\\n",
        "                                          (mty_date - today) / 365.25, vol_BS) - premium_lgm\n",
        "  \n",
        "  implicit_vols[i] = optimize.newton(f_obj, .25)\n",
        "  \n",
        "\n",
        "  \n",
        "print(implicit_vols)\n",
        "  \n",
        "# Graficamos el smile de volatilidad\n",
        "f, ax = plt.subplots()\n",
        "ax.plot(K, implicit_vols, 'o', label = 'Smile de volatilidad (LGM)')\n",
        "\n"
      ],
      "execution_count": 0,
      "outputs": [
        {
          "output_type": "stream",
          "text": [
            "[0.44698125 0.4176596  0.39293868 0.37173626 0.35329705 0.33707532\n",
            " 0.32266539 0.30975847 0.29811471 0.28754458 0.27789603 0.26904545\n",
            " 0.2608912  0.2533488  0.24634739 0.23982704 0.23373665 0.22803237\n",
            " 0.22267632 0.21763558]\n"
          ],
          "name": "stdout"
        },
        {
          "output_type": "execute_result",
          "data": {
            "text/plain": [
              "[<matplotlib.lines.Line2D at 0x7f8e6ff332b0>]"
            ]
          },
          "metadata": {
            "tags": []
          },
          "execution_count": 7
        },
        {
          "output_type": "display_data",
          "data": {
            "image/png": "[encoded data removed]",
            "text/plain": [
              "<Figure size 640x480 with 1 Axes>"
            ]
          },
          "metadata": {
            "tags": []
          }
        }
      ]
    },
    {
      "metadata": {
        "id": "AwHLZl27r9YH",
        "colab_type": "text"
      },
      "cell_type": "markdown",
      "source": [
        "## **2. Valorar IRS de acuerdo al LGM** "
      ]
    },
    {
      "metadata": {
        "id": "6jeiCh2s65mc",
        "colab_type": "text"
      },
      "cell_type": "markdown",
      "source": [
        "![texto alternativo](https://docs.google.com/a/bbva.com/drawings/d/e/2PACX-1vRbaWl-u8mzZt3u8xsCl-f6GKaTMlz_wBIR4Qft036A-OzLeFHtNboK3arMQfaDb7wSQ_C1dbOxi_1I/pub?w=960&h=720)"
      ]
    },
    {
      "metadata": {
        "id": "XTpmqScD7dnf",
        "colab_type": "text"
      },
      "cell_type": "markdown",
      "source": [
        "1. Creamos clase de definición IRS\n",
        "2. Función que valora el IRS de acuerdo a LGM"
      ]
    },
    {
      "metadata": {
        "colab_type": "code",
        "id": "SUB3ErFPB3Oj",
        "colab": {}
      },
      "cell_type": "code",
      "source": [
        "today = 43547 # 23/3/2019\n",
        "last_date = today + 365.25 * 25\n",
        "\n",
        "# Defino las fechas pilar para los factores de desceunto ...\n",
        "pillar_dates = np.linspace(today, last_date, 50)\n",
        "\n",
        "# Defino los rates como curva no plana\n",
        "dates_rates = np.array([today, today + 365, today + 365 * 5, today + 365 * 10, \\\n",
        "                       today +365 * 20, today + 365 * 30, today + 365 * 50])\n",
        "rates = np.array([0.0, 0.005, 0.01, 0.015, 0.02, 0.025, 0.028])\n",
        "\n",
        "# Calculo los FD de acuerdo a esa estructura no plana de tipos\n",
        "dfs = np.zeros(len(pillar_dates))\n",
        "rate_interp = interp1d(dates_rates, rates, kind = 'linear')\n",
        "for i in range( len(pillar_dates)):\n",
        "  rate = rate_interp(pillar_dates[i])\n",
        "  dfs[i] = (np.exp(-rate * (pillar_dates[i] - today)/ 365.25))\n",
        "\n",
        "# Definimos IR Curve (Curva original)  \n",
        "ir_curve = IRCurve(pillar_dates, dfs)\n",
        "\n",
        "# Probar funcionamiento del LGM\n",
        "kappa = 0.01\n",
        "sigma = 0.005\n",
        "lgm_curve = LGMCurve(ir_curve, kappa, sigma )\n",
        "\n"
      ],
      "execution_count": 0,
      "outputs": []
    },
    {
      "metadata": {
        "id": "IGcZc8clYMR3",
        "colab_type": "code",
        "outputId": "a7da6ec8-045b-4ac3-f7ff-96430ccf8d51",
        "colab": {
          "base_uri": "https://localhost:8080/",
          "height": 50
        }
      },
      "cell_type": "code",
      "source": [
        "\n",
        "# CLASE IRS\n",
        "class IRS:\n",
        "  \n",
        "  def __init__(self, start_date, tenor, freq, fixed_coupon):\n",
        "    self.start_date = start_date\n",
        "    self.end_date = start_date + tenor * 365.25   ###\n",
        "    self.fix_dates = np.linspace(self.start_date, self.end_date, tenor * freq) \n",
        "    self.fixed_coupon = fixed_coupon\n",
        "    self.dcf = (self.fix_dates[1:] - self.fix_dates[0:-1])/360 # Act/360\n",
        "    self.fix_dates = self.fix_dates[1:]\n",
        "\n",
        "\n",
        "    \n",
        "# Función que valora el IRS de acuerdo al LGM\n",
        "def LGM_IRS_price(value_date, irs, lgm_curve, x_at_value_date):\n",
        "  \n",
        "  # Pata Flotante\n",
        "  floating_leg = lgm_curve.get_zero_x(value_date, irs.start_date, x_at_value_date) - \\\n",
        "                 lgm_curve.get_zero_x(value_date, irs.end_date, x_at_value_date) \n",
        "    \n",
        "  # Pata Fija\n",
        "  fixed_leg = 0\n",
        "  for i in range(len(irs.fix_dates)):\n",
        "    fixed_leg += irs.dcf[i] * lgm_curve.get_zero_x(value_date, \\\n",
        "                                                   irs.fix_dates[i], x_at_value_date)\n",
        "  \n",
        "  fixed_leg *= irs.fixed_coupon\n",
        "  \n",
        "  return (floating_leg - fixed_leg)\n",
        "\n",
        "\n",
        "# Función de valoración del swaption\n",
        "def LGM_Swaption_Price(value_date, irs, lgm_curve):\n",
        "  \n",
        "  # 1. Calculamos x_star tal que IRS(T, x_star) = 0 \n",
        "  T_mat = irs.start_date\n",
        "  f_obj = lambda x : LGM_IRS_price(T_mat, irs, lgm_curve, x)\n",
        "  x_star = optimize.newton(f_obj, 0)\n",
        "  \n",
        "  # Función anidada que calcula la put sobre ZC -------------\n",
        "  def ZC_put(T_j):\n",
        "    # Valoramos la última put sobre ZC\n",
        "    fwd = lgm_curve.get_zero_x(value_date, T_j, 0) / \\\n",
        "          lgm_curve.get_zero_x(value_date, irs.start_date, 0)\n",
        "\n",
        "    # strike B(T, T_N, x_star)\n",
        "    strike = lgm_curve.get_zero_x(irs.start_date, T_j, x_star)\n",
        "\n",
        "    # vol = (H_T - H_T_N) sigma_x\n",
        "    vol = H(lgm_curve._kappa, (irs.start_date - value_date) / 365.25) - \\\n",
        "          H(lgm_curve._kappa, (T_j - value_date) / 365.25)\n",
        "    \n",
        "    vol *= lgm_curve._sigma\n",
        "    \n",
        "    vol = np.abs(vol)\n",
        "\n",
        "    # Llamamos BS\n",
        "    last_put = LN_BlackScholes_put(fwd, strike, \\\n",
        "                               (irs.start_date - value_date)/365.25, vol)\n",
        "    #last_put = last_call - (fwd - strike)\n",
        "    \n",
        "    return last_put\n",
        "  # ------------------------------------------------------------\n",
        "  \n",
        "  # Iteramos por todas las fechas de pago del IRS y calculamos \\\n",
        "  # las puts sobre los ZC.\n",
        "  \n",
        "  swaption = 0 \n",
        "  for i in range(len(irs.fix_dates)):\n",
        "    # Calculate put\n",
        "    put = ZC_put(irs.fix_dates[i])\n",
        "    \n",
        "    # Calculate K Delta o (1 + K Delta)\n",
        "    notional = irs.dcf[i] * irs.fixed_coupon\n",
        "    \n",
        "    #if i == len(irs.fix_dates):\n",
        "    if i == len(irs.fix_dates)-1:\n",
        "      notional += 1 \n",
        "      \n",
        "    # Actualizamos el precio del swaption\n",
        "    swaption += notional * put\n",
        "  \n",
        "  return swaption\n",
        "  \n",
        "  \n",
        "# ---------------------------------------------------------------\n",
        "  \n",
        "# prueba de la clase\n",
        "T = today + 365.25 * 10\n",
        "irs = IRS(T, 10, 2, 0.0246)\n",
        "\n",
        "# Probamos la clase pricer de swaption\n",
        "swaption_premium = LGM_Swaption_Price(today, irs, lgm_curve)\n",
        "\n",
        "print('Swaption premium', swaption_premium)\n",
        "\n",
        "\n",
        "# CUADRE POR SIMULACIÓN MC ....\n",
        "x_at_T = np.random.normal(size = 10000000) * lgm_curve._sigma * \\\n",
        "            np.sqrt((T - today) / 365.25)\n",
        "\n",
        "\n",
        "\n",
        "\n",
        "\n",
        "irs_at_T = LGM_IRS_price(T, irs, lgm_curve, x_at_T)\n",
        "\n",
        "\n",
        "\n",
        "irs_at_T /= lgm_curve.numeraire(T, x_at_T)\n",
        "\n",
        "\n",
        "premium_MC = np.mean(np.maximum(irs_at_T,0))/ ir_curve.get_zero(today, T) \n",
        "\n",
        "#premium_MC = np.mean(irs_at_T)/ ir_curve.get_zero(today, T) \n",
        "\n",
        "print('Swaption premium MC', premium_MC)\n"
      ],
      "execution_count": 0,
      "outputs": [
        {
          "output_type": "stream",
          "text": [
            "Swaption premium 0.04865586028252534\n",
            "Swaption premium MC 0.048651388451584836\n"
          ],
          "name": "stdout"
        }
      ]
    },
    {
      "metadata": {
        "id": "3w8zNOEv071X",
        "colab_type": "code",
        "outputId": "db2ffc07-fe90-4b1a-8217-bc379153f3a9",
        "colab": {
          "base_uri": "https://localhost:8080/",
          "height": 33
        }
      },
      "cell_type": "code",
      "source": [
        "premium_MC/swaption_premium"
      ],
      "execution_count": 0,
      "outputs": [
        {
          "output_type": "execute_result",
          "data": {
            "text/plain": [
              "0.9999080926549333"
            ]
          },
          "metadata": {
            "tags": []
          },
          "execution_count": 10
        }
      ]
    },
    {
      "metadata": {
        "id": "__YnZYPx0_fV",
        "colab_type": "code",
        "outputId": "3eebfdf3-7bcd-416c-d79b-74ba59f5970b",
        "colab": {
          "base_uri": "https://localhost:8080/",
          "height": 33
        }
      },
      "cell_type": "code",
      "source": [
        "H(lgm_curve._kappa, (irs.fix_dates[0] - today) / 365.25)"
      ],
      "execution_count": 0,
      "outputs": [
        {
          "output_type": "execute_result",
          "data": {
            "text/plain": [
              "9.991237374774064"
            ]
          },
          "metadata": {
            "tags": []
          },
          "execution_count": 11
        }
      ]
    },
    {
      "metadata": {
        "id": "1ad-2ZyM1rZ0",
        "colab_type": "code",
        "outputId": "3a3db1bb-6569-427f-8197-6ca87dcdc3c1",
        "colab": {
          "base_uri": "https://localhost:8080/",
          "height": 161
        }
      },
      "cell_type": "code",
      "source": [
        "np.mean(irs_at_T_plus)"
      ],
      "execution_count": 0,
      "outputs": [
        {
          "output_type": "error",
          "ename": "NameError",
          "evalue": "ignored",
          "traceback": [
            "\u001b[0;31m---------------------------------------------------------------------------\u001b[0m",
            "\u001b[0;31mNameError\u001b[0m                                 Traceback (most recent call last)",
            "\u001b[0;32m<ipython-input-12-170f7a819d40>\u001b[0m in \u001b[0;36m<module>\u001b[0;34m()\u001b[0m\n\u001b[0;32m----> 1\u001b[0;31m \u001b[0mnp\u001b[0m\u001b[0;34m.\u001b[0m\u001b[0mmean\u001b[0m\u001b[0;34m(\u001b[0m\u001b[0mirs_at_T_plus\u001b[0m\u001b[0;34m)\u001b[0m\u001b[0;34m\u001b[0m\u001b[0;34m\u001b[0m\u001b[0m\n\u001b[0m",
            "\u001b[0;31mNameError\u001b[0m: name 'irs_at_T_plus' is not defined"
          ]
        }
      ]
    },
    {
      "metadata": {
        "id": "PoaYhfvWLHJy",
        "colab_type": "code",
        "outputId": "6c161f35-bf49-4c40-d880-d26831f5a08e",
        "colab": {
          "base_uri": "https://localhost:8080/",
          "height": 33
        }
      },
      "cell_type": "code",
      "source": [
        "H(0.01,0)"
      ],
      "execution_count": 0,
      "outputs": [
        {
          "output_type": "execute_result",
          "data": {
            "text/plain": [
              "0.0"
            ]
          },
          "metadata": {
            "tags": []
          },
          "execution_count": 17
        }
      ]
    },
    {
      "metadata": {
        "id": "_eMpD01h1vXz",
        "colab_type": "code",
        "outputId": "eb71e141-2896-46f4-9d88-72578a4fc0a4",
        "colab": {
          "base_uri": "https://localhost:8080/",
          "height": 449
        }
      },
      "cell_type": "code",
      "source": [
        "plt.plot(np.linspace(-100,100,100),H(0.01,np.linspace(-100,100,100)),'o')"
      ],
      "execution_count": 0,
      "outputs": [
        {
          "output_type": "execute_result",
          "data": {
            "text/plain": [
              "[<matplotlib.lines.Line2D at 0x7f8e6fbc3b38>]"
            ]
          },
          "metadata": {
            "tags": []
          },
          "execution_count": 26
        },
        {
          "output_type": "display_data",
          "data": {
            "image/png": "[encoded data removed]",
            "text/plain": [
              "<Figure size 640x480 with 1 Axes>"
            ]
          },
          "metadata": {
            "tags": []
          }
        }
      ]
    },
    {
      "metadata": {
        "id": "yKSPDivd13Kb",
        "colab_type": "code",
        "colab": {}
      },
      "cell_type": "code",
      "source": [
        "lgm_curve = LGMCurve(ir_curve, kappa, sigma )"
      ],
      "execution_count": 0,
      "outputs": []
    },
    {
      "metadata": {
        "id": "qkNbhDGN2Oc0",
        "colab_type": "code",
        "colab": {}
      },
      "cell_type": "code",
      "source": [
        "  # Pata Flotante\n",
        "  floating_leg = lgm_curve.get_zero_x(today, irs.start_date, 0) - \\\n",
        "                 lgm_curve.get_zero_x(today, irs.end_date, 0) \n",
        "    \n",
        "  # Pata Fija\n",
        "  fixed_leg = 0\n",
        "  for i in range(len(irs.fix_dates)):\n",
        "    fixed_leg += irs.dcf[i] * lgm_curve.get_zero_x(today, \\\n",
        "                                                   irs.fix_dates[i], 0)\n",
        "  \n",
        "  fixed_leg \n",
        "  \n",
        "  floating_leg / fixed_leg"
      ],
      "execution_count": 0,
      "outputs": []
    },
    {
      "metadata": {
        "id": "hG2x8YjrFa_7",
        "colab_type": "code",
        "colab": {}
      },
      "cell_type": "code",
      "source": [
        "lgm_curve._sigma"
      ],
      "execution_count": 0,
      "outputs": []
    },
    {
      "metadata": {
        "id": "X4_iiuc-He57",
        "colab_type": "code",
        "colab": {}
      },
      "cell_type": "code",
      "source": [
        ""
      ],
      "execution_count": 0,
      "outputs": []
    }
  ]
}